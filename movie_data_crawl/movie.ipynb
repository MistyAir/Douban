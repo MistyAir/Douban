{
 "cells": [
  {
   "cell_type": "code",
   "execution_count": 89,
   "metadata": {},
   "outputs": [],
   "source": [
    "import requests\n",
    "from bs4 import BeautifulSoup\n",
    "import pandas as pd\n",
    "import os\n",
    "import random\n",
    "from time import sleep"
   ]
  },
  {
   "cell_type": "code",
   "execution_count": 90,
   "metadata": {},
   "outputs": [],
   "source": [
    "h1 = {\n",
    "'Cookie': 'bid=pWHRXljqlnw; _pk_id.100001.4cf6=1889b80fc0472f29.1700409010.; __utmc=30149280; __utmz=30149280.1700409010.1.1.utmcsr=google|utmccn=(organic)|utmcmd=organic|utmctr=(not%20provided); __utmc=223695111; __utmz=223695111.1700409010.1.1.utmcsr=google|utmccn=(organic)|utmcmd=organic|utmctr=(not%20provided); _ga=GA1.1.5521471.1700409010; ll=\"118282\"; __utma=30149280.5521471.1700409010.1700409010.1700411523.2; __utma=223695111.1586942768.1700409010.1700409010.1700411523.2; _vwo_uuid_v2=D6D254F941FF811FF3C5BC45942B6A3E4|40c2965b4880f3c13ff94c0a7cdc0e98; _ga_RXNMP372GL=GS1.1.1700413503.2.0.1700413503.60.0.0; _pk_ref.100001.4cf6=%5B%22%22%2C%22%22%2C1700552142%2C%22https%3A%2F%2Fwww.google.com%2F%22%5D; _pk_ses.100001.4cf6=1; ap_v=0,6.0; dbcl2=\"276019366:j+LEQsNs20s\"; ck=_dp9; frodotk_db=\"98c409fbb250fd78ca4c1df316f2f868\"; push_noty_num=0; push_doumail_num=0',\n",
    "'Accept': 'text/html,application/xhtml+xml,application/xml;q=0.9,*/*;q=0.8',\n",
    "'Accept-Encoding': 'gzip, deflate',\n",
    "'Host': 'movie.douban.com',\n",
    "'User-Agent': 'Mozilla/5.0 (Macintosh; Intel Mac OS X 10_15_7) AppleWebKit/605.1.15 (KHTML, like Gecko) Version/15.4 Safari/605.1.15',\n",
    "'Accept-Language': 'zh-CN,zh-Hans;q=0.9',\n",
    "'Connection': 'keep-alive'\n",
    "}"
   ]
  },
  {
   "cell_type": "code",
   "execution_count": 108,
   "metadata": {},
   "outputs": [],
   "source": [
    "ip_list = []\n",
    "\n",
    "with open('proxy.txt', 'r') as f:\n",
    "    for line in f.readlines():\n",
    "        ip_list.append(line.strip())\n",
    "\n",
    "#获取ip代理\n",
    "def getip():\n",
    "    proxy= ip_list[random.randint(0,len(ip_list)-1)]\n",
    "    proxy = proxy.replace(\"\\n\",\"\")\n",
    "    proxies={\n",
    "        'http':'http://'+str(proxy),\n",
    "        #'https':'https://'+str(proxy),\n",
    "    }\n",
    "    return proxies"
   ]
  },
  {
   "cell_type": "code",
   "execution_count": 91,
   "metadata": {},
   "outputs": [],
   "source": [
    "def trans_star(v_str):\n",
    "    v_str = v_str[0]\n",
    "    if v_str == 'allstar10':\n",
    "        return '1'\n",
    "    elif v_str == 'allstar20':\n",
    "        return '2'\n",
    "    elif v_str == 'allstar30':\n",
    "        return '3'\n",
    "    elif v_str == 'allstar40':\n",
    "        return '4'\n",
    "    elif v_str == 'allstar50':\n",
    "        return '5'\n",
    "    else:\n",
    "        return 'NaN'"
   ]
  },
  {
   "cell_type": "code",
   "execution_count": 113,
   "metadata": {},
   "outputs": [],
   "source": [
    "def get_short(movie_url, max_page, data_path, file_name):\n",
    "    df = pd.DataFrame()\n",
    "    path =data_path + file_name + '.csv'\n",
    "    if os.path.exists(path):\n",
    "        print(\"file exists\")\n",
    "        return 0\n",
    "    for i in range(0, max_page):\n",
    "        url = movie_url + 'comments?start=' + str(i*20) + '&limit=20&status=P&sort=new_score'\n",
    "        res = requests.get(url, headers=h1, verify=False, proxies=getip())\n",
    "        soup = BeautifulSoup(res.text, 'html.parser')\n",
    "        user_names = soup.find_all('span', class_='comment-info')\n",
    "        user_names = [i.find('a').text for i in user_names]\n",
    "        stars = soup.find_all('span', class_='comment-info')\n",
    "        stars = [i.find_all('span')[1]['class'] for i in stars]\n",
    "        stars = [trans_star(i) for i in stars]\n",
    "        comment_times = soup.find_all('span', class_='comment-time')\n",
    "        comment_times = [i.text.strip() for i in comment_times]\n",
    "        geo_ips = soup.find_all('span', class_='comment-location')\n",
    "        geo_ips = [i.text for i in geo_ips]\n",
    "        votes = soup.find_all('span', class_='votes vote-count')\n",
    "        votes = [i.text for i in votes]\n",
    "        shorts = soup.find_all('span', class_='short')\n",
    "        shorts = [i.text for i in shorts]\n",
    "        shorts = [i.replace(',', '，').replace(' ', '').replace('\\n', '').replace('\\r', '') for i in shorts]\n",
    "\n",
    "        pd_data = {'user_name': user_names, 'star': stars, 'comment_time': comment_times, 'geo_ip': geo_ips, 'vote': votes, 'short': shorts}\n",
    "        df = pd.concat([df, pd.DataFrame(pd_data)], axis=0)\n",
    "        print('Page ' + str(i+1) + ' is done!')\n",
    "\n",
    "    if len(df) < 10:\n",
    "        print('No data!')\n",
    "        return 1\n",
    "\n",
    "    df.to_csv(path, index=False)\n",
    "    return 0"
   ]
  },
  {
   "cell_type": "code",
   "execution_count": 114,
   "metadata": {},
   "outputs": [
    {
     "name": "stderr",
     "output_type": "stream",
     "text": [
      "c:\\Users\\shaoh\\anaconda3\\Lib\\site-packages\\urllib3\\connectionpool.py:1061: InsecureRequestWarning: Unverified HTTPS request is being made to host '127.0.0.1'. Adding certificate verification is strongly advised. See: https://urllib3.readthedocs.io/en/1.26.x/advanced-usage.html#ssl-warnings\n",
      "  warnings.warn(\n"
     ]
    },
    {
     "name": "stdout",
     "output_type": "stream",
     "text": [
      "Page 1 is done!\n"
     ]
    },
    {
     "name": "stderr",
     "output_type": "stream",
     "text": [
      "c:\\Users\\shaoh\\anaconda3\\Lib\\site-packages\\urllib3\\connectionpool.py:1061: InsecureRequestWarning: Unverified HTTPS request is being made to host '127.0.0.1'. Adding certificate verification is strongly advised. See: https://urllib3.readthedocs.io/en/1.26.x/advanced-usage.html#ssl-warnings\n",
      "  warnings.warn(\n"
     ]
    },
    {
     "name": "stdout",
     "output_type": "stream",
     "text": [
      "Page 2 is done!\n"
     ]
    },
    {
     "data": {
      "text/plain": [
       "0"
      ]
     },
     "execution_count": 114,
     "metadata": {},
     "output_type": "execute_result"
    }
   ],
   "source": [
    "#test\n",
    "movie_url = 'https://movie.douban.com/subject/35267224/'\n",
    "max_page = 2\n",
    "data_path = './data/'\n",
    "file_name = 'test'\n",
    "get_short(movie_url, max_page, data_path, file_name)"
   ]
  },
  {
   "cell_type": "code",
   "execution_count": 133,
   "metadata": {},
   "outputs": [
    {
     "name": "stdout",
     "output_type": "stream",
     "text": [
      "[{'Unnamed: 0': 0, '电影名称': '肖申克的救赎\\xa0/\\xa0The Shawshank Redemption\\xa0/\\xa0月黑高飞(港)  /  刺激1995(台)', '电影链接': 'https://movie.douban.com/subject/1292052/', '电影评分': 9.7, '评分人数': 2944185, '导演': '导演: 弗兰克·德拉邦特 Frank Darabont', '主演': '主演: 蒂姆·罗宾斯 Tim Robbins /...', '上映年份': '1994', '国家': '美国', '类型': '犯罪 剧情'}, {'Unnamed: 0': 1, '电影名称': '霸王别姬\\xa0/\\xa0再见，我的妾  /  Farewell My Concubine', '电影链接': 'https://movie.douban.com/subject/1291546/', '电影评分': 9.6, '评分人数': 2175220, '导演': '导演: 陈凯歌 Kaige Chen', '主演': '主演: 张国荣 Leslie Cheung / 张丰毅 Fengyi Zha...', '上映年份': '1993', '国家': '中国大陆 中国香港', '类型': '剧情 爱情 同性'}, {'Unnamed: 0': 2, '电影名称': '阿甘正传\\xa0/\\xa0Forrest Gump\\xa0/\\xa0福雷斯特·冈普', '电影链接': 'https://movie.douban.com/subject/1292720/', '电影评分': 9.5, '评分人数': 2194424, '导演': '导演: 罗伯特·泽米吉斯 Robert Zemeckis', '主演': '主演: 汤姆·汉克斯 Tom Hanks / ...', '上映年份': '1994', '国家': '美国', '类型': '剧情 爱情'}, {'Unnamed: 0': 3, '电影名称': '泰坦尼克号\\xa0/\\xa0Titanic\\xa0/\\xa0铁达尼号(港 / 台)', '电影链接': 'https://movie.douban.com/subject/1292722/', '电影评分': 9.5, '评分人数': 2228212, '导演': '导演: 詹姆斯·卡梅隆 James Cameron', '主演': '主演: 莱昂纳多·迪卡普里奥 Leonardo...', '上映年份': '1997', '国家': '美国 墨西哥', '类型': '剧情 爱情 灾难'}, {'Unnamed: 0': 4, '电影名称': '这个杀手不太冷\\xa0/\\xa0Léon\\xa0/\\xa0终极追杀令(台)  /  杀手莱昂', '电影链接': 'https://movie.douban.com/subject/1295644/', '电影评分': 9.4, '评分人数': 2326510, '导演': '导演: 吕克·贝松 Luc Besson', '主演': '主演: 让·雷诺 Jean Reno / 娜塔莉·波特曼 ...', '上映年份': '1994', '国家': '法国 美国', '类型': '剧情 动作 犯罪'}, {'Unnamed: 0': 5, '电影名称': '千与千寻\\xa0/\\xa0千と千尋の神隠し\\xa0/\\xa0神隐少女(台)  /  千与千寻的神隐', '电影链接': 'https://movie.douban.com/subject/1291561/', '电影评分': 9.4, '评分人数': 2278107, '导演': '导演: 宫崎骏 Hayao Miyazaki', '主演': '主演: 柊瑠美 Rumi Hîragi / 入野自由 Miy...', '上映年份': '2001', '国家': '日本', '类型': '剧情 动画 奇幻'}, {'Unnamed: 0': 6, '电影名称': '美丽人生\\xa0/\\xa0La vita è bella\\xa0/\\xa0一个快乐的传说(港)  /  Life Is Beautiful', '电影链接': 'https://movie.douban.com/subject/1292063/', '电影评分': 9.5, '评分人数': 1345949, '导演': '导演: 罗伯托·贝尼尼 Roberto Benigni', '主演': '主演: 罗伯托·贝尼尼 Roberto Beni...', '上映年份': '1997', '国家': '意大利', '类型': '剧情 喜剧 爱情 战争'}, {'Unnamed: 0': 7, '电影名称': '星际穿越\\xa0/\\xa0Interstellar\\xa0/\\xa0星际启示录(港)  /  星际效应(台)', '电影链接': 'https://movie.douban.com/subject/1889243/', '电影评分': 9.4, '评分人数': 1883810, '导演': '导演: 克里斯托弗·诺兰 Christopher Nolan', '主演': '主演: 马修·麦康纳 Matthew Mc...', '上映年份': '2014', '国家': '美国 英国 加拿大', '类型': '剧情 科幻 冒险'}, {'Unnamed: 0': 8, '电影名称': '盗梦空间\\xa0/\\xa0Inception\\xa0/\\xa0潜行凶间(港)  /  全面启动(台)', '电影链接': 'https://movie.douban.com/subject/3541415/', '电影评分': 9.4, '评分人数': 2098673, '导演': '导演: 克里斯托弗·诺兰 Christopher Nolan', '主演': '主演: 莱昂纳多·迪卡普里奥 Le...', '上映年份': '2010', '国家': '美国 英国', '类型': '剧情 科幻 悬疑 冒险'}, {'Unnamed: 0': 9, '电影名称': \"辛德勒的名单\\xa0/\\xa0Schindler's List\\xa0/\\xa0舒特拉的名单(港)  /  辛德勒名单\", '电影链接': 'https://movie.douban.com/subject/1295124/', '电影评分': 9.5, '评分人数': 1136757, '导演': '导演: 史蒂文·斯皮尔伯格 Steven Spielberg', '主演': '主演: 连姆·尼森 Liam Neeson...', '上映年份': '1993', '国家': '美国', '类型': '剧情 历史 战争'}, {'Unnamed: 0': 10, '电影名称': '楚门的世界\\xa0/\\xa0The Truman Show\\xa0/\\xa0真人Show(港)  /  真人戏', '电影链接': 'https://movie.douban.com/subject/1292064/', '电影评分': 9.4, '评分人数': 1746693, '导演': '导演: 彼得·威尔 Peter Weir', '主演': '主演: 金·凯瑞 Jim Carrey / 劳拉·琳妮 Lau...', '上映年份': '1998', '国家': '美国', '类型': '剧情 科幻'}, {'Unnamed: 0': 11, '电影名称': \"忠犬八公的故事\\xa0/\\xa0Hachi: A Dog's Tale\\xa0/\\xa0秋田犬八千(港)  /  忠犬小八(台)\", '电影链接': 'https://movie.douban.com/subject/3011091/', '电影评分': 9.4, '评分人数': 1416299, '导演': '导演: 莱塞·霍尔斯道姆 Lasse Hallström', '主演': '主演: 理查·基尔 Richard Ger...', '上映年份': '2009', '国家': '美国 英国', '类型': '剧情'}, {'Unnamed: 0': 12, '电影名称': \"海上钢琴师\\xa0/\\xa0La leggenda del pianista sull'oceano\\xa0/\\xa0声光伴我飞(港)  /  一九零零的传奇\", '电影链接': 'https://movie.douban.com/subject/1292001/', '电影评分': 9.3, '评分人数': 1701689, '导演': '导演: 朱塞佩·托纳多雷 Giuseppe Tornatore', '主演': '主演: 蒂姆·罗斯 Tim Roth / ...', '上映年份': '1998', '国家': '意大利', '类型': '剧情 音乐'}, {'Unnamed: 0': 13, '电影名称': '三傻大闹宝莱坞\\xa0/\\xa03 Idiots\\xa0/\\xa0三个傻瓜(台)  /  作死不离3兄弟(港)', '电影链接': 'https://movie.douban.com/subject/3793023/', '电影评分': 9.2, '评分人数': 1885008, '导演': '导演: 拉库马·希拉尼 Rajkumar Hirani', '主演': '主演: 阿米尔·汗 Aamir Khan / 卡...', '上映年份': '2009', '国家': '印度', '类型': '剧情 喜剧 爱情 歌舞'}, {'Unnamed: 0': 14, '电影名称': '放牛班的春天\\xa0/\\xa0Les choristes\\xa0/\\xa0歌声伴我心(港)  /  唱诗班男孩', '电影链接': 'https://movie.douban.com/subject/1291549/', '电影评分': 9.3, '评分人数': 1332446, '导演': '导演: 克里斯托夫·巴拉蒂 Christophe Barratier', '主演': '主演: 让-巴蒂斯特·莫尼...', '上映年份': '2004', '国家': '法国 瑞士 德国', '类型': '剧情 音乐'}, {'Unnamed: 0': 15, '电影名称': '机器人总动员\\xa0/\\xa0WALL·E\\xa0/\\xa0太空奇兵·威E(港)  /  瓦力(台)', '电影链接': 'https://movie.douban.com/subject/2131459/', '电影评分': 9.3, '评分人数': 1336329, '导演': '导演: 安德鲁·斯坦顿 Andrew Stanton', '主演': '主演: 本·贝尔特 Ben Burtt / 艾丽...', '上映年份': '2008', '国家': '美国', '类型': '科幻 动画 冒险'}, {'Unnamed: 0': 16, '电影名称': '疯狂动物城\\xa0/\\xa0Zootopia\\xa0/\\xa0优兽大都会(港)  /  动物方城市(台)', '电影链接': 'https://movie.douban.com/subject/25662329/', '电影评分': 9.2, '评分人数': 1976109, '导演': '导演: 拜伦·霍华德 Byron Howard / 瑞奇·摩尔 Rich Moore', '主演': '主演: 金妮弗·...', '上映年份': '2016', '国家': '美国', '类型': '喜剧 动画 冒险'}, {'Unnamed: 0': 17, '电影名称': '无间道\\xa0/\\xa0無間道\\xa0/\\xa0Infernal Affairs  /  Mou gaan dou', '电影链接': 'https://movie.douban.com/subject/1307914/', '电影评分': 9.3, '评分人数': 1388658, '导演': '导演: 刘伟强 / 麦兆辉', '主演': '主演: 刘德华 Andy Lau / 梁朝伟 Tony Leung Chiu W...', '上映年份': '2002', '国家': '中国香港', '类型': '剧情 犯罪 惊悚'}, {'Unnamed: 0': 18, '电影名称': '控方证人\\xa0/\\xa0Witness for the Prosecution\\xa0/\\xa0雄才伟略  /  情妇', '电影链接': 'https://movie.douban.com/subject/1296141/', '电影评分': 9.6, '评分人数': 578364, '导演': '导演: 比利·怀尔德 Billy Wilder', '主演': '主演: 泰隆·鲍华 Tyrone Power / 玛琳·...', '上映年份': '1957', '国家': '美国', '类型': '剧情 犯罪 悬疑'}, {'Unnamed: 0': 19, '电影名称': '大话西游之大圣娶亲\\xa0/\\xa0西遊記大結局之仙履奇緣\\xa0/\\xa0西游记完结篇仙履奇缘  /  齐天大圣西游记', '电影链接': 'https://movie.douban.com/subject/1292213/', '电影评分': 9.2, '评分人数': 1555615, '导演': '导演: 刘镇伟 Jeffrey Lau', '主演': '主演: 周星驰 Stephen Chow / 吴孟达 Man Tat Ng...', '上映年份': '1995', '国家': '中国香港 中国大陆', '类型': '喜剧 爱情 奇幻 古装'}, {'Unnamed: 0': 20, '电影名称': '熔炉\\xa0/\\xa0도가니\\xa0/\\xa0无声呐喊(港)  /  漩涡', '电影链接': 'https://movie.douban.com/subject/5912992/', '电影评分': 9.4, '评分人数': 944669, '导演': '导演: 黄东赫 Dong-hyuk Hwang', '主演': '主演: 孔侑 Yoo Gong / 郑有美 Yu-mi Jung /...', '上映年份': '2011', '国家': '韩国', '类型': '剧情'}, {'Unnamed: 0': 21, '电影名称': \"教父\\xa0/\\xa0The Godfather\\xa0/\\xa0Mario Puzo's The Godfather\", '电影链接': 'https://movie.douban.com/subject/1291841/', '电影评分': 9.3, '评分人数': 984366, '导演': '导演: 弗朗西斯·福特·科波拉 Francis Ford Coppola', '主演': '主演: 马龙·白兰度 M...', '上映年份': '1972', '国家': '美国', '类型': '剧情 犯罪'}, {'Unnamed: 0': 22, '电影名称': '触不可及\\xa0/\\xa0Intouchables\\xa0/\\xa0闪亮人生(港)  /  逆转人生(台)', '电影链接': 'https://movie.douban.com/subject/6786002/', '电影评分': 9.3, '评分人数': 1138004, '导演': '导演: 奥利维·那卡什 Olivier Nakache / 艾力克·托兰达 Eric Toledano', '主演': '主...', '上映年份': '2011', '国家': '法国', '类型': '剧情 喜剧'}, {'Unnamed: 0': 23, '电影名称': '当幸福来敲门\\xa0/\\xa0The Pursuit of Happyness\\xa0/\\xa0寻找快乐的故事(港)  /  追求快乐', '电影链接': 'https://movie.douban.com/subject/1849031/', '电影评分': 9.2, '评分人数': 1541963, '导演': '导演: 加布里尔·穆奇诺 Gabriele Muccino', '主演': '主演: 威尔·史密斯 Will Smith ...', '上映年份': '2006', '国家': '美国', '类型': '剧情 传记 家庭'}, {'Unnamed: 0': 24, '电影名称': \"末代皇帝\\xa0/\\xa0The Last Emperor\\xa0/\\xa0末代皇帝溥仪(港)  /  L'ultimo imperatore\", '电影链接': 'https://movie.douban.com/subject/1293172/', '电影评分': 9.3, '评分人数': 903547, '导演': '导演: 贝纳尔多·贝托鲁奇 Bernardo Bertolucci', '主演': '主演: 尊龙 John Lone / 陈...', '上映年份': '1987', '国家': '英国 意大利 中国大陆 法国', '类型': '剧情 传记 历史'}, {'Unnamed: 0': 25, '电影名称': '寻梦环游记\\xa0/\\xa0Coco\\xa0/\\xa0玩转极乐园(港)  /  可可夜总会(台)', '电影链接': 'https://movie.douban.com/subject/20495023/', '电影评分': 9.1, '评分人数': 1715925, '导演': '导演: 李·昂克里奇 Lee Unkrich / 阿德里安·莫利纳 Adrian Molina', '主演': '主演: ...', '上映年份': '2017', '国家': '美国', '类型': '喜剧 动画 奇幻 音乐'}, {'Unnamed: 0': 26, '电影名称': '龙猫\\xa0/\\xa0となりのトトロ\\xa0/\\xa0邻居托托罗  /  邻家的豆豆龙', '电影链接': 'https://movie.douban.com/subject/1291560/', '电影评分': 9.2, '评分人数': 1285050, '导演': '导演: 宫崎骏 Hayao Miyazaki', '主演': '主演: 日高法子 Noriko Hidaka / 坂本千夏 Ch...', '上映年份': '1988', '国家': '日本', '类型': '动画 奇幻 冒险'}, {'Unnamed: 0': 27, '电影名称': '怦然心动\\xa0/\\xa0Flipped\\xa0/\\xa0萌动青春  /  青春萌动', '电影链接': 'https://movie.douban.com/subject/3319755/', '电影评分': 9.1, '评分人数': 1860867, '导演': '导演: 罗伯·莱纳 Rob Reiner', '主演': '主演: 玛德琳·卡罗尔 Madeline Carroll / 卡...', '上映年份': '2010', '国家': '美国', '类型': '剧情 喜剧 爱情'}, {'Unnamed: 0': 28, '电影名称': '活着\\xa0/\\xa0人生  /  Lifetimes', '电影链接': 'https://movie.douban.com/subject/1292365/', '电影评分': 9.3, '评分人数': 861809, '导演': '导演: 张艺谋 Yimou Zhang', '主演': '主演: 葛优 You Ge / 巩俐 Li Gong / 姜武 Wu Jiang', '上映年份': '1994', '国家': '中国大陆 中国香港', '类型': '剧情 历史 家庭'}, {'Unnamed: 0': 29, '电影名称': \"哈利·波特与魔法石\\xa0/\\xa0Harry Potter and the Sorcerer's Stone\\xa0/\\xa0哈利波特1：神秘的魔法石(港 / 台) \", '电影链接': 'https://movie.douban.com/subject/1295038/', '电影评分': 9.2, '评分人数': 1216645, '导演': '导演: Chris Columbus', '主演': '主演: Daniel Radcliffe / Emma Watson / Rupert Grint', '上映年份': '2001', '国家': '美国 英国', '类型': '奇幻 冒险'}, {'Unnamed: 0': 30, '电影名称': '蝙蝠侠：黑暗骑士\\xa0/\\xa0The Dark Knight\\xa0/\\xa0蝙蝠侠前传2：黑暗骑士  /  黑暗骑士(台)', '电影链接': 'https://movie.douban.com/subject/1851857/', '电影评分': 9.2, '评分人数': 1079089, '导演': '导演: 克里斯托弗·诺兰 Christopher Nolan', '主演': '主演: 克里斯蒂安·贝尔 Christ...', '上映年份': '2008', '国家': '美国 英国', '类型': '剧情 动作 科幻 犯罪 惊悚'}, {'Unnamed: 0': 31, '电影名称': '指环王3：王者无敌\\xa0/\\xa0The Lord of the Rings: The Return of the King\\xa0/\\xa0魔戒三部曲：王者再临(台 / 港) ', '电影链接': 'https://movie.douban.com/subject/1291552/', '电影评分': 9.3, '评分人数': 816748, '导演': '导演: 彼得·杰克逊 Peter Jackson', '主演': '主演: 伊利亚·伍德 Elijah Wood / 西恩...', '上映年份': '2003', '国家': '美国 新西兰', '类型': '剧情 动作 奇幻 冒险'}, {'Unnamed: 0': 32, '电影名称': '我不是药神\\xa0/\\xa0中国药神  /  印度药神', '电影链接': 'https://movie.douban.com/subject/26752088/', '电影评分': 9.0, '评分人数': 2136880, '导演': '导演: 文牧野 Muye Wen', '主演': '主演: 徐峥 Zheng Xu / 王传君 Chuanjun Wang / 周...', '上映年份': '2018', '国家': '中国大陆', '类型': '剧情 喜剧'}, {'Unnamed: 0': 33, '电影名称': '乱世佳人\\xa0/\\xa0Gone with the Wind\\xa0/\\xa0飘', '电影链接': 'https://movie.douban.com/subject/1300267/', '电影评分': 9.3, '评分人数': 702980, '导演': '导演: 维克多·弗莱明 Victor Fleming / 乔治·库克 George Cukor', '主演': '主演: 费...', '上映年份': '1939', '国家': '美国', '类型': '剧情 历史 爱情 战争'}, {'Unnamed: 0': 34, '电影名称': '飞屋环游记\\xa0/\\xa0Up\\xa0/\\xa0冲天救兵(港)  /  天外奇迹(台)', '电影链接': 'https://movie.douban.com/subject/2129039/', '电影评分': 9.1, '评分人数': 1347270, '导演': '导演: 彼特·道格特 Pete Docter / 鲍勃·彼德森 Bob Peterson', '主演': '主演: 爱德...', '上映年份': '2009', '国家': '美国', '类型': '剧情 喜剧 动画 冒险'}, {'Unnamed: 0': 35, '电影名称': '素媛\\xa0/\\xa0소원\\xa0/\\xa0许愿  /  希望：为爱重生(台)', '电影链接': 'https://movie.douban.com/subject/21937452/', '电影评分': 9.3, '评分人数': 698312, '导演': '导演: 李濬益 Jun-ik Lee', '主演': '主演: 薛景求 Kyung-gu Sol / 严志媛 Ji-won Uhm ...', '上映年份': '2013', '国家': '韩国', '类型': '剧情'}, {'Unnamed: 0': 36, '电影名称': '哈尔的移动城堡\\xa0/\\xa0ハウルの動く城\\xa0/\\xa0哈尔移动城堡(港)  /  霍尔的移动城堡(台)', '电影链接': 'https://movie.douban.com/subject/1308807/', '电影评分': 9.1, '评分人数': 1044554, '导演': '导演: 宫崎骏 Hayao Miyazaki', '主演': '主演: 倍赏千惠子 Chieko Baishô / 木村拓...', '上映年份': '2004', '国家': '日本', '类型': '动画 奇幻 冒险'}, {'Unnamed: 0': 37, '电影名称': '十二怒汉\\xa0/\\xa012 Angry Men\\xa0/\\xa012怒汉  /  十二怒汉', '电影链接': 'https://movie.douban.com/subject/1293182/', '电影评分': 9.4, '评分人数': 500838, '导演': '导演: Sidney Lumet', '主演': '主演: 亨利·方达 Henry Fonda / 马丁·鲍尔萨姆 Marti...', '上映年份': '1957', '国家': '美国', '类型': '剧情'}, {'Unnamed: 0': 38, '电影名称': '何以为家\\xa0/\\xa0كفرناحوم\\xa0/\\xa0迦百农  /  星仔打官司(港)', '电影链接': 'https://movie.douban.com/subject/30170448/', '电影评分': 9.1, '评分人数': 1060814, '导演': '导演: 娜丁·拉巴基 Nadine Labaki', '主演': '主演: 扎因·拉费阿 Zain al-Rafeea / ...', '上映年份': '2018', '国家': '黎巴嫩 美国 法国 塞浦路斯 卡塔尔 英国', '类型': '剧情'}, {'Unnamed: 0': 39, '电影名称': '摔跤吧！爸爸\\xa0/\\xa0Dangal\\xa0/\\xa0我和我的冠军女儿(台)  /  打死不离3父女(港)', '电影链接': 'https://movie.douban.com/subject/26387939/', '电影评分': 9.0, '评分人数': 1591367, '导演': '导演: 涅提·蒂瓦里 Nitesh Tiwari', '主演': '主演: 阿米尔·汗 Aamir Khan / 法缇玛...', '上映年份': '2016', '国家': '印度', '类型': '剧情 传记 运动 家庭'}, {'Unnamed: 0': 40, '电影名称': '让子弹飞\\xa0/\\xa0让子弹飞一会儿  /  火烧云', '电影链接': 'https://movie.douban.com/subject/3742360/', '电影评分': 9.0, '评分人数': 1726212, '导演': '导演: 姜文 Wen Jiang', '主演': '主演: 姜文 Wen Jiang / 葛优 You Ge / 周润发 Yun-F...', '上映年份': '2010', '国家': '中国大陆 中国香港', '类型': '剧情 喜剧 动作 西部'}, {'Unnamed: 0': 41, '电影名称': '猫鼠游戏\\xa0/\\xa0Catch Me If You Can\\xa0/\\xa0逍遥法外  /  捉智双雄(港)', '电影链接': 'https://movie.douban.com/subject/1305487/', '电影评分': 9.1, '评分人数': 1048215, '导演': '导演: 史蒂文·斯皮尔伯格 Steven Spielberg', '主演': '主演: 莱昂纳多·迪卡普里奥 L...', '上映年份': '2002', '国家': '美国 加拿大', '类型': '传记 犯罪 剧情'}, {'Unnamed: 0': 42, '电影名称': '天空之城\\xa0/\\xa0天空の城ラピュタ\\xa0/\\xa0天空之城拉普他  /  空中城堡拉普他', '电影链接': 'https://movie.douban.com/subject/1291583/', '电影评分': 9.2, '评分人数': 891265, '导演': '导演: 宫崎骏 Hayao Miyazaki', '主演': '主演: 田中真弓 Mayumi Tanaka / 横泽启子 Ke...', '上映年份': '1986', '国家': '日本', '类型': '动画 奇幻 冒险'}, {'Unnamed: 0': 43, '电影名称': '鬼子来了\\xa0/\\xa0Devils on the Doorstep', '电影链接': 'https://movie.douban.com/subject/1291858/', '电影评分': 9.3, '评分人数': 637173, '导演': '导演: 姜文 Wen Jiang', '主演': '主演: 姜文 Wen Jiang / 香川照之 Teruyuki Kagawa /...', '上映年份': '2000', '国家': '中国大陆', '类型': '剧情 喜剧'}, {'Unnamed: 0': 44, '电影名称': '少年派的奇幻漂流\\xa0/\\xa0Life of Pi\\xa0/\\xa0少年Pi的奇幻漂流  /  漂流少年Pi', '电影链接': 'https://movie.douban.com/subject/1929463/', '电影评分': 9.1, '评分人数': 1367401, '导演': '导演: 李安 Ang Lee', '主演': '主演: 苏拉·沙玛 Suraj Sharma / 伊尔凡·可汗 Irrfan...', '上映年份': '2012', '国家': '美国 中国台湾 英国 加拿大', '类型': '剧情 奇幻 冒险'}, {'Unnamed: 0': 45, '电影名称': '海蒂和爷爷\\xa0/\\xa0Heidi\\xa0/\\xa0飘零燕(港)  /  海蒂', '电影链接': 'https://movie.douban.com/subject/25958717/', '电影评分': 9.3, '评分人数': 634074, '导演': '导演: 阿兰·葛斯彭纳 Alain Gsponer', '主演': '主演: 阿努克·斯特芬 Anuk Steffen /...', '上映年份': '2015', '国家': '德国 瑞士', '类型': '剧情 冒险 家庭'}, {'Unnamed: 0': 46, '电影名称': '钢琴家\\xa0/\\xa0The Pianist\\xa0/\\xa0钢琴战曲(港)  /  战地琴人(台)', '电影链接': 'https://movie.douban.com/subject/1296736/', '电影评分': 9.3, '评分人数': 654346, '导演': '导演: 罗曼·波兰斯基 Roman Polanski', '主演': '主演: 艾德里安·布洛迪 Adrien Brod...', '上映年份': '2002', '国家': '英国 法国 波兰 德国', '类型': '剧情 传记 战争 音乐'}, {'Unnamed: 0': 47, '电影名称': '大话西游之月光宝盒\\xa0/\\xa0西遊記第壹佰零壹回之月光寶盒\\xa0/\\xa0西游记101回月光宝盒  /  齐天大圣东游记', '电影链接': 'https://movie.douban.com/subject/1299398/', '电影评分': 9.0, '评分人数': 1238659, '导演': '导演: 刘镇伟 Jeffrey Lau', '主演': '主演: 周星驰 Stephen Chow / 吴孟达 Man Tat Ng...', '上映年份': '1995', '国家': '中国香港 中国大陆', '类型': '喜剧 爱情 奇幻 古装'}, {'Unnamed: 0': 48, '电影名称': '指环王2：双塔奇兵\\xa0/\\xa0The Lord of the Rings: The Two Towers\\xa0/\\xa0魔戒二部曲：双城奇谋  /  指环王II：双塔', '电影链接': 'https://movie.douban.com/subject/1291572/', '电影评分': 9.2, '评分人数': 766387, '导演': '导演: 彼得·杰克逊 Peter Jackson', '主演': '主演: 伊利亚·伍德 Elijah Wood / 西恩...', '上映年份': '2002', '国家': '美国 新西兰', '类型': '剧情 动作 奇幻 冒险'}, {'Unnamed: 0': 49, '电影名称': '闻香识女人\\xa0/\\xa0Scent of a Woman\\xa0/\\xa0女人香  /  女人的芳香', '电影链接': 'https://movie.douban.com/subject/1298624/', '电影评分': 9.1, '评分人数': 903148, '导演': '导演: 马丁·布莱斯 Martin Brest', '主演': '主演: 阿尔·帕西诺 Al Pacino / 克里斯...', '上映年份': '1992', '国家': '美国', '类型': '剧情'}, {'Unnamed: 0': 50, '电影名称': '死亡诗社\\xa0/\\xa0Dead Poets Society\\xa0/\\xa0暴雨骄阳(港)  /  春风化雨(台)', '电影链接': 'https://movie.douban.com/subject/1291548/', '电影评分': 9.2, '评分人数': 743041, '导演': '导演: 彼得·威尔 Peter Weir', '主演': '主演: 罗宾·威廉姆斯 Robin Williams / 罗伯...', '上映年份': '1989', '国家': '美国', '类型': '剧情'}, {'Unnamed: 0': 51, '电影名称': '绿皮书\\xa0/\\xa0Green Book\\xa0/\\xa0绿簿旅友(港)  /  幸福绿皮书(台)', '电影链接': 'https://movie.douban.com/subject/27060077/', '电影评分': 8.9, '评分人数': 1678039, '导演': '导演: 彼得·法雷里 Peter Farrelly', '主演': '主演: 维果·莫腾森 Viggo Mortensen /...', '上映年份': '2018', '国家': '美国 中国大陆', '类型': '剧情 喜剧 传记 音乐'}, {'Unnamed: 0': 52, '电影名称': '罗马假日\\xa0/\\xa0Roman Holiday\\xa0/\\xa0金枝玉叶(港)  /  罗马假期(台)', '电影链接': 'https://movie.douban.com/subject/1293839/', '电影评分': 9.1, '评分人数': 962907, '导演': '导演: 威廉·惠勒 William Wyler', '主演': '主演: 奥黛丽·赫本 Audrey Hepburn / 格...', '上映年份': '1953', '国家': '美国', '类型': '喜剧 剧情 爱情'}, {'Unnamed: 0': 53, '电影名称': '大闹天宫\\xa0/\\xa0大闹天宫 上下集  /  The Monkey King', '电影链接': 'https://movie.douban.com/subject/1418019/', '电影评分': 9.4, '评分人数': 446762, '导演': '导演: 万籁鸣 Laiming Wan', '主演': '主演: 邱岳峰 Yuefeng Qiu / 富润生 Runsheng Fu...', '上映年份': '1961(中国大陆)/1964(中国大陆)/1978(中国大陆)', '国家': '中国大陆', '类型': '剧情 动画 奇幻 古装'}, {'Unnamed: 0': 54, '电影名称': '天堂电影院\\xa0/\\xa0Nuovo Cinema Paradiso\\xa0/\\xa0星光伴我心(港)  /  新天堂乐园(台)', '电影链接': 'https://movie.douban.com/subject/1291828/', '电影评分': 9.2, '评分人数': 686851, '导演': '导演: 朱塞佩·托纳多雷 Giuseppe Tornatore', '主演': '主演: 菲利普·努瓦雷 Philipp...', '上映年份': '1988', '国家': '意大利 法国', '类型': '剧情 爱情'}, {'Unnamed: 0': 55, '电影名称': '指环王1：护戒使者\\xa0/\\xa0The Lord of the Rings: The Fellowship of the Ring\\xa0/\\xa0指环王1：魔戒再现  /  指环王I：护戒使者', '电影链接': 'https://movie.douban.com/subject/1291571/', '电影评分': 9.1, '评分人数': 861211, '导演': '导演: 彼得·杰克逊 Peter Jackson', '主演': '主演: 伊利亚·伍德 Elijah Wood / 西恩...', '上映年份': '2001', '国家': '新西兰 美国', '类型': '剧情 动作 奇幻 冒险'}, {'Unnamed: 0': 56, '电影名称': '黑客帝国\\xa0/\\xa0The Matrix\\xa0/\\xa022世纪杀人网络(港)  /  廿二世纪杀人网络(港)', '电影链接': 'https://movie.douban.com/subject/1291843/', '电影评分': 9.1, '评分人数': 850542, '导演': '导演: 安迪·沃卓斯基 Andy Wachowski / 拉娜·沃卓斯基 Lana Wachowski', '主演': '主...', '上映年份': '1999', '国家': '美国', '类型': '动作 科幻'}, {'Unnamed: 0': 57, '电影名称': '教父2\\xa0/\\xa0The Godfather: Part II\\xa0/\\xa0教父续集(港)  /  教父II', '电影链接': 'https://movie.douban.com/subject/1299131/', '电影评分': 9.3, '评分人数': 562870, '导演': '导演: 弗朗西斯·福特·科波拉 Francis Ford Coppola', '主演': '主演: 阿尔·帕西诺 A...', '上映年份': '1974', '国家': '美国', '类型': '剧情 犯罪'}, {'Unnamed: 0': 58, '电影名称': '狮子王\\xa0/\\xa0The Lion King\\xa0/\\xa0狮子王3D', '电影链接': 'https://movie.douban.com/subject/1301753/', '电影评分': 9.1, '评分人数': 857500, '导演': '导演: Roger Allers / 罗伯·明可夫 Rob Minkoff', '主演': '主演: 乔纳森·泰勒·托马...', '上映年份': '1994', '国家': '美国', '类型': '动画 冒险 歌舞'}, {'Unnamed: 0': 59, '电影名称': '辩护人\\xa0/\\xa0변호인\\xa0/\\xa0逆权大状(港)  /  正义辩护人(台)', '电影链接': 'https://movie.douban.com/subject/21937445/', '电影评分': 9.2, '评分人数': 596619, '导演': '导演: 杨宇硕 Woo-seok Yang', '主演': '主演: 宋康昊 Kang-ho Song / 金英爱 Yeong-ae...', '上映年份': '2013', '国家': '韩国', '类型': '剧情'}, {'Unnamed: 0': 60, '电影名称': '饮食男女\\xa0/\\xa0飲食男女\\xa0/\\xa0Eat Drink Man Woman', '电影链接': 'https://movie.douban.com/subject/1291818/', '电影评分': 9.2, '评分人数': 632136, '导演': '导演: 李安 Ang Lee', '主演': '主演: 郎雄 Sihung Lung / 杨贵媚 Kuei-Mei Yang / 吴...', '上映年份': '1994', '国家': '中国台湾 美国', '类型': '剧情 家庭'}, {'Unnamed: 0': 61, '电影名称': '搏击俱乐部\\xa0/\\xa0Fight Club\\xa0/\\xa0搏击会(港)  /  斗阵俱乐部(台)', '电影链接': 'https://movie.douban.com/subject/1292000/', '电影评分': 9.0, '评分人数': 859530, '导演': '导演: 大卫·芬奇 David Fincher', '主演': '主演: 爱德华·诺顿 Edward Norton / 布拉...', '上映年份': '1999', '国家': '美国', '类型': '剧情 动作 悬疑 惊悚'}, {'Unnamed: 0': 62, '电影名称': '本杰明·巴顿奇事\\xa0/\\xa0The Curious Case of Benjamin Button\\xa0/\\xa0奇幻逆缘(港)  /  班杰明的奇幻旅程(台)', '电影链接': 'https://movie.douban.com/subject/1485260/', '电影评分': 9.0, '评分人数': 999032, '导演': '导演: 大卫·芬奇 David Fincher', '主演': '主演: 凯特·布兰切特 Cate Blanchett / ...', '上映年份': '2008', '国家': '美国', '类型': '剧情 爱情 奇幻'}, {'Unnamed: 0': 63, '电影名称': '美丽心灵\\xa0/\\xa0A Beautiful Mind\\xa0/\\xa0有你终生美丽(港)  /  美丽境界(台)', '电影链接': 'https://movie.douban.com/subject/1306029/', '电影评分': 9.1, '评分人数': 780196, '导演': '导演: 朗·霍华德 Ron Howard', '主演': '主演: 罗素·克劳 Russell Crowe / 艾德·哈...', '上映年份': '2001', '国家': '美国', '类型': '传记 剧情'}, {'Unnamed: 0': 64, '电影名称': '穿条纹睡衣的男孩\\xa0/\\xa0The Boy in the Striped Pajamas\\xa0/\\xa0穿条纹衣服的男孩  /  穿条纹衣的男孩', '电影链接': 'https://movie.douban.com/subject/3008247/', '电影评分': 9.2, '评分人数': 576140, '导演': '导演: 马克·赫尔曼 Mark Herman', '主演': '主演: 阿萨·巴特菲尔德 Asa Butterfield ...', '上映年份': '2008', '国家': '英国 美国', '类型': '剧情 战争'}, {'Unnamed: 0': 65, '电影名称': '窃听风暴\\xa0/\\xa0Das Leben der Anderen\\xa0/\\xa0窃听者(港)  /  他人的生活', '电影链接': 'https://movie.douban.com/subject/1900841/', '电影评分': 9.2, '评分人数': 572916, '导演': '导演: 弗洛里安·亨克尔·冯·多纳斯马尔克 Florian Henckel von Donnersmarck\\xa0\\xa0&n...', '主演': nan, '上映年份': '2006', '国家': '德国', '类型': '剧情 悬疑'}, {'Unnamed: 0': 66, '电影名称': '情书\\xa0/\\xa0Love Letter\\xa0/\\xa0When I Close My Eyes  /  Letters of Love', '电影链接': 'https://movie.douban.com/subject/1292220/', '电影评分': 8.9, '评分人数': 1134012, '导演': '导演: 岩井俊二 Shunji Iwai', '主演': '主演: 中山美穗 Miho Nakayama / 丰川悦司 Ets...', '上映年份': '1995', '国家': '日本', '类型': '剧情 爱情'}, {'Unnamed: 0': 67, '电影名称': '两杆大烟枪\\xa0/\\xa0Lock, Stock and Two Smoking Barrels\\xa0/\\xa0够姜四小强(港)  /  两根枪管(台)', '电影链接': 'https://movie.douban.com/subject/1293350/', '电影评分': 9.1, '评分人数': 603367, '导演': '导演: 盖·里奇 Guy Ritchie', '主演': '主演: 杰森·弗莱明 Jason Flemyng / 德克斯特...', '上映年份': '1998', '国家': '英国', '类型': '剧情 喜剧 犯罪'}, {'Unnamed: 0': 68, '电影名称': '西西里的美丽传说\\xa0/\\xa0Malèna\\xa0/\\xa0真爱伴我行(台)  /  玛莲娜', '电影链接': 'https://movie.douban.com/subject/1292402/', '电影评分': 8.9, '评分人数': 989984, '导演': '导演: 朱塞佩·托纳多雷 Giuseppe Tornatore', '主演': '主演: 莫妮卡·贝鲁奇 Monica ...', '上映年份': '2000', '国家': '意大利 美国', '类型': '剧情 战争 情色'}, {'Unnamed: 0': 69, '电影名称': '看不见的客人\\xa0/\\xa0Contratiempo\\xa0/\\xa0死无对证(港)  /  布局(台)', '电影链接': 'https://movie.douban.com/subject/26580232/', '电影评分': 8.8, '评分人数': 1291207, '导演': '导演: 奥里奥尔·保罗 Oriol Paulo', '主演': '主演: 马里奥·卡萨斯 Mario Casas / 阿...', '上映年份': '2016', '国家': '西班牙', '类型': '剧情 犯罪 悬疑 惊悚'}, {'Unnamed: 0': 70, '电影名称': '音乐之声\\xa0/\\xa0The Sound of Music\\xa0/\\xa0仙乐飘飘处处闻(港)  /  真善美(台)', '电影链接': 'https://movie.douban.com/subject/1294408/', '电影评分': 9.1, '评分人数': 612362, '导演': '导演: 罗伯特·怀斯 Robert Wise', '主演': '主演: 朱莉·安德鲁斯 Julie Andrews / 克...', '上映年份': '1965', '国家': '美国', '类型': '剧情 传记 爱情 歌舞'}, {'Unnamed: 0': 71, '电影名称': '阿凡达\\xa0/\\xa0Avatar\\xa0/\\xa0', '电影链接': 'https://movie.douban.com/subject/1652587/', '电影评分': 8.8, '评分人数': 1441297, '导演': '导演: 詹姆斯·卡梅隆 James Cameron', '主演': '主演: 萨姆·沃辛顿 Sam Worthington ...', '上映年份': '2009', '国家': '美国', '类型': '动作 科幻 冒险'}, {'Unnamed: 0': 72, '电影名称': '拯救大兵瑞恩\\xa0/\\xa0Saving Private Ryan\\xa0/\\xa0雷霆救兵(港)  /  抢救雷恩大兵(台)', '电影链接': 'https://movie.douban.com/subject/1292849/', '电影评分': 9.1, '评分人数': 657017, '导演': '导演: 史蒂文·斯皮尔伯格 Steven Spielberg', '主演': '主演: 汤姆·汉克斯 Tom Hanks...', '上映年份': '1998', '国家': '美国', '类型': '剧情 战争'}, {'Unnamed: 0': 73, '电影名称': '哈利·波特与死亡圣器(下)\\xa0/\\xa0Harry Potter and the Deathly Hallows: Part 2\\xa0/\\xa0哈利波特7：死神的圣物2(港 / 台) ', '电影链接': 'https://movie.douban.com/subject/3011235/', '电影评分': 9.0, '评分人数': 847378, '导演': '导演: 大卫·叶茨 David Yates', '主演': '主演: 丹尼尔·雷德克里夫 Daniel Radcliffe...', '上映年份': '2011', '国家': '美国 英国', '类型': '奇幻 冒险'}, {'Unnamed: 0': 74, '电影名称': \"飞越疯人院\\xa0/\\xa0One Flew Over the Cuckoo's Nest\\xa0/\\xa0飞越杜鹃窝(台)  /  飞越喜鹊巢\", '电影链接': 'https://movie.douban.com/subject/1292224/', '电影评分': 9.1, '评分人数': 554327, '导演': '导演: 米洛斯·福尔曼 Miloš Forman', '主演': '主演: 杰克·尼科尔森 Jack Nichols...', '上映年份': '1975', '国家': '美国', '类型': '剧情'}, {'Unnamed: 0': 75, '电影名称': '小鞋子\\xa0/\\xa0بچه های آسمان\\xa0/\\xa0天堂的孩子  /  小童鞋', '电影链接': 'https://movie.douban.com/subject/1303021/', '电影评分': 9.2, '评分人数': 417685, '导演': '导演: 马基德·马基迪 Majid Majidi', '主演': '主演: 默罕默德·阿米尔·纳吉 Mohamma...', '上映年份': '1997', '国家': '伊朗', '类型': '剧情 儿童 家庭'}, {'Unnamed: 0': 76, '电影名称': '沉默的羔羊\\xa0/\\xa0The Silence of the Lambs\\xa0/\\xa0沉默的羔羊', '电影链接': 'https://movie.douban.com/subject/1293544/', '电影评分': 8.9, '评分人数': 904976, '导演': '导演: 乔纳森·戴米 Jonathan Demme', '主演': '主演: 朱迪·福斯特 Jodie Foster / 安...', '上映年份': '1991', '国家': '美国', '类型': '剧情 犯罪 惊悚'}, {'Unnamed: 0': 77, '电影名称': '布达佩斯大饭店\\xa0/\\xa0The Grand Budapest Hotel\\xa0/\\xa0布达佩斯大酒店(港)  /  欢迎来到布达佩斯大饭店(台)', '电影链接': 'https://movie.douban.com/subject/11525673/', '电影评分': 8.9, '评分人数': 955906, '导演': '导演: 韦斯·安德森 Wes Anderson', '主演': '主演: 拉尔夫·费因斯 Ralph Fiennes / ...', '上映年份': '2014', '国家': '美国 德国 英国', '类型': '剧情 喜剧 冒险'}, {'Unnamed: 0': 78, '电影名称': '功夫\\xa0/\\xa0功夫3D  /  Kung Fu Hustle', '电影链接': 'https://movie.douban.com/subject/1291543/', '电影评分': 8.8, '评分人数': 1157394, '导演': '导演: 周星驰 Stephen Chow', '主演': '主演: 周星驰 Stephen Chow / 元秋 Qiu Yuen / ...', '上映年份': '2004', '国家': '中国大陆 中国香港', '类型': '动作 喜剧 犯罪 奇幻'}, {'Unnamed: 0': 79, '电影名称': '禁闭岛\\xa0/\\xa0Shutter Island\\xa0/\\xa0不赦岛(港)  /  隔离岛(台)', '电影链接': 'https://movie.douban.com/subject/2334904/', '电影评分': 8.9, '评分人数': 994792, '导演': '导演: Martin Scorsese', '主演': '主演: 莱昂纳多·迪卡普里奥 Leonardo DiCaprio / ...', '上映年份': '2010', '国家': '美国', '类型': '剧情 悬疑 惊悚'}, {'Unnamed: 0': 80, '电影名称': '蝴蝶效应\\xa0/\\xa0The Butterfly Effect\\xa0/\\xa0蝴蝶效应', '电影链接': 'https://movie.douban.com/subject/1292343/', '电影评分': 8.9, '评分人数': 953775, '导演': '导演: 埃里克·布雷斯 Eric Bress / J·麦基·格鲁伯 J. Mackye Gruber', '主演': '主...', '上映年份': '2004', '国家': '美国 加拿大', '类型': '剧情 悬疑 科幻 惊悚'}, {'Unnamed: 0': 81, '电影名称': '致命魔术\\xa0/\\xa0The Prestige\\xa0/\\xa0死亡魔法(港)  /  顶尖对决(台)', '电影链接': 'https://movie.douban.com/subject/1780330/', '电影评分': 8.9, '评分人数': 874761, '导演': '导演: 克里斯托弗·诺兰 Christopher Nolan', '主演': '主演: 休·杰克曼 Hugh Jackman...', '上映年份': '2006', '国家': '英国 美国', '类型': '剧情 悬疑 惊悚'}, {'Unnamed: 0': 82, '电影名称': '哈利·波特与阿兹卡班的囚徒\\xa0/\\xa0Harry Potter and the Prisoner of Azkaban\\xa0/\\xa0哈利波特3：阿兹卡班的逃犯(港 / 台) ', '电影链接': 'https://movie.douban.com/subject/1291544/', '电影评分': 8.9, '评分人数': 747744, '导演': '导演: Alfonso Cuarón', '主演': '主演: 丹尼尔·雷德克里夫 Daniel Radcliffe / Emma...', '上映年份': '2004', '国家': '英国 美国', '类型': '奇幻 冒险'}, {'Unnamed: 0': 83, '电影名称': '心灵捕手\\xa0/\\xa0Good Will Hunting\\xa0/\\xa0骄阳似我(港)  /  心灵捕手', '电影链接': 'https://movie.douban.com/subject/1292656/', '电影评分': 8.9, '评分人数': 726621, '导演': '导演: 格斯·范·桑特 Gus Van Sant', '主演': '主演: 马特·达蒙 Matt Damon / 罗宾·...', '上映年份': '1997', '国家': '美国', '类型': '剧情'}, {'Unnamed: 0': 84, '电影名称': '超脱\\xa0/\\xa0Detachment\\xa0/\\xa0人间师格(台)', '电影链接': 'https://movie.douban.com/subject/5322596/', '电影评分': 9.0, '评分人数': 616455, '导演': '导演: 托尼·凯耶 Tony Kaye', '主演': '主演: 艾德里安·布洛迪 Adrien Brody / 马西...', '上映年份': '2011', '国家': '美国', '类型': '剧情'}, {'Unnamed: 0': 85, '电影名称': '海豚湾\\xa0/\\xa0The Cove\\xa0/\\xa0血色海湾(台)  /  海湾', '电影链接': 'https://movie.douban.com/subject/3442220/', '电影评分': 9.3, '评分人数': 360700, '导演': '导演: 路易·西霍尤斯 Louie Psihoyos', '主演': '主演: 路易·西霍尤斯 Louie Psihoyo...', '上映年份': '2009', '国家': '美国', '类型': '纪录片'}, {'Unnamed: 0': 86, '电影名称': '低俗小说\\xa0/\\xa0Pulp Fiction\\xa0/\\xa0危险人物(港)  /  黑色追缉令(台)', '电影链接': 'https://movie.douban.com/subject/1291832/', '电影评分': 8.9, '评分人数': 848538, '导演': '导演: 昆汀·塔伦蒂诺 Quentin Tarantino', '主演': '主演: 约翰·特拉沃尔塔 John Tra...', '上映年份': '1994', '国家': '美国', '类型': '剧情 喜剧 犯罪'}, {'Unnamed: 0': 87, '电影名称': '春光乍泄\\xa0/\\xa0春光乍洩\\xa0/\\xa0一起快乐  /  Happy Together', '电影链接': 'https://movie.douban.com/subject/1292679/', '电影评分': 9.0, '评分人数': 642029, '导演': '导演: 王家卫 Kar Wai Wong', '主演': '主演: 张国荣 Leslie Cheung / 梁朝伟 Tony Leu...', '上映年份': '1997', '国家': '中国香港 日本 韩国', '类型': '剧情 爱情 同性'}, {'Unnamed: 0': 88, '电影名称': '摩登时代\\xa0/\\xa0Modern Times\\xa0/\\xa0The Masses  /  Les Temps modernes', '电影链接': 'https://movie.douban.com/subject/1294371/', '电影评分': 9.3, '评分人数': 306907, '导演': '导演: 查理·卓别林 Charles Chaplin', '主演': '主演: 查理·卓别林 Charles Chaplin ...', '上映年份': '1936', '国家': '美国', '类型': '剧情 喜剧 爱情'}, {'Unnamed: 0': 89, '电影名称': '美国往事\\xa0/\\xa0Once Upon a Time in America\\xa0/\\xa0四海兄弟(台)  /  义薄云天(港)', '电影链接': 'https://movie.douban.com/subject/1292262/', '电影评分': 9.2, '评分人数': 418623, '导演': '导演: 赛尔乔·莱翁内 Sergio Leone', '主演': '主演: 罗伯特·德尼罗 Robert De Niro ...', '上映年份': '1984', '国家': '美国 意大利', '类型': '犯罪 剧情'}, {'Unnamed: 0': 90, '电影名称': '喜剧之王\\xa0/\\xa0喜劇之王\\xa0/\\xa0King of Comedy', '电影链接': 'https://movie.douban.com/subject/1302425/', '电影评分': 8.8, '评分人数': 985205, '导演': '导演: 周星驰 Stephen Chow / 李力持 Lik-Chi Lee', '主演': '主演: 周星驰 Stephen Ch...', '上映年份': '1999', '国家': '中国香港', '类型': '喜剧 剧情 爱情'}, {'Unnamed: 0': 91, '电影名称': '致命ID\\xa0/\\xa0Identity\\xa0/\\xa0杀人游戏  /  致命身份', '电影链接': 'https://movie.douban.com/subject/1297192/', '电影评分': 8.9, '评分人数': 840156, '导演': '导演: 詹姆斯·曼高德 James Mangold', '主演': '主演: 约翰·库萨克 John Cusack / 雷...', '上映年份': '2003', '国家': '美国', '类型': '剧情 悬疑 惊悚'}, {'Unnamed: 0': 92, '电影名称': '杀人回忆\\xa0/\\xa0살인의 추억\\xa0/\\xa0谋杀回忆  /  杀手回忆录', '电影链接': 'https://movie.douban.com/subject/1300299/', '电影评分': 8.9, '评分人数': 729155, '导演': '导演: 奉俊昊 Joon-ho Bong', '主演': '主演: 宋康昊 Kang-ho Song / 金相庆 Sang-kyun...', '上映年份': '2003', '国家': '韩国', '类型': '剧情 动作 犯罪 悬疑 惊悚'}, {'Unnamed: 0': 93, '电影名称': '七宗罪\\xa0/\\xa0Se7en\\xa0/\\xa0火线追缉令(台)  /  7宗罪', '电影链接': 'https://movie.douban.com/subject/1292223/', '电影评分': 8.8, '评分人数': 955778, '导演': '导演: 大卫·芬奇 David Fincher', '主演': '主演: 摩根·弗里曼 Morgan Freeman / 布...', '上映年份': '1995', '国家': '美国', '类型': '剧情 犯罪 悬疑 惊悚'}, {'Unnamed: 0': 94, '电影名称': '红辣椒\\xa0/\\xa0パプリカ\\xa0/\\xa0盗梦侦探(港 / 台) ', '电影链接': 'https://movie.douban.com/subject/1865703/', '电影评分': 9.1, '评分人数': 476344, '导演': '导演: 今敏 Satoshi Kon', '主演': '主演: 林原惠美 Megumi Hayashibara / 江守彻 Toru...', '上映年份': '2006', '国家': '日本', '类型': '动画 悬疑 科幻 惊悚'}, {'Unnamed: 0': 95, '电影名称': '加勒比海盗\\xa0/\\xa0Pirates of the Caribbean: The Curse of the Black Pearl\\xa0/\\xa0加勒比海盗1：黑珍珠号的诅咒  /  神鬼奇航：鬼盗船魔咒(台)', '电影链接': 'https://movie.douban.com/subject/1298070/', '电影评分': 8.8, '评分人数': 872577, '导演': '导演: 戈尔·维宾斯基 Gore Verbinski', '主演': '主演: 约翰尼·德普 Johnny Depp / ...', '上映年份': '2003', '国家': '美国', '类型': '动作 冒险 奇幻'}, {'Unnamed: 0': 96, '电影名称': '哈利·波特与密室\\xa0/\\xa0Harry Potter and the Chamber of Secrets\\xa0/\\xa0哈利波特2：消失的密室(港 / 台) ', '电影链接': 'https://movie.douban.com/subject/1296996/', '电影评分': 8.9, '评分人数': 774974, '导演': '导演: Chris Columbus', '主演': '主演: 丹尼尔·雷德克里夫 Daniel Radcliffe / 艾玛...', '上映年份': '2002', '国家': '英国 美国', '类型': '奇幻 冒险'}, {'Unnamed: 0': 97, '电影名称': '一一\\xa0/\\xa0Yi yi  /  Yi yi: A One and a Two', '电影链接': 'https://movie.douban.com/subject/1292434/', '电影评分': 9.1, '评分人数': 404197, '导演': '导演: 杨德昌 Edward Yang', '主演': '主演: 吴念真 / 李凯莉 Kelly Lee / 金燕玲 Elai...', '上映年份': '2000', '国家': '中国台湾 日本', '类型': '剧情 爱情 家庭'}, {'Unnamed: 0': 98, '电影名称': '狩猎\\xa0/\\xa0Jagten\\xa0/\\xa0诬网(港)  /  谎言的烙印(台)', '电影链接': 'https://movie.douban.com/subject/6985810/', '电影评分': 9.1, '评分人数': 399920, '导演': '导演: 托马斯·温特伯格 Thomas Vinterberg', '主演': '主演: 麦斯·米科尔森 Mads Mik...', '上映年份': '2012', '国家': '丹麦 瑞典', '类型': '剧情'}, {'Unnamed: 0': 99, '电影名称': '唐伯虎点秋香\\xa0/\\xa0唐伯虎點秋香\\xa0/\\xa0Flirting Scholar', '电影链接': 'https://movie.douban.com/subject/1306249/', '电影评分': 8.7, '评分人数': 1097640, '导演': '导演: 李力持 Lik-Chi Lee', '主演': '主演: 周星驰 Stephen Chow / 巩俐 Li Gong / 陈...', '上映年份': '1993', '国家': '中国香港', '类型': '喜剧 爱情 古装'}, {'Unnamed: 0': 100, '电影名称': '7号房的礼物\\xa0/\\xa07번방의 선물\\xa0/\\xa0戆爸的礼物(港)  /  7号囚房的礼物', '电影链接': 'https://movie.douban.com/subject/10777687/', '电影评分': 8.9, '评分人数': 565870, '导演': '导演: 李焕庆 Hwan-kyeong Lee', '主演': '主演: 柳承龙 Seung-yong Ryoo / 朴信惠 Shi...', '上映年份': '2013', '国家': '韩国', '类型': '剧情 喜剧 家庭'}, {'Unnamed: 0': 101, '电影名称': '被嫌弃的松子的一生\\xa0/\\xa0嫌われ松子の一生\\xa0/\\xa0花样奇缘(港)  /  令人讨厌的松子的一生(台)', '电影链接': 'https://movie.douban.com/subject/1787291/', '电影评分': 8.9, '评分人数': 712177, '导演': '导演: 中岛哲也 Tetsuya Nakashima', '主演': '主演: 中谷美纪 Miki Nakatani / 瑛太 E...', '上映年份': '2006', '国家': '日本', '类型': '剧情 歌舞'}, {'Unnamed: 0': 102, '电影名称': '请以你的名字呼唤我\\xa0/\\xa0Call Me by Your Name\\xa0/\\xa0以你的名字呼唤我(港 / 台) ', '电影链接': 'https://movie.douban.com/subject/26799731/', '电影评分': 8.8, '评分人数': 734334, '导演': '导演: 卢卡·瓜达尼诺 Luca Guadagnino', '主演': '主演: 艾米·汉莫 Armie Hammer / ...', '上映年份': '2017', '国家': '意大利 法国 巴西 美国', '类型': '剧情 爱情 同性'}, {'Unnamed: 0': 103, '电影名称': '蝙蝠侠：黑暗骑士崛起\\xa0/\\xa0The Dark Knight Rises\\xa0/\\xa0蝙蝠侠前传3：黑暗骑士崛起  /  黑暗骑士：黎明升起(台)', '电影链接': 'https://movie.douban.com/subject/3395373/', '电影评分': 8.8, '评分人数': 734593, '导演': '导演: 克里斯托弗·诺兰 Christopher Nolan', '主演': '主演: 克里斯蒂安·贝尔 Christ...', '上映年份': '2012', '国家': '美国 英国', '类型': '剧情 动作 科幻 犯罪 惊悚'}, {'Unnamed: 0': 104, '电影名称': '爱在黎明破晓前\\xa0/\\xa0Before Sunrise\\xa0/\\xa0情留半天(港)  /  爱在黎明破晓时(台)', '电影链接': 'https://movie.douban.com/subject/1296339/', '电影评分': 8.8, '评分人数': 696905, '导演': '导演: 理查德·林克莱特 Richard Linklater', '主演': '主演: 伊桑·霍克 Ethan Hawke ...', '上映年份': '1995', '国家': '美国 奥地利 瑞士', '类型': '剧情 爱情'}, {'Unnamed: 0': 105, '电影名称': '断背山\\xa0/\\xa0Brokeback Mountain\\xa0/\\xa0断臂山  /  BBM', '电影链接': 'https://movie.douban.com/subject/1418834/', '电影评分': 8.8, '评分人数': 715576, '导演': '导演: 李安 Ang Lee', '主演': '主演: 希斯·莱杰 Heath Ledger / 杰克·吉伦哈尔 Jake...', '上映年份': '2005', '国家': '美国 加拿大', '类型': '剧情 爱情 同性 家庭'}, {'Unnamed: 0': 106, '电影名称': '剪刀手爱德华\\xa0/\\xa0Edward Scissorhands\\xa0/\\xa0幻海奇缘(港)  /  剪刀手爱德华', '电影链接': 'https://movie.douban.com/subject/1292370/', '电影评分': 8.7, '评分人数': 1046396, '导演': '导演: 蒂姆·波顿 Tim Burton', '主演': '主演: 约翰尼·德普 Johnny Depp / 薇诺娜·...', '上映年份': '1990', '国家': '美国', '类型': '剧情 奇幻 爱情'}, {'Unnamed: 0': 107, '电影名称': '入殓师\\xa0/\\xa0おくりびと\\xa0/\\xa0礼仪师之奏鸣曲(港)  /  礼仪师(台)', '电影链接': 'https://movie.douban.com/subject/2149806/', '电影评分': 8.9, '评分人数': 677523, '导演': '导演: 泷田洋二郎 Yôjirô Takita', '主演': '主演: 本木雅弘 Masahiro Motoki / ...', '上映年份': '2008', '国家': '日本', '类型': '剧情'}, {'Unnamed: 0': 108, '电影名称': '第六感\\xa0/\\xa0The Sixth Sense\\xa0/\\xa0鬼眼(港)  /  灵异第六感(台)', '电影链接': 'https://movie.douban.com/subject/1297630/', '电影评分': 8.9, '评分人数': 565206, '导演': '导演: M·奈特·沙马兰 M. Night Shyamalan', '主演': '主演: 布鲁斯·威利斯 Bruce Wi...', '上映年份': '1999', '国家': '美国', '类型': '剧情 悬疑 惊悚'}, {'Unnamed: 0': 109, '电影名称': '重庆森林\\xa0/\\xa0重慶森林\\xa0/\\xa0Chungking Express', '电影链接': 'https://movie.douban.com/subject/1291999/', '电影评分': 8.8, '评分人数': 824473, '导演': '导演: 王家卫 Kar Wai Wong', '主演': '主演: 林青霞 Brigitte Lin / 金城武 Takeshi K...', '上映年份': '1994', '国家': '中国香港', '类型': '剧情 爱情'}, {'Unnamed: 0': 110, '电影名称': '勇敢的心\\xa0/\\xa0Braveheart\\xa0/\\xa0惊世未了缘(港)  /  梅尔吉勃逊之英雄本色(台)', '电影链接': 'https://movie.douban.com/subject/1294639/', '电影评分': 8.9, '评分人数': 564281, '导演': '导演: 梅尔·吉布森 Mel Gibson', '主演': '主演: 梅尔·吉布森 Mel Gibson / 苏菲·玛...', '上映年份': '1995', '国家': '美国', '类型': '动作 传记 剧情 历史 战争'}, {'Unnamed: 0': 111, '电影名称': '超能陆战队\\xa0/\\xa0Big Hero 6\\xa0/\\xa0大英雄联盟(港)  /  大英雄天团(台)', '电影链接': 'https://movie.douban.com/subject/11026735/', '电影评分': 8.7, '评分人数': 1031109, '导演': '导演: 唐·霍尔 Don Hall / 克里斯·威廉姆斯 Chris Williams', '主演': '主演: 斯科特...', '上映年份': '2014', '国家': '美国', '类型': '喜剧 动作 科幻 动画 冒险'}, {'Unnamed: 0': 112, '电影名称': '甜蜜蜜\\xa0/\\xa0Comrades: Almost a Love Story', '电影链接': 'https://movie.douban.com/subject/1305164/', '电影评分': 8.9, '评分人数': 567030, '导演': '导演: 陈可辛 Peter Chan', '主演': '主演: 黎明 Leon Lai / 张曼玉 Maggie Cheung / ...', '上映年份': '1996', '国家': '中国香港', '类型': '剧情 爱情'}, {'Unnamed: 0': 113, '电影名称': '幽灵公主\\xa0/\\xa0もののけ姫\\xa0/\\xa0魔法公主(港)  /  魔法公主(台)', '电影链接': 'https://movie.douban.com/subject/1297359/', '电影评分': 8.9, '评分人数': 532062, '导演': '导演: 宫崎骏 Hayao Miyazaki', '主演': '主演: 松田洋治 Yôji Matsuda / 石田百合...', '上映年份': '1997', '国家': '日本', '类型': '动画 奇幻 冒险'}, {'Unnamed: 0': 114, '电影名称': '爱在日落黄昏时\\xa0/\\xa0Before Sunset\\xa0/\\xa0日落巴黎(港)  /  爱在日落巴黎时(台)', '电影链接': 'https://movie.douban.com/subject/1291990/', '电影评分': 8.9, '评分人数': 572610, '导演': '导演: 理查德·林克莱特 Richard Linklater', '主演': '主演: 伊桑·霍克 Ethan Hawke ...', '上映年份': '2004', '国家': '美国 法国', '类型': '剧情 爱情'}, {'Unnamed: 0': 115, '电影名称': '菊次郎的夏天\\xa0/\\xa0菊次郎の夏\\xa0/\\xa0菊次郎之夏  /  Kikujirô no natsu', '电影链接': 'https://movie.douban.com/subject/1293359/', '电影评分': 8.9, '评分人数': 605399, '导演': '导演: 北野武 Takeshi Kitano', '主演': '主演: 北野武 Takeshi Kitano / 关口雄介 Yus...', '上映年份': '1999', '国家': '日本', '类型': '剧情 喜剧'}, {'Unnamed: 0': 116, '电影名称': '借东西的小人阿莉埃蒂\\xa0/\\xa0借りぐらしのアリエッティ\\xa0/\\xa0借物少女艾莉缇(台)  /  借东西的小矮人亚莉亚蒂(港)', '电影链接': 'https://movie.douban.com/subject/4202302/', '电影评分': 8.9, '评分人数': 562791, '导演': '导演: 米林宏昌 Hiromasa Yonebayashi', '主演': '主演: 志田未来 Mirai Shida / 神木...', '上映年份': '2010', '国家': '日本', '类型': '动画 奇幻 冒险'}, {'Unnamed: 0': 117, '电影名称': '消失的爱人\\xa0/\\xa0Gone Girl\\xa0/\\xa0失踪的女孩  /  失踪女孩', '电影链接': 'https://movie.douban.com/subject/21318488/', '电影评分': 8.7, '评分人数': 970706, '导演': '导演: 大卫·芬奇 David Fincher', '主演': '主演: 本·阿弗莱克 Ben Affleck / 罗莎蒙...', '上映年份': '2014', '国家': '美国', '类型': '剧情 犯罪 悬疑 惊悚'}, {'Unnamed: 0': 118, '电影名称': '寄生虫\\xa0/\\xa0기생충\\xa0/\\xa0寄生上流(台)  /  上流寄生族(港)', '电影链接': 'https://movie.douban.com/subject/27010768/', '电影评分': 8.8, '评分人数': 1390990, '导演': '导演: 奉俊昊 Joon-ho Bong', '主演': '主演: 宋康昊 Kang-ho Song / 李善均 Seon-gyun...', '上映年份': '2019', '国家': '韩国', '类型': '剧情'}, {'Unnamed: 0': 119, '电影名称': '阳光灿烂的日子\\xa0/\\xa0In the Heat of the Sun', '电影链接': 'https://movie.douban.com/subject/1291875/', '电影评分': 8.8, '评分人数': 623250, '导演': '导演: 姜文 Wen Jiang', '主演': '主演: 夏雨 Yu Xia / 宁静 Jing Ning / 陶虹 Hong Tao', '上映年份': '1994', '国家': '中国大陆 中国香港', '类型': '剧情 爱情'}, {'Unnamed: 0': 120, '电影名称': \"天使爱美丽\\xa0/\\xa0Le fabuleux destin d'Amélie Poulain\\xa0/\\xa0艾蜜莉的异想世界(台)  /  天使艾米莉\", '电影链接': 'https://movie.douban.com/subject/1292215/', '电影评分': 8.7, '评分人数': 962559, '导演': '导演: 让-皮埃尔·热内 Jean-Pierre Jeunet', '主演': '主演: 奥黛丽·塔图 Audrey Tau...', '上映年份': '2001', '国家': '法国 德国', '类型': '剧情 喜剧 爱情'}, {'Unnamed: 0': 121, '电影名称': '完美的世界\\xa0/\\xa0A Perfect World\\xa0/\\xa0强盗保镳', '电影链接': 'https://movie.douban.com/subject/1300992/', '电影评分': 9.1, '评分人数': 320526, '导演': '导演: 克林特·伊斯特伍德 Clint Eastwood', '主演': '主演: 凯文·科斯特纳 Kevin Cos...', '上映年份': '1993', '国家': '美国', '类型': '剧情 犯罪'}, {'Unnamed: 0': 122, '电影名称': '小森林 夏秋篇\\xa0/\\xa0リトル・フォレスト 夏・秋\\xa0/\\xa0小森食光 / 夏秋篇(台) ', '电影链接': 'https://movie.douban.com/subject/25814705/', '电影评分': 9.0, '评分人数': 431686, '导演': '导演: 森淳一 Junichi Mori', '主演': '主演: 桥本爱 Ai Hashimoto / 三浦贵大 Takahir...', '上映年份': '2014', '国家': '日本', '类型': '剧情'}, {'Unnamed: 0': 123, '电影名称': '倩女幽魂\\xa0/\\xa0倩女幽魂(87版)  /  倩女幽魂：妖魔道', '电影链接': 'https://movie.douban.com/subject/1297447/', '电影评分': 8.8, '评分人数': 748515, '导演': '导演: 程小东 Siu-Tung Ching', '主演': '主演: 张国荣 Leslie Cheung / 王祖贤 Joey W...', '上映年份': '1987', '国家': '中国香港', '类型': '爱情 奇幻 武侠 古装'}, {'Unnamed: 0': 124, '电影名称': '无人知晓\\xa0/\\xa0誰も知らない\\xa0/\\xa0谁知赤子心(港)  /  无人知晓的夏日清晨(台)', '电影链接': 'https://movie.douban.com/subject/1292337/', '电影评分': 9.1, '评分人数': 324564, '导演': '导演: 是枝裕和 Hirokazu Koreeda', '主演': '主演: 柳乐优弥 Yûya Yagira / 北浦爱...', '上映年份': '2004', '国家': '日本', '类型': '剧情'}, {'Unnamed: 0': 125, '电影名称': '时空恋旅人\\xa0/\\xa0About Time\\xa0/\\xa0回到最爱的一天(港)  /  真爱每一天(台)', '电影链接': 'https://movie.douban.com/subject/10577869/', '电影评分': 8.8, '评分人数': 687664, '导演': '导演: 理查德·柯蒂斯 Richard Curtis', '主演': '主演: 多姆纳尔·格里森 Domhnall Gl...', '上映年份': '2013', '国家': '英国', '类型': '喜剧 爱情 奇幻'}, {'Unnamed: 0': 126, '电影名称': '侧耳倾听\\xa0/\\xa0耳をすませば\\xa0/\\xa0心之谷(台)  /  梦幻街少女(港)', '电影链接': 'https://movie.douban.com/subject/1297052/', '电影评分': 8.9, '评分人数': 470146, '导演': '导演: 近藤喜文 Yoshifumi Kondo', '主演': '主演: 本名阳子 Youko Honna / 小林桂树 K...', '上映年份': '1995', '国家': '日本', '类型': '剧情 爱情 动画'}, {'Unnamed: 0': 127, '电影名称': '未麻的部屋\\xa0/\\xa0Perfect Blue\\xa0/\\xa0蓝色恐惧(港 / 台) ', '电影链接': 'https://movie.douban.com/subject/1395091/', '电影评分': 9.1, '评分人数': 345052, '导演': '导演: 今敏 Satoshi Kon', '主演': '主演: 岩男润子 Junko Iwao / 松本梨香 Rica Matsu...', '上映年份': '1997', '国家': '日本', '类型': '动画 奇幻 惊悚'}, {'Unnamed: 0': 128, '电影名称': '幸福终点站\\xa0/\\xa0The Terminal\\xa0/\\xa0机场客运站(港)  /  航站情缘(台)', '电影链接': 'https://movie.douban.com/subject/1292274/', '电影评分': 8.8, '评分人数': 580503, '导演': '导演: 史蒂文·斯皮尔伯格 Steven Spielberg', '主演': '主演: 汤姆·汉克斯 Tom Hanks...', '上映年份': '2004', '国家': '美国', '类型': '喜剧 剧情 爱情'}, {'Unnamed: 0': 129, '电影名称': '驯龙高手\\xa0/\\xa0How to Train Your Dragon\\xa0/\\xa0驯龙记(港)', '电影链接': 'https://movie.douban.com/subject/2353023/', '电影评分': 8.8, '评分人数': 767331, '导演': '导演: 迪恩·德布洛斯 Dean DeBlois / 克里斯·桑德斯 Chris Sanders', '主演': '主演:...', '上映年份': '2010', '国家': '美国', '类型': '动画 奇幻 冒险'}, {'Unnamed: 0': 130, '电影名称': '哈利·波特与火焰杯\\xa0/\\xa0Harry Potter and the Goblet of Fire\\xa0/\\xa0哈利波特4：火杯的考验(港 / 台) ', '电影链接': 'https://movie.douban.com/subject/1309055/', '电影评分': 8.8, '评分人数': 676154, '导演': '导演: 迈克·内威尔 Mike Newell', '主演': '主演: 丹尼尔·雷德克里夫 Daniel Radclif...', '上映年份': '2005', '国家': '英国 美国', '类型': '悬疑 奇幻 冒险'}, {'Unnamed: 0': 131, '电影名称': '小森林 冬春篇\\xa0/\\xa0リトル・フォレスト 冬・春\\xa0/\\xa0小森食光 / 冬春篇(台) ', '电影链接': 'https://movie.douban.com/subject/25814707/', '电影评分': 9.0, '评分人数': 384282, '导演': '导演: 森淳一 Junichi Mori', '主演': '主演: 桥本爱 Ai Hashimoto / 三浦贵大 Takahir...', '上映年份': '2015', '国家': '日本', '类型': '剧情'}, {'Unnamed: 0': 132, '电影名称': '一个叫欧维的男人决定去死\\xa0/\\xa0En man som heter Ove\\xa0/\\xa0明天别再来敲门(台)  /  想死冇咁易(港)', '电影链接': 'https://movie.douban.com/subject/26628357/', '电影评分': 8.9, '评分人数': 493345, '导演': '导演: 汉内斯·赫尔姆 Hannes Holm', '主演': '主演: 罗夫·拉斯加德 Rolf Lassgård...', '上映年份': '2015', '国家': '瑞典', '类型': '剧情'}, {'Unnamed: 0': 133, '电影名称': '教父3\\xa0/\\xa0The Godfather: Part III\\xa0/\\xa0教父第三集  /  教父 III', '电影链接': 'https://movie.douban.com/subject/1294240/', '电影评分': 9.0, '评分人数': 381249, '导演': '导演: 弗朗西斯·福特·科波拉 Francis Ford Coppola', '主演': '主演: 阿尔·帕西诺 A...', '上映年份': '1990', '国家': '美国', '类型': '剧情 犯罪'}, {'Unnamed: 0': 134, '电影名称': '怪兽电力公司\\xa0/\\xa0Monsters, Inc.\\xa0/\\xa0怪兽公司(港)  /  怪物公司', '电影链接': 'https://movie.douban.com/subject/1291579/', '电影评分': 8.8, '评分人数': 685033, '导演': '导演: 彼特·道格特 Pete Docter / 大卫·斯沃曼 David Silverman', '主演': '主演: 约...', '上映年份': '2001', '国家': '美国', '类型': '儿童 喜剧 动画 奇幻 冒险'}, {'Unnamed: 0': 135, '电影名称': '傲慢与偏见\\xa0/\\xa0Pride & Prejudice\\xa0/\\xa0傲慢与偏见2005  /  Pride And Prejudice', '电影链接': 'https://movie.douban.com/subject/1418200/', '电影评分': 8.7, '评分人数': 815487, '导演': '导演: 乔·怀特 Joe Wright', '主演': '主演: 凯拉·奈特莉 Keira Knightley / 马修·...', '上映年份': '2005', '国家': '法国 英国 美国', '类型': '剧情 爱情'}, {'Unnamed: 0': 136, '电影名称': '玩具总动员3\\xa0/\\xa0Toy Story 3\\xa0/\\xa0反斗奇兵3(港)  /  玩具的故事3', '电影链接': 'https://movie.douban.com/subject/1858711/', '电影评分': 8.9, '评分人数': 527203, '导演': '导演: 李·昂克里奇 Lee Unkrich', '主演': '主演: 汤姆·汉克斯 Tom Hanks / 蒂姆·艾...', '上映年份': '2010', '国家': '美国', '类型': '喜剧 动画 奇幻 冒险'}, {'Unnamed: 0': 137, '电影名称': '萤火之森\\xa0/\\xa0蛍火の杜へ\\xa0/\\xa0萤火之社  /  Hotarubi no mori e', '电影链接': 'https://movie.douban.com/subject/5989818/', '电影评分': 8.9, '评分人数': 548725, '导演': '导演: 大森贵弘 Takahiro Omori', '主演': '主演: 佐仓绫音 Ayane Sakura / 内山昂辉 K...', '上映年份': '2011', '国家': '日本', '类型': '剧情 爱情 动画 奇幻'}, {'Unnamed: 0': 138, '电影名称': '新世界\\xa0/\\xa0신세계\\xa0/\\xa0暗黑新世界(台)  /  New World', '电影链接': 'https://movie.douban.com/subject/10437779/', '电影评分': 8.9, '评分人数': 447318, '导演': '导演: 朴勋政 Hoon-jung Park', '主演': '主演: 李政宰 Jung-Jae Lee / 崔岷植 Min-sik...', '上映年份': '2013', '国家': '韩国', '类型': '剧情 犯罪'}, {'Unnamed: 0': 139, '电影名称': '釜山行\\xa0/\\xa0부산행\\xa0/\\xa0尸杀列车(港)  /  尸速列车(台)', '电影链接': 'https://movie.douban.com/subject/25986180/', '电影评分': 8.6, '评分人数': 1217431, '导演': '导演: 延尚昊 Sang-ho Yeon', '主演': '主演: 孔侑 Yoo Gong / 郑有美 Yu-mi Jung / 马...', '上映年份': '2016', '国家': '韩国', '类型': '动作 惊悚 灾难'}, {'Unnamed: 0': 140, '电影名称': '被解救的姜戈\\xa0/\\xa0Django Unchained\\xa0/\\xa0被解放的姜戈  /  决杀令(台)', '电影链接': 'https://movie.douban.com/subject/6307447/', '电影评分': 8.8, '评分人数': 618742, '导演': '导演: 昆汀·塔伦蒂诺 Quentin Tarantino', '主演': '主演: 杰米·福克斯 Jamie Foxx /...', '上映年份': '2012', '国家': '美国', '类型': '剧情 动作 西部 冒险'}, {'Unnamed: 0': 141, '电影名称': '神偷奶爸\\xa0/\\xa0Despicable Me\\xa0/\\xa0卑鄙的我  /  坏蛋奖门人(港)', '电影链接': 'https://movie.douban.com/subject/3287562/', '电影评分': 8.7, '评分人数': 960009, '导演': '导演: 皮艾尔·柯芬 Pierre Coffin / 克里斯·雷纳德 Chris Renaud', '主演': '主演: ...', '上映年份': '2010', '国家': '美国 法国', '类型': '喜剧 动画 冒险'}, {'Unnamed: 0': 142, '电影名称': '茶馆\\xa0/\\xa0The Teahouse', '电影链接': 'https://movie.douban.com/subject/1461403/', '电影评分': 9.6, '评分人数': 153640, '导演': '导演: 谢添 Tian Xie', '主演': '主演: 于是之 Shizhi Yu / 郑榕 Rong Zhen / 蓝天野 T...', '上映年份': '1982(中国大陆)', '国家': '中国大陆', '类型': '剧情 历史'}, {'Unnamed: 0': 143, '电影名称': '告白\\xa0/\\xa0自白  /  母亲', '电影链接': 'https://movie.douban.com/subject/4268598/', '电影评分': 8.8, '评分人数': 679787, '导演': '导演: 中岛哲也 Tetsuya Nakashima', '主演': '主演: 松隆子 Takako Matsu / 冈田将生 ...', '上映年份': '2010', '国家': '日本', '类型': '剧情 悬疑'}, {'Unnamed: 0': 144, '电影名称': '玛丽和马克思\\xa0/\\xa0Mary and Max\\xa0/\\xa0巧克力情缘(台)  /  同是天涯寂寞客', '电影链接': 'https://movie.douban.com/subject/3072124/', '电影评分': 9.0, '评分人数': 425557, '导演': '导演: 亚当·艾略特 Adam Elliot', '主演': '主演: 托妮·科莱特 Toni Collette / 菲利...', '上映年份': '2009', '国家': '澳大利亚 美国', '类型': '剧情 喜剧 动画'}, {'Unnamed: 0': 145, '电影名称': \"哪吒闹海\\xa0/\\xa0Prince Nezha's Triumph Against Dragon King  /  Nezha Conquers the Dragon King\", '电影链接': 'https://movie.douban.com/subject/1307315/', '电影评分': 9.2, '评分人数': 264407, '导演': '导演: 王树忱 Shuchen Wang / 严定宪 Dingxian Yan', '主演': '主演: 梁正晖 Zhenghui ...', '上映年份': '1979', '国家': '中国大陆', '类型': '冒险 动画 奇幻'}, {'Unnamed: 0': 146, '电影名称': '大鱼\\xa0/\\xa0Big Fish\\xa0/\\xa0大鱼奇缘(港)  /  大智若鱼(台)', '电影链接': 'https://movie.douban.com/subject/1291545/', '电影评分': 8.8, '评分人数': 575364, '导演': '导演: 蒂姆·波顿 Tim Burton', '主演': '主演: 伊万·麦克格雷格 Ewan McGregor / 阿...', '上映年份': '2003', '国家': '美国', '类型': '剧情 家庭 奇幻 冒险'}, {'Unnamed: 0': 147, '电影名称': '九品芝麻官\\xa0/\\xa0九品芝麻官之白面包青天  /  Hail the Judge', '电影链接': 'https://movie.douban.com/subject/1297518/', '电影评分': 8.7, '评分人数': 693981, '导演': '导演: 王晶 Jing Wong', '主演': '主演: 周星驰 Stephen Chow / 吴孟达 Man Tat Ng / ...', '上映年份': '1994', '国家': '中国香港 中国大陆', '类型': '剧情 喜剧 古装'}, {'Unnamed: 0': 148, '电影名称': '色，戒\\xa0/\\xa0色|戒  /  色·戒', '电影链接': 'https://movie.douban.com/subject/1828115/', '电影评分': 8.7, '评分人数': 827369, '导演': '导演: 李安 Ang Lee', '主演': '主演: 梁朝伟 Tony Leung Chiu Wai / 汤唯 Wei Tang / ...', '上映年份': '2007', '国家': '中国台湾 中国大陆 美国 中国香港', '类型': '剧情 爱情 情色'}, {'Unnamed: 0': 149, '电影名称': '喜宴\\xa0/\\xa0囍宴\\xa0/\\xa0The Wedding Banquet', '电影链接': 'https://movie.douban.com/subject/1303037/', '电影评分': 9.0, '评分人数': 370557, '导演': '导演: 李安 Ang Lee', '主演': '主演: 赵文瑄 Winston Chao / 归亚蕾 Ya-lei Kuei / 郎...', '上映年份': '1993', '国家': '中国台湾 美国', '类型': '剧情 喜剧 爱情 同性 家庭'}, {'Unnamed: 0': 150, '电影名称': '模仿游戏\\xa0/\\xa0The Imitation Game\\xa0/\\xa0解码游戏(港)  /  模拟游戏', '电影链接': 'https://movie.douban.com/subject/10463953/', '电影评分': 8.8, '评分人数': 657424, '导演': '导演: 莫滕·泰杜姆 Morten Tyldum', '主演': '主演: 本尼迪克特·康伯巴奇 Benedict C...', '上映年份': '2014', '国家': '英国 美国', '类型': '剧情 传记 战争 同性'}, {'Unnamed: 0': 151, '电影名称': '头号玩家\\xa0/\\xa0Ready Player One\\xa0/\\xa0玩家一号  /  挑战者1号(港)', '电影链接': 'https://movie.douban.com/subject/4920389/', '电影评分': 8.7, '评分人数': 1386596, '导演': '导演: 史蒂文·斯皮尔伯格 Steven Spielberg', '主演': '主演: 泰伊·谢里丹 Tye Sheri...', '上映年份': '2018', '国家': '美国', '类型': '动作 科幻 冒险'}, {'Unnamed: 0': 152, '电影名称': '射雕英雄传之东成西就\\xa0/\\xa0射鵰英雄傳之東成西就\\xa0/\\xa0东成西就  /  大英雄 (日本)', '电影链接': 'https://movie.douban.com/subject/1316510/', '电影评分': 8.7, '评分人数': 647063, '导演': '导演: 刘镇伟 Jeffrey Lau', '主演': '主演: 梁朝伟 Tony Leung Chiu Wai / 林青霞 Bri...', '上映年份': '1993', '国家': '中国香港', '类型': '喜剧 奇幻 武侠 古装'}, {'Unnamed: 0': 153, '电影名称': '花样年华\\xa0/\\xa0花樣年華\\xa0/\\xa0In the Mood for Love', '电影链接': 'https://movie.douban.com/subject/1291557/', '电影评分': 8.8, '评分人数': 619571, '导演': '导演: 王家卫 Kar Wai Wong', '主演': '主演: 梁朝伟 Tony Leung Chiu Wai / 张曼玉 Ma...', '上映年份': '2000', '国家': '中国香港', '类型': '剧情 爱情'}, {'Unnamed: 0': 154, '电影名称': '我是山姆\\xa0/\\xa0I Am Sam\\xa0/\\xa0不一样的爸爸(港)  /  他不笨，他是我爸爸(台)', '电影链接': 'https://movie.douban.com/subject/1306861/', '电影评分': 9.0, '评分人数': 343255, '导演': '导演: 杰茜·尼尔森 Jessie Nelson', '主演': '主演: Sean Penn / Dakota Fanning / Mi...', '上映年份': '2001', '国家': '美国', '类型': '剧情 家庭'}, {'Unnamed: 0': 155, '电影名称': '阳光姐妹淘\\xa0/\\xa0써니\\xa0/\\xa0阳光姊妹淘(港)  /  桑尼', '电影链接': 'https://movie.douban.com/subject/4917726/', '电影评分': 8.8, '评分人数': 596027, '导演': '导演: 姜炯哲 Hyeong-Cheol Kang', '主演': '主演: 沈恩京 Eun-kyung Shim / 闵孝琳 Hy...', '上映年份': '2011', '国家': '韩国', '类型': '剧情 喜剧'}, {'Unnamed: 0': 156, '电影名称': '头脑特工队\\xa0/\\xa0Inside Out\\xa0/\\xa0玩转脑朋友(港)  /  脑筋急转弯(台)', '电影链接': 'https://movie.douban.com/subject/10533913/', '电影评分': 8.8, '评分人数': 626739, '导演': '导演: 彼特·道格特 Pete Docter / 罗纳尔多·德尔·卡门 Ronaldo Del Carmen\\xa0\\xa0&nb...', '主演': nan, '上映年份': '2015', '国家': '美国', '类型': '喜剧 动画 冒险'}, {'Unnamed: 0': 157, '电影名称': '血战钢锯岭\\xa0/\\xa0Hacksaw Ridge\\xa0/\\xa0钢锯岭  /  钢铁英雄(台)', '电影链接': 'https://movie.douban.com/subject/26325320/', '电影评分': 8.7, '评分人数': 792286, '导演': '导演: 梅尔·吉布森 Mel Gibson', '主演': '主演: 安德鲁·加菲尔德 Andrew Garfield /...', '上映年份': '2016', '国家': '澳大利亚 美国', '类型': '剧情 传记 历史 战争'}, {'Unnamed: 0': 158, '电影名称': '七武士\\xa0/\\xa0七人の侍\\xa0/\\xa0七侠四义(港)  /  七剑客(港)', '电影链接': 'https://movie.douban.com/subject/1295399/', '电影评分': 9.3, '评分人数': 201890, '导演': '导演: 黑泽明 Akira Kurosawa', '主演': '主演: 三船敏郎 Toshirô Mifune / 志村乔 ...', '上映年份': '1954', '国家': '日本', '类型': '动作 冒险 剧情'}, {'Unnamed: 0': 159, '电影名称': '恐怖直播\\xa0/\\xa0더 테러 라이브\\xa0/\\xa0死亡“动”新闻(港)  /  恐怖攻击直播(台)', '电影链接': 'https://movie.douban.com/subject/21360417/', '电影评分': 8.7, '评分人数': 661567, '导演': '导演: 金秉祐 Byeong-woo Kim', '主演': '主演: 河正宇 Jung-woo Ha / 李璟荣 Kyeong-y...', '上映年份': '2013', '国家': '韩国', '类型': '剧情 犯罪 悬疑'}, {'Unnamed: 0': 160, '电影名称': '惊魂记\\xa0/\\xa0Psycho\\xa0/\\xa0精神病患者  /  触目惊心(港)', '电影链接': 'https://movie.douban.com/subject/1293181/', '电影评分': 9.0, '评分人数': 302354, '导演': '导演: 阿尔弗雷德·希区柯克 Alfred Hitchcock', '主演': '主演: 安东尼·博金斯 Antho...', '上映年份': '1960', '国家': '美国', '类型': '悬疑 惊悚 恐怖'}, {'Unnamed: 0': 161, '电影名称': '黑客帝国3：矩阵革命\\xa0/\\xa0The Matrix Revolutions\\xa0/\\xa022世纪杀人网络3：惊变世纪(港)  /  骇客任务完结篇：最后战役(台)', '电影链接': 'https://movie.douban.com/subject/1302467/', '电影评分': 8.8, '评分人数': 453182, '导演': '导演: 拉娜·沃卓斯基 Lana Wachowski / 莉莉·沃卓斯基 Lilly Wachowski', '主演': '...', '上映年份': '2003', '国家': '美国', '类型': '动作 科幻'}, {'Unnamed: 0': 162, '电影名称': '你的名字。\\xa0/\\xa0君の名は。\\xa0/\\xa0你的名字  /  君之名', '电影链接': 'https://movie.douban.com/subject/26683290/', '电影评分': 8.5, '评分人数': 1429388, '导演': '导演: 新海诚 Makoto Shinkai', '主演': '主演: 神木隆之介 Ryûnosuke Kamiki / 上...', '上映年份': '2016', '国家': '日本', '类型': '剧情 爱情 动画'}, {'Unnamed: 0': 163, '电影名称': '电锯惊魂\\xa0/\\xa0Saw\\xa0/\\xa0恐惧斗室(港)  /  夺魂锯(台)', '电影链接': 'https://movie.douban.com/subject/1417598/', '电影评分': 8.7, '评分人数': 544023, '导演': '导演: 詹姆斯·温 James Wan', '主演': '主演: 雷·沃纳尔 Leigh Whannell / 加利·艾...', '上映年份': '2004', '国家': '美国', '类型': '悬疑 惊悚 恐怖'}, {'Unnamed: 0': 164, '电影名称': '三块广告牌\\xa0/\\xa0Three Billboards Outside Ebbing, Missouri\\xa0/\\xa0广告牌杀人事件(港)  /  意外(台)', '电影链接': 'https://movie.douban.com/subject/26611804/', '电影评分': 8.7, '评分人数': 831112, '导演': '导演: 马丁·麦克唐纳 Martin McDonagh', '主演': '主演: 弗兰西斯·麦克多蒙德 France...', '上映年份': '2017', '国家': '英国 美国', '类型': '剧情 犯罪'}, {'Unnamed: 0': 165, '电影名称': '达拉斯买家俱乐部\\xa0/\\xa0Dallas Buyers Club\\xa0/\\xa0续命枭雄(港)  /  药命俱乐部(台)', '电影链接': 'https://movie.douban.com/subject/1793929/', '电影评分': 8.8, '评分人数': 458981, '导演': '导演: 让-马克·瓦雷 Jean-Marc Vallée', '主演': '主演: 马修·麦康纳 Matthew McCon...', '上映年份': '2013', '国家': '美国', '类型': '剧情 传记 同性'}, {'Unnamed: 0': 166, '电影名称': '疯狂原始人\\xa0/\\xa0The Croods\\xa0/\\xa0古鲁家族(港 / 台) ', '电影链接': 'https://movie.douban.com/subject/1907966/', '电影评分': 8.7, '评分人数': 849663, '导演': '导演: 科克·德·米科 Kirk De Micco / 克里斯·桑德斯 Chris Sanders', '主演': '主演...', '上映年份': '2013', '国家': '美国', '类型': '喜剧 动画 冒险'}, {'Unnamed: 0': 167, '电影名称': '心迷宫\\xa0/\\xa0殡棺  /  The Coffin in the Mountain', '电影链接': 'https://movie.douban.com/subject/25917973/', '电影评分': 8.7, '评分人数': 531749, '导演': '导演: 忻钰坤 Yukun Xin', '主演': '主演: 霍卫民 Weimin Huo / 王笑天 Xiaotian Wang ...', '上映年份': '2014', '国家': '中国大陆', '类型': '剧情 犯罪 悬疑'}, {'Unnamed: 0': 168, '电影名称': '谍影重重3\\xa0/\\xa0The Bourne Ultimatum\\xa0/\\xa0叛谍追击3：最后通牒(港)  /  神鬼认证：最后通牒 (台)', '电影链接': 'https://movie.douban.com/subject/1578507/', '电影评分': 8.8, '评分人数': 424900, '导演': '导演: 保罗·格林格拉斯 Paul Greengrass', '主演': '主演: 马特·达蒙 Matt Damon / ...', '上映年份': '2007', '国家': '美国 德国 法国 英国', '类型': '动作 悬疑 惊悚'}, {'Unnamed: 0': 169, '电影名称': '英雄本色\\xa0/\\xa0A Better Tomorrow  /  Gangland Boss', '电影链接': 'https://movie.douban.com/subject/1297574/', '电影评分': 8.6, '评分人数': 549770, '导演': '导演: 吴宇森 John Woo', '主演': '主演: 周润发 Yun-Fat Chow / 狄龙 Lung Ti / 张国...', '上映年份': '1986', '国家': '中国香港', '类型': '剧情 动作 犯罪'}, {'Unnamed: 0': 170, '电影名称': '上帝之城\\xa0/\\xa0Cidade de Deus\\xa0/\\xa0无主之城(港)  /  无法无天(台)', '电影链接': 'https://movie.douban.com/subject/1292208/', '电影评分': 9.0, '评分人数': 304991, '导演': '导演: 费尔南多·梅里尔斯 Fernando Meirelles / 卡迪亚·兰德 Kátia Lund\\xa0\\xa0&nbsp...', '主演': nan, '上映年份': '2002', '国家': '巴西 法国', '类型': '犯罪 剧情'}, {'Unnamed: 0': 171, '电影名称': '风之谷\\xa0/\\xa0風の谷のナウシカ\\xa0/\\xa0风谷少女  /  Kaze no tani no Naushika', '电影链接': 'https://movie.douban.com/subject/1291585/', '电影评分': 8.9, '评分人数': 358881, '导演': '导演: 宫崎骏 Hayao Miyazaki', '主演': '主演: 岛本须美 Sumi Shimamoto / 松田洋治 Y...', '上映年份': '1984', '国家': '日本', '类型': '动画 奇幻 冒险'}, {'Unnamed: 0': 172, '电影名称': '纵横四海\\xa0/\\xa0緃横四海\\xa0/\\xa0Once a Thief', '电影链接': 'https://movie.douban.com/subject/1295409/', '电影评分': 8.8, '评分人数': 432389, '导演': '导演: 吴宇森 John Woo', '主演': '主演: 周润发 Yun-Fat Chow / 张国荣 Leslie Cheung...', '上映年份': '1991', '国家': '中国香港', '类型': '剧情 喜剧 动作 犯罪'}, {'Unnamed: 0': 173, '电影名称': '卢旺达饭店\\xa0/\\xa0Hotel Rwanda\\xa0/\\xa0卢安达饭店(台)', '电影链接': 'https://movie.douban.com/subject/1291822/', '电影评分': 8.9, '评分人数': 334921, '导演': '导演: 特瑞·乔治 Terry George', '主演': '主演: 唐·钱德尔 Don Cheadle / 苏菲·奥...', '上映年份': '2004', '国家': '英国 南非 意大利 美国', '类型': '剧情 传记 历史 战争'}, {'Unnamed: 0': 174, '电影名称': '海街日记\\xa0/\\xa0海街diary\\xa0/\\xa0海街女孩日记(港)  /  Kamakura Diary', '电影链接': 'https://movie.douban.com/subject/25895901/', '电影评分': 8.8, '评分人数': 456549, '导演': '导演: 是枝裕和 Hirokazu Koreeda', '主演': '主演: 绫濑遥 Haruka Ayase / 长泽雅美 M...', '上映年份': '2015', '国家': '日本', '类型': '剧情 家庭'}, {'Unnamed: 0': 175, '电影名称': '爱在午夜降临前\\xa0/\\xa0Before Midnight\\xa0/\\xa0情约半生(港)  /  爱在午夜希腊时(台)', '电影链接': 'https://movie.douban.com/subject/10808442/', '电影评分': 8.9, '评分人数': 411002, '导演': '导演: 理查德·林克莱特 Richard Linklater', '主演': '主演: 伊桑·霍克 Ethan Hawke ...', '上映年份': '2013', '国家': '美国 希腊', '类型': '剧情 爱情'}, {'Unnamed: 0': 176, '电影名称': '绿里奇迹\\xa0/\\xa0The Green Mile\\xa0/\\xa0绿色奇迹(台)  /  绿色英里', '电影链接': 'https://movie.douban.com/subject/1300374/', '电影评分': 8.9, '评分人数': 336448, '导演': '导演: 弗兰克·德拉邦特 Frank Darabont', '主演': '主演: 汤姆·汉克斯 Tom Hanks / ...', '上映年份': '1999', '国家': '美国', '类型': '犯罪 剧情 奇幻 悬疑'}, {'Unnamed: 0': 177, '电影名称': '记忆碎片\\xa0/\\xa0Memento\\xa0/\\xa0凶心人(港)  /  记忆拼图(台)', '电影链接': 'https://movie.douban.com/subject/1304447/', '电影评分': 8.7, '评分人数': 612700, '导演': '导演: 克里斯托弗·诺兰 Christopher Nolan', '主演': '主演: 盖·皮尔斯 Guy Pearce /...', '上映年份': '2000', '国家': '美国', '类型': '犯罪 剧情 悬疑 惊悚'}, {'Unnamed: 0': 178, '电影名称': '小丑\\xa0/\\xa0Joker\\xa0/\\xa0小丑起源电影：罗密欧  /  Romeo', '电影链接': 'https://movie.douban.com/subject/27119724/', '电影评分': 8.7, '评分人数': 1021684, '导演': '导演: 托德·菲利普斯 Todd Phillips', '主演': '主演: 杰昆·菲尼克斯 Joaquin Phoeni...', '上映年份': '2019', '国家': '美国 加拿大', '类型': '剧情 犯罪 惊悚'}, {'Unnamed: 0': 179, '电影名称': '疯狂的石头\\xa0/\\xa0Crazy Stone', '电影链接': 'https://movie.douban.com/subject/1862151/', '电影评分': 8.6, '评分人数': 835247, '导演': '导演: 宁浩 Hao Ning', '主演': '主演: 郭涛 Tao Guo / 刘桦 Hua Liu / 连晋 Teddy Lin', '上映年份': '2006', '国家': '中国大陆 中国香港', '类型': '喜剧 犯罪'}, {'Unnamed: 0': 180, '电影名称': '背靠背，脸对脸\\xa0/\\xa0背对背，脸对脸  /  Back to Back, Face to Face', '电影链接': 'https://movie.douban.com/subject/1307856/', '电影评分': 9.5, '评分人数': 138664, '导演': '导演: 黄建新 Jianxin Huang / 杨亚洲 Yazhou Yang', '主演': '主演: 牛振华 Zhenhua N...', '上映年份': '1994', '国家': '中国大陆 中国香港', '类型': '剧情'}, {'Unnamed: 0': 181, '电影名称': \"雨中曲\\xa0/\\xa0Singin' in the Rain\\xa0/\\xa0万花嬉春(港 / 台) \", '电影链接': 'https://movie.douban.com/subject/1293460/', '电影评分': 9.1, '评分人数': 230767, '导演': '导演: 斯坦利·多南 Stanley Donen / 吉恩·凯利 Gene Kelly', '主演': '主演: 吉恩·...', '上映年份': '1952', '国家': '美国', '类型': '喜剧 歌舞 爱情'}, {'Unnamed: 0': 182, '电影名称': '岁月神偷\\xa0/\\xa0歲月神偷\\xa0/\\xa01969太空漫游  /  Echoes Of The Rainbow', '电影链接': 'https://movie.douban.com/subject/3792799/', '电影评分': 8.7, '评分人数': 579352, '导演': '导演: 罗启锐 Alex Law', '主演': '主演: 吴君如 Sandra Ng / 任达华 Simon Yam / 钟绍...', '上映年份': '2010', '国家': '中国香港 中国大陆', '类型': '剧情 家庭'}, {'Unnamed: 0': 183, '电影名称': '2001太空漫游\\xa0/\\xa02001: A Space Odyssey\\xa0/\\xa02001：星际漫游  /  2001：太空奥德赛', '电影链接': 'https://movie.douban.com/subject/1292226/', '电影评分': 8.9, '评分人数': 337636, '导演': '导演: 斯坦利·库布里克 Stanley Kubrick', '主演': '主演: 凯尔·杜拉 Keir Dullea / ...', '上映年份': '1968', '国家': '英国 美国', '类型': '科幻 惊悚 冒险'}, {'Unnamed: 0': 184, '电影名称': '心灵奇旅\\xa0/\\xa0Soul\\xa0/\\xa0灵魂奇遇记(港)  /  灵魂急转弯(台)', '电影链接': 'https://movie.douban.com/subject/24733428/', '电影评分': 8.7, '评分人数': 999248, '导演': '导演: 彼特·道格特 Pete Docter / 凯普·鲍尔斯 Kemp Powers', '主演': '主演: 杰米·...', '上映年份': '2020', '国家': '美国', '类型': '动画 奇幻 音乐'}, {'Unnamed: 0': 185, '电影名称': '忠犬八公物语\\xa0/\\xa0ハチ公物語\\xa0/\\xa0八千公物语  /  阿八的故事', '电影链接': 'https://movie.douban.com/subject/1959195/', '电影评分': 9.2, '评分人数': 198777, '导演': '导演: 神山征二郎 Seijirô Kôyama', '主演': '主演: 仲代达矢 Tatsuya Nakadai /...', '上映年份': '1987', '国家': '日本', '类型': '剧情'}, {'Unnamed: 0': 186, '电影名称': '荒蛮故事\\xa0/\\xa0Relatos salvajes\\xa0/\\xa0蛮荒故事  /  生命中最抓狂的小事(台)', '电影链接': 'https://movie.douban.com/subject/24750126/', '电影评分': 8.8, '评分人数': 450023, '导演': '导演: 达米安·斯兹弗隆 Damián Szifron', '主演': '主演: 达里奥·葛兰帝内提 Darío...', '上映年份': '2014', '国家': '阿根廷 西班牙', '类型': '剧情 喜剧 犯罪'}, {'Unnamed: 0': 187, '电影名称': '无间道2\\xa0/\\xa0無間道II\\xa0/\\xa0无间道前传  /  Infernal Affairs II', '电影链接': 'https://movie.douban.com/subject/1307106/', '电影评分': 8.7, '评分人数': 488673, '导演': '导演: 刘伟强 / 麦兆辉', '主演': '主演: 陈冠希 Edison Chen / 余文乐 Shawn Yue / 曾...', '上映年份': '2003', '国家': '中国香港', '类型': '剧情 犯罪 惊悚'}, {'Unnamed: 0': 188, '电影名称': '小偷家族\\xa0/\\xa0万引き家族\\xa0/\\xa0Shoplifters  /  Une Affaire de Famille', '电影链接': 'https://movie.douban.com/subject/27622447/', '电影评分': 8.7, '评分人数': 821461, '导演': '导演: 是枝裕和 Hirokazu Koreeda', '主演': '主演: 中川雅也 Lily Franky / 安藤樱 Sa...', '上映年份': '2018', '国家': '日本', '类型': '剧情 犯罪 家庭'}, {'Unnamed: 0': 189, '电影名称': '无敌破坏王\\xa0/\\xa0Wreck-It Ralph\\xa0/\\xa0破坏王拉尔夫  /  破坏王大冒险', '电影链接': 'https://movie.douban.com/subject/6534248/', '电影评分': 8.7, '评分人数': 548850, '导演': '导演: 瑞奇·莫尔 Rich Moore', '主演': '主演: 约翰·C·赖利 John C. Reilly / 萨拉...', '上映年份': '2012', '国家': '美国', '类型': '喜剧 动画 奇幻 冒险'}, {'Unnamed: 0': 190, '电影名称': '爆裂鼓手\\xa0/\\xa0Whiplash\\xa0/\\xa0鼓动真我(港)  /  进击的鼓手(台)', '电影链接': 'https://movie.douban.com/subject/25773932/', '电影评分': 8.7, '评分人数': 597450, '导演': '导演: 达米恩·查泽雷 Damien Chazelle', '主演': '主演: 迈尔斯·特勒 Miles Teller /...', '上映年份': '2014', '国家': '美国', '类型': '剧情 音乐'}, {'Unnamed: 0': 191, '电影名称': '冰川时代\\xa0/\\xa0Ice Age\\xa0/\\xa0冰河世纪  /  冰原历险记', '电影链接': 'https://movie.douban.com/subject/1291578/', '电影评分': 8.6, '评分人数': 624474, '导演': '导演: 卡洛斯·沙尔丹哈 Carlos Saldanha / 克里斯·韦奇 Chris Wedge', '主演': '主演...', '上映年份': '2002', '国家': '美国', '类型': '喜剧 动画 冒险'}, {'Unnamed: 0': 192, '电影名称': '恐怖游轮\\xa0/\\xa0Triangle\\xa0/\\xa0汪洋血迷宮(台)  /  轮回三角', '电影链接': 'https://movie.douban.com/subject/3011051/', '电影评分': 8.5, '评分人数': 879097, '导演': '导演: 克里斯托弗·史密斯 Christopher Smith', '主演': '主演: 梅利莎·乔治 Melissa ...', '上映年份': '2009', '国家': '英国 澳大利亚', '类型': '剧情 悬疑 惊悚'}, {'Unnamed: 0': 193, '电影名称': '贫民窟的百万富翁\\xa0/\\xa0Slumdog Millionaire\\xa0/\\xa0一百万零一夜(港)  /  贫民百万富翁(台)', '电影链接': 'https://movie.douban.com/subject/2209573/', '电影评分': 8.6, '评分人数': 753679, '导演': '导演: 丹尼·鲍尔 Danny Boyle / 洛芙琳·坦丹 Loveleen Tandan', '主演': '主演: 戴夫...', '上映年份': '2008', '国家': '英国', '类型': '剧情 爱情'}, {'Unnamed: 0': 194, '电影名称': '牯岭街少年杀人事件\\xa0/\\xa0牯嶺街少年殺人事件\\xa0/\\xa0A Brighter Summer Day', '电影链接': 'https://movie.douban.com/subject/1292329/', '电影评分': 8.9, '评分人数': 307528, '导演': '导演: 杨德昌 Edward Yang', '主演': '主演: 张震 Chen Chang / 杨静怡 Lisa Yang / 张...', '上映年份': '1991', '国家': '中国台湾', '类型': '剧情 犯罪'}, {'Unnamed: 0': 195, '电影名称': '东邪西毒\\xa0/\\xa0東邪西毒\\xa0/\\xa0Ashes of Time', '电影链接': 'https://movie.douban.com/subject/1292328/', '电影评分': 8.6, '评分人数': 583826, '导演': '导演: 王家卫 Kar Wai Wong', '主演': '主演: 张国荣 Leslie Cheung / 林青霞 Brigitte...', '上映年份': '1994', '国家': '中国香港 中国台湾', '类型': '剧情 动作 爱情 武侠 古装'}, {'Unnamed: 0': 196, '电影名称': '魔女宅急便\\xa0/\\xa0魔女の宅急便\\xa0/\\xa0魔女琪琪(台)  /  小魔女限时专送', '电影链接': 'https://movie.douban.com/subject/1307811/', '电影评分': 8.7, '评分人数': 466925, '导演': '导演: 宫崎骏 Hayao Miyazaki', '主演': '主演: 高山南 Minami Takayama / 佐久间玲 Re...', '上映年份': '1989', '国家': '日本', '类型': '动画 奇幻 冒险'}, {'Unnamed: 0': 197, '电影名称': '遗愿清单\\xa0/\\xa0The Bucket List\\xa0/\\xa0玩转身前事(港)  /  一路玩到挂(台)', '电影链接': 'https://movie.douban.com/subject/1867345/', '电影评分': 8.7, '评分人数': 470912, '导演': '导演: 罗伯·莱纳 Rob Reiner', '主演': '主演: 杰克·尼科尔森 Jack Nicholson / 摩根...', '上映年份': '2007', '国家': '美国', '类型': '冒险 喜剧 剧情'}, {'Unnamed: 0': 198, '电影名称': '东京教父\\xa0/\\xa0東京ゴッドファーザーズ\\xa0/\\xa0Tokyo Godfathers', '电影链接': 'https://movie.douban.com/subject/1310177/', '电影评分': 9.0, '评分人数': 236572, '导演': '导演: 今敏 Satoshi Kon', '主演': '主演: 江守彻 Toru Emori / 梅垣义明 Yoshiaki Ume...', '上映年份': '2003', '国家': '日本', '类型': '剧情 喜剧 动画'}, {'Unnamed: 0': 199, '电影名称': '大佛普拉斯\\xa0/\\xa0The Great Buddha+', '电影链接': 'https://movie.douban.com/subject/27059130/', '电影评分': 8.7, '评分人数': 468983, '导演': '导演: 黄信尧 Hsin-yao Huang', '主演': '主演: 庄益增 Yizeng Zhuang / 陈竹昇 Chu-sh...', '上映年份': '2017', '国家': '中国台湾', '类型': '剧情 喜剧'}, {'Unnamed: 0': 200, '电影名称': '你看起来好像很好吃\\xa0/\\xa0おまえうまそうだな\\xa0/\\xa0你看起来很好吃(台)  /  你看上去好像很好吃', '电影链接': 'https://movie.douban.com/subject/4848115/', '电影评分': 8.9, '评分人数': 338032, '导演': '导演: 藤森雅也 Masaya Fujimori', '主演': '主演: 山口胜平 Kappei Yamaguchi / 爱河...', '上映年份': '2010', '国家': '日本', '类型': '剧情 动画 儿童'}, {'Unnamed: 0': 201, '电影名称': '真爱至上\\xa0/\\xa0Love Actually\\xa0/\\xa0真的恋爱了(港)  /  爱是您，爱是我(台)', '电影链接': 'https://movie.douban.com/subject/1292401/', '电影评分': 8.6, '评分人数': 739317, '导演': '导演: 理查德·柯蒂斯 Richard Curtis', '主演': '主演: 休·格兰特 Hugh Grant / 连姆...', '上映年份': '2003', '国家': '英国 美国 法国', '类型': '喜剧 剧情 爱情'}, {'Unnamed: 0': 202, '电影名称': '可可西里\\xa0/\\xa0Kekexili: Mountain Patrol', '电影链接': 'https://movie.douban.com/subject/1308857/', '电影评分': 8.9, '评分人数': 308204, '导演': '导演: 陆川 Chuan Lu', '主演': '主演: 多布杰 Duobujie / 张磊 Lei Zhang / 亓亮 Qi L...', '上映年份': '2004', '国家': '中国大陆 中国香港', '类型': '剧情 犯罪'}, {'Unnamed: 0': 203, '电影名称': '黑天鹅\\xa0/\\xa0Black Swan\\xa0/\\xa0夺命黑天鹅  /  霸王别鹅(豆友译名)', '电影链接': 'https://movie.douban.com/subject/1978709/', '电影评分': 8.6, '评分人数': 788006, '导演': '导演: 达伦·阿罗诺夫斯基 Darren Aronofsky', '主演': '主演: 娜塔莉·波特曼 Natalie...', '上映年份': '2010', '国家': '美国', '类型': '剧情 惊悚'}, {'Unnamed: 0': 204, '电影名称': '城市之光\\xa0/\\xa0City Lights\\xa0/\\xa0City Lights: A Comedy Romance in Pantomime  /  Lichter der Großstadt', '电影链接': 'https://movie.douban.com/subject/1293908/', '电影评分': 9.3, '评分人数': 149842, '导演': '导演: Charles Chaplin', '主演': '主演: 查理·卓别林 Charles Chaplin / 弗吉尼亚·...', '上映年份': '1931', '国家': '美国', '类型': '喜剧 剧情 爱情'}, {'Unnamed: 0': 205, '电影名称': '源代码\\xa0/\\xa0Source Code\\xa0/\\xa0启动原始码(台)  /  危机解密(港)', '电影链接': 'https://movie.douban.com/subject/3075287/', '电影评分': 8.5, '评分人数': 845824, '导演': '导演: 邓肯·琼斯 Duncan Jones', '主演': '主演: 杰克·吉伦哈尔 Jake Gyllenhaal / ...', '上映年份': '2011', '国家': '美国 加拿大', '类型': '科幻 悬疑 惊悚'}, {'Unnamed: 0': 206, '电影名称': '海边的曼彻斯特\\xa0/\\xa0Manchester by the Sea\\xa0/\\xa0情系海边之城(港)', '电影链接': 'https://movie.douban.com/subject/25980443/', '电影评分': 8.6, '评分人数': 554384, '导演': '导演: 肯尼斯·罗纳根 Kenneth Lonergan', '主演': '主演: 卡西·阿弗莱克 Casey Affle...', '上映年份': '2016', '国家': '美国', '类型': '剧情 家庭'}, {'Unnamed: 0': 207, '电影名称': '雨人\\xa0/\\xa0Rain Man\\xa0/\\xa0手足情未了(港)  /  手足情深', '电影链接': 'https://movie.douban.com/subject/1291870/', '电影评分': 8.7, '评分人数': 409102, '导演': '导演: 巴瑞·莱文森 Barry Levinson', '主演': '主演: 达斯汀·霍夫曼 Dustin Hoffman ...', '上映年份': '1988', '国家': '美国', '类型': '剧情'}, {'Unnamed: 0': 208, '电影名称': '波西米亚狂想曲\\xa0/\\xa0Bohemian Rhapsody\\xa0/\\xa0波希米亚狂想曲：摇滚传说(港)  /  波希米亚狂想曲(台)', '电影链接': 'https://movie.douban.com/subject/5300054/', '电影评分': 8.6, '评分人数': 615227, '导演': '导演: 布莱恩·辛格 Bryan Singer', '主演': '主演: 拉米·马雷克 Rami Malek / 本·哈...', '上映年份': '2018', '国家': '英国 美国', '类型': '剧情 传记 同性 音乐'}, {'Unnamed: 0': 209, '电影名称': '初恋这件小事\\xa0/\\xa0สิ่งเล็กเล็กที่เรียกว่า...รัก\\xa0/\\xa0初恋那件小事(港)  /  暗恋那点小事', '电影链接': 'https://movie.douban.com/subject/4739952/', '电影评分': 8.5, '评分人数': 988793, '导演': '导演: 普特鹏·普罗萨卡·那·萨克那卡林 Puttipong Promsaka Na Sakolnakorn / 华森·波克彭...', '主演': nan, '上映年份': '2010', '国家': '泰国', '类型': '剧情 喜剧 爱情'}, {'Unnamed: 0': 210, '电影名称': '恋恋笔记本\\xa0/\\xa0The Notebook\\xa0/\\xa0忘了·忘不了(港)  /  手札情缘(台)', '电影链接': 'https://movie.douban.com/subject/1309163/', '电影评分': 8.5, '评分人数': 680787, '导演': '导演: 尼克·卡索维茨 Nick Cassavetes', '主演': '主演: 瑞恩·高斯林 Ryan Gosling /...', '上映年份': '2004', '国家': '美国', '类型': '剧情 爱情'}, {'Unnamed: 0': 211, '电影名称': '人工智能\\xa0/\\xa0A.I. Artificial Intelligence\\xa0/\\xa0AI人工智慧', '电影链接': 'https://movie.douban.com/subject/1302827/', '电影评分': 8.7, '评分人数': 453486, '导演': '导演: 史蒂文·斯皮尔伯格 Steven Spielberg', '主演': '主演: 海利·乔·奥斯蒙 Haley...', '上映年份': '2001', '国家': '美国 英国', '类型': '剧情 科幻'}, {'Unnamed: 0': 212, '电影名称': '青蛇\\xa0/\\xa0Green Snake', '电影链接': 'https://movie.douban.com/subject/1303394/', '电影评分': 8.6, '评分人数': 535053, '导演': '导演: 徐克 Hark Tsui', '主演': '主演: 张曼玉 Maggie Cheung / 王祖贤 Joey Wang / ...', '上映年份': '1993', '国家': '中国香港 中国大陆', '类型': '剧情 爱情 奇幻 古装'}, {'Unnamed: 0': 213, '电影名称': '虎口脱险\\xa0/\\xa0La grande vadrouille\\xa0/\\xa0横冲直撞出重围(港)  /  大進擊(台)', '电影链接': 'https://movie.douban.com/subject/1296909/', '电影评分': 8.9, '评分人数': 261711, '导演': '导演: 杰拉尔·乌里 Gérard Oury', '主演': '主演: 路易·德·菲耐斯 Louis de Funès...', '上映年份': '1966', '国家': '法国 英国', '类型': '喜剧 战争'}, {'Unnamed: 0': 214, '电影名称': '末路狂花\\xa0/\\xa0Thelma & Louise\\xa0/\\xa0塞尔玛与路易丝  /  末路狂花', '电影链接': 'https://movie.douban.com/subject/1291992/', '电影评分': 8.9, '评分人数': 264971, '导演': '导演: 雷德利·斯科特 Ridley Scott', '主演': '主演: 吉娜·戴维斯 Geena Davis / 苏...', '上映年份': '1991', '国家': '美国 英国 法国', '类型': '犯罪 剧情 惊悚'}, {'Unnamed: 0': 215, '电影名称': '终结者2：审判日\\xa0/\\xa0Terminator 2: Judgment Day\\xa0/\\xa0未来战士2(港)  /  魔鬼终结者2(台)', '电影链接': 'https://movie.douban.com/subject/1291844/', '电影评分': 8.8, '评分人数': 346586, '导演': '导演: 詹姆斯·卡梅隆 James Cameron', '主演': '主演: 阿诺·施瓦辛格 Arnold Schwarz...', '上映年份': '1991', '国家': '美国 法国', '类型': '动作 科幻'}, {'Unnamed: 0': 216, '电影名称': '疯狂的麦克斯4：狂暴之路\\xa0/\\xa0Mad Max: Fury Road\\xa0/\\xa0末日先锋：战甲飞车(港)  /  疯狂麦斯：愤怒道(台)', '电影链接': 'https://movie.douban.com/subject/3592854/', '电影评分': 8.7, '评分人数': 538524, '导演': '导演: 乔治·米勒 George Miller', '主演': '主演: 汤姆·哈迪 Tom Hardy / 查理兹·塞...', '上映年份': '2015', '国家': '澳大利亚 美国', '类型': '动作 科幻 冒险'}, {'Unnamed: 0': 217, '电影名称': '罗生门\\xa0/\\xa0羅生門\\xa0/\\xa0Rashomon', '电影链接': 'https://movie.douban.com/subject/1291879/', '电影评分': 8.8, '评分人数': 319972, '导演': '导演: 黑泽明 Akira Kurosawa', '主演': '主演: 三船敏郎 Toshirô Mifune / 京町子 ...', '上映年份': '1950', '国家': '日本', '类型': '剧情 犯罪 悬疑'}, {'Unnamed: 0': 218, '电影名称': '新龙门客栈\\xa0/\\xa0新龍門客棧\\xa0/\\xa0New Dragon Gate Inn', '电影链接': 'https://movie.douban.com/subject/1292287/', '电影评分': 8.7, '评分人数': 451621, '导演': '导演: 李惠民 Raymond Lee', '主演': '主演: 张曼玉 Maggie Cheung / 林青霞 Brigitte ...', '上映年份': '1992', '国家': '中国香港 中国大陆', '类型': '动作 爱情 武侠 古装'}, {'Unnamed: 0': 219, '电影名称': '无耻混蛋\\xa0/\\xa0Inglourious Basterds\\xa0/\\xa0希魔撞正杀人狂(港)  /  恶棍特工(台)', '电影链接': 'https://movie.douban.com/subject/1438652/', '电影评分': 8.7, '评分人数': 486944, '导演': '导演: 昆汀·塔伦蒂诺 Quentin Tarantino', '主演': '主演: 布拉德·皮特 Brad Pitt / ...', '上映年份': '2009', '国家': '德国 美国', '类型': '剧情 犯罪'}, {'Unnamed: 0': 220, '电影名称': '千钧一发\\xa0/\\xa0Gattaca\\xa0/\\xa0变种异煞(港)  /  自然人', '电影链接': 'https://movie.douban.com/subject/1300117/', '电影评分': 8.8, '评分人数': 305340, '导演': '导演: 安德鲁·尼科尔 Andrew Niccol', '主演': '主演: 伊桑·霍克 Ethan Hawke / 乌玛...', '上映年份': '1997', '国家': '美国', '类型': '剧情 科幻 惊悚'}, {'Unnamed: 0': 221, '电影名称': '崖上的波妞\\xa0/\\xa0崖の上のポニョ\\xa0/\\xa0悬崖上的金鱼姬  /  悬崖上的金鱼公主', '电影链接': 'https://movie.douban.com/subject/1959877/', '电影评分': 8.6, '评分人数': 506824, '导演': '导演: 宫崎骏 Hayao Miyazaki', '主演': '主演: 奈良柚莉爱 Yuria Nara / 土井洋辉 Hir...', '上映年份': '2008', '国家': '日本', '类型': '动画 奇幻 冒险'}, {'Unnamed: 0': 222, '电影名称': '萤火虫之墓\\xa0/\\xa0火垂るの墓\\xa0/\\xa0再见萤火虫(港)  /  萤火挽歌', '电影链接': 'https://movie.douban.com/subject/1293318/', '电影评分': 8.7, '评分人数': 408674, '导演': '导演: 高畑勋 Isao Takahata', '主演': '主演: 辰己努 / 白石绫乃 / 志乃原良子', '上映年份': '1988', '国家': '日本', '类型': '动画 剧情 战争'}, {'Unnamed: 0': 223, '电影名称': '芙蓉镇\\xa0/\\xa0Hibiscus Town', '电影链接': 'https://movie.douban.com/subject/1297880/', '电影评分': 9.3, '评分人数': 144761, '导演': '导演: 谢晋 Jin Xie', '主演': '主演: 刘晓庆 Xiaoqing Liu / 姜文 Wen Jiang / 郑在石...', '上映年份': '1987', '国家': '中国大陆', '类型': '剧情 爱情'}, {'Unnamed: 0': 224, '电影名称': '花束般的恋爱\\xa0/\\xa0花束みたいな恋をした\\xa0/\\xa0她和他的恋爱花期(港)  /  爱如花束 恋恋不忘', '电影链接': 'https://movie.douban.com/subject/34874432/', '电影评分': 8.6, '评分人数': 643730, '导演': '导演: 土井裕泰 Nobuhiro Doi', '主演': '主演: 菅田将晖 Masaki Suda / 有村架纯 Kasu...', '上映年份': '2021', '国家': '日本', '类型': '剧情 爱情'}, {'Unnamed: 0': 225, '电影名称': '彗星来的那一夜\\xa0/\\xa0Coherence\\xa0/\\xa0相干性  /  相干效应', '电影链接': 'https://movie.douban.com/subject/25807345/', '电影评分': 8.6, '评分人数': 592120, '导演': '导演: 詹姆斯·沃德·布柯特 James Ward Byrkit', '主演': '主演: 艾米丽·芭尔多尼 Em...', '上映年份': '2013', '国家': '美国 英国', '类型': '科幻 悬疑 惊悚'}, {'Unnamed: 0': 226, '电影名称': '奇迹男孩\\xa0/\\xa0Wonder\\xa0/\\xa0奇迹', '电影链接': 'https://movie.douban.com/subject/26787574/', '电影评分': 8.6, '评分人数': 557579, '导演': '导演: 斯蒂芬·卓博斯基 Stephen Chbosky', '主演': '主演: 雅各布·特伦布莱 Jacob Tr...', '上映年份': '2017', '国家': '美国 中国香港', '类型': '剧情 儿童 家庭'}, {'Unnamed: 0': 227, '电影名称': '爱乐之城\\xa0/\\xa0La La Land\\xa0/\\xa0星声梦里人(港)  /  乐来越爱你(台)', '电影链接': 'https://movie.douban.com/subject/25934014/', '电影评分': 8.4, '评分人数': 914813, '导演': '导演: 达米恩·查泽雷 Damien Chazelle', '主演': '主演: 瑞恩·高斯林 Ryan Gosling /...', '上映年份': '2016', '国家': '美国', '类型': '剧情 爱情 歌舞'}, {'Unnamed: 0': 228, '电影名称': '黑客帝国2：重装上阵\\xa0/\\xa0The Matrix Reloaded\\xa0/\\xa022世纪杀人网络2：决战未来(港)  /  骇客任务：重装上阵(台)', '电影链接': 'https://movie.douban.com/subject/1304141/', '电影评分': 8.7, '评分人数': 412075, '导演': '导演: 拉娜·沃卓斯基 Lana Wachowski / 莉莉·沃卓斯基 Lilly Wachowski', '主演': '...', '上映年份': '2003', '国家': '美国', '类型': '动作 科幻'}, {'Unnamed: 0': 229, '电影名称': '二十二\\xa0/\\xa0Twenty Two  /  22', '电影链接': 'https://movie.douban.com/subject/26430107/', '电影评分': 8.7, '评分人数': 294723, '导演': '导演: 郭柯 Ke Guo', '主演': '主演: ', '上映年份': '2015', '国家': '中国大陆', '类型': '纪录片'}, {'Unnamed: 0': 230, '电影名称': '哈利·波特与死亡圣器(上)\\xa0/\\xa0Harry Potter and the Deathly Hallows: Part 1\\xa0/\\xa0哈利波特7：死神的圣物1(港 / 台) ', '电影链接': 'https://movie.douban.com/subject/2051007/', '电影评分': 8.5, '评分人数': 588708, '导演': '导演: 大卫·叶茨 David Yates', '主演': '主演: 丹尼尔·雷德克里夫 Daniel Radcliffe...', '上映年份': '2010', '国家': '英国 美国', '类型': '奇幻 冒险'}, {'Unnamed: 0': 231, '电影名称': '血钻\\xa0/\\xa0Blood Diamond\\xa0/\\xa0血钻石(台)  /  血腥钻石', '电影链接': 'https://movie.douban.com/subject/1428175/', '电影评分': 8.7, '评分人数': 385505, '导演': '导演: 爱德华·兹威克 Edward Zwick', '主演': '主演: 莱昂纳多·迪卡普里奥 Leonardo ...', '上映年份': '2006', '国家': '美国 德国 英国', '类型': '剧情 惊悚 冒险'}, {'Unnamed: 0': 232, '电影名称': '战争之王\\xa0/\\xa0Lord of War\\xa0/\\xa0军火之王(台 / 港) ', '电影链接': 'https://movie.douban.com/subject/1419936/', '电影评分': 8.7, '评分人数': 374430, '导演': '导演: 安德鲁·尼科尔 Andrew Niccol', '主演': '主演: 尼古拉斯·凯奇 Nicolas Cage /...', '上映年份': '2005', '国家': '美国 德国', '类型': '剧情 犯罪'}, {'Unnamed: 0': 233, '电影名称': '步履不停\\xa0/\\xa0歩いても 歩いても\\xa0/\\xa0横山家之味(港 / 台) ', '电影链接': 'https://movie.douban.com/subject/2222996/', '电影评分': 8.8, '评分人数': 283836, '导演': '导演: 是枝裕和 Hirokazu Koreeda', '主演': '主演: 阿部宽 Hiroshi Abe / 夏川结衣 Yu...', '上映年份': '2008', '国家': '日本', '类型': '剧情 家庭'}, {'Unnamed: 0': 234, '电影名称': '火星救援\\xa0/\\xa0The Martian\\xa0/\\xa0火星任务(港)  /  绝地救援(台)', '电影链接': 'https://movie.douban.com/subject/25864085/', '电影评分': 8.5, '评分人数': 741406, '导演': '导演: 雷德利·斯科特 Ridley Scott', '主演': '主演: 马特·达蒙 Matt Damon / 杰西卡...', '上映年份': '2015', '国家': '英国 美国 匈牙利 约旦', '类型': '剧情 科幻 冒险'}, {'Unnamed: 0': 235, '电影名称': '房间\\xa0/\\xa0Room\\xa0/\\xa0不存在的房间(台)  /  抖室(港)', '电影链接': 'https://movie.douban.com/subject/25724855/', '电影评分': 8.8, '评分人数': 371773, '导演': '导演: 伦尼·阿伯拉罕森 Lenny Abrahamson', '主演': '主演: 布丽·拉尔森 Brie Larson...', '上映年份': '2015', '国家': '爱尔兰 加拿大 英国 美国', '类型': '剧情 家庭'}, {'Unnamed: 0': 236, '电影名称': '魂断蓝桥\\xa0/\\xa0Waterloo Bridge\\xa0/\\xa0滑铁卢桥  /  断桥残梦', '电影链接': 'https://movie.douban.com/subject/1293964/', '电影评分': 8.8, '评分人数': 282793, '导演': '导演: 茂文·勒鲁瓦 Mervyn LeRoy', '主演': '主演: 费雯·丽 Vivien Leigh / 罗伯特·...', '上映年份': '1940', '国家': '美国', '类型': '剧情 爱情 战争'}, {'Unnamed: 0': 237, '电影名称': '千年女优\\xa0/\\xa0千年女優\\xa0/\\xa0Millennium Actress', '电影链接': 'https://movie.douban.com/subject/1307394/', '电影评分': 8.8, '评分人数': 273867, '导演': '导演: 今敏 Satoshi Kon', '主演': '主演: 庄司美代子 Miyoko Shôji / 小山茉美 Mam...', '上映年份': '2001', '国家': '日本', '类型': '动画 剧情 爱情'}, {'Unnamed: 0': 238, '电影名称': '谍影重重2\\xa0/\\xa0The Bourne Supremacy\\xa0/\\xa0叛谍追击2：机密圈套(港)  /  神鬼认证：神鬼疑云(台)', '电影链接': 'https://movie.douban.com/subject/1308767/', '电影评分': 8.7, '评分人数': 358541, '导演': '导演: 保罗·格林格拉斯 Paul Greengrass', '主演': '主演: 马特·达蒙 Matt Damon / ...', '上映年份': '2004', '国家': '美国 德国', '类型': '动作 悬疑 惊悚'}, {'Unnamed: 0': 239, '电影名称': '白日梦想家\\xa0/\\xa0The Secret Life of Walter Mitty\\xa0/\\xa0发梦王大历险(港)  /  白日梦冒险王(台)', '电影链接': 'https://movie.douban.com/subject/2133323/', '电影评分': 8.6, '评分人数': 497388, '导演': '导演: 本·斯蒂勒 Ben Stiller', '主演': '主演: 本·斯蒂勒 Ben Stiller / 克里斯汀·...', '上映年份': '2013', '国家': '美国 英国', '类型': '剧情 喜剧 冒险'}, {'Unnamed: 0': 240, '电影名称': '哈利·波特与凤凰社\\xa0/\\xa0Harry Potter and the Order of the Phoenix\\xa0/\\xa0哈利波特5：凤凰会的密令(港 / 台) ', '电影链接': 'https://movie.douban.com/subject/1457217/', '电影评分': 8.5, '评分人数': 583082, '导演': '导演: 大卫·叶茨 David Yates', '主演': '主演: 丹尼尔·雷德克里夫 Daniel Radcliffe...', '上映年份': '2007', '国家': '英国 美国', '类型': '奇幻 冒险'}, {'Unnamed: 0': 241, '电影名称': '弱点\\xa0/\\xa0The Blind Side\\xa0/\\xa0守护有心人(港)  /  攻其不备(台)', '电影链接': 'https://movie.douban.com/subject/3552028/', '电影评分': 8.7, '评分人数': 315213, '导演': '导演: 约翰·李·汉考克 John Lee Hancock', '主演': '主演: 桑德拉·布洛克 Sandra Bu...', '上映年份': '2009', '国家': '美国', '类型': '剧情 家庭 传记 运动'}, {'Unnamed: 0': 242, '电影名称': '蜘蛛侠：平行宇宙\\xa0/\\xa0Spider-Man: Into the Spider-Verse\\xa0/\\xa0蜘蛛侠：新纪元  /  蜘蛛人：新宇宙(台)', '电影链接': 'https://movie.douban.com/subject/26374197/', '电影评分': 8.6, '评分人数': 677824, '导演': '导演: 鲍勃·佩尔西凯蒂 Bob Persichetti / 彼得·拉姆齐 Peter Ramsey', '主演': '主...', '上映年份': '2018', '国家': '美国', '类型': '动作 科幻 动画 冒险'}, {'Unnamed: 0': 243, '电影名称': '谍影重重\\xa0/\\xa0The Bourne Identity\\xa0/\\xa0叛谍追击(港)  /  神鬼认证(台)', '电影链接': 'https://movie.douban.com/subject/1304102/', '电影评分': 8.6, '评分人数': 434655, '导演': '导演: 道格·里曼 Doug Liman', '主演': '主演: 马特·达蒙 Matt Damon / 弗兰卡·波坦...', '上映年份': '2002', '国家': '美国 德国 捷克', '类型': '动作 悬疑 惊悚'}, {'Unnamed: 0': 244, '电影名称': '阿飞正传\\xa0/\\xa0阿飛正傳\\xa0/\\xa0Days of Being Wild', '电影链接': 'https://movie.douban.com/subject/1305690/', '电影评分': 8.5, '评分人数': 518116, '导演': '导演: 王家卫 Kar Wai Wong', '主演': '主演: 张国荣 Leslie Cheung / 张曼玉 Maggie C...', '上映年份': '1990', '国家': '中国香港', '类型': '犯罪 剧情 爱情'}, {'Unnamed: 0': 245, '电影名称': '朗读者\\xa0/\\xa0The Reader\\xa0/\\xa0为爱朗读(台)  /  读爱(港)', '电影链接': 'https://movie.douban.com/subject/2213597/', '电影评分': 8.6, '评分人数': 458116, '导演': '导演: 史蒂芬·戴德利 Stephen Daldry', '主演': '主演: 凯特·温丝莱特 Kate Winslet ...', '上映年份': '2008', '国家': '美国 德国', '类型': '剧情 爱情'}, {'Unnamed: 0': 246, '电影名称': '燃情岁月\\xa0/\\xa0Legends of the Fall\\xa0/\\xa0秋日传奇  /  真爱一世情(台)', '电影链接': 'https://movie.douban.com/subject/1295865/', '电影评分': 8.7, '评分人数': 290891, '导演': '导演: 爱德华·兹威克 Edward Zwick', '主演': '主演: 布拉德·皮特 Brad Pitt / 安东...', '上映年份': '1994', '国家': '美国', '类型': '剧情 爱情 战争 西部'}, {'Unnamed: 0': 247, '电影名称': '再次出发之纽约遇见你\\xa0/\\xa0Begin Again\\xa0/\\xa0再次出发  /  歌曲改变人生', '电影链接': 'https://movie.douban.com/subject/6874403/', '电影评分': 8.6, '评分人数': 432832, '导演': '导演: 约翰·卡尼 John Carney', '主演': '主演: 凯拉·奈特莉 Keira Knightley / 马克...', '上映年份': '2013', '国家': '美国', '类型': '喜剧 爱情 音乐'}, {'Unnamed: 0': 248, '电影名称': '高山下的花环\\xa0/\\xa0卫国军魂(港)  /  Wreaths at the Foot of the Mountain', '电影链接': 'https://movie.douban.com/subject/1422283/', '电影评分': 9.5, '评分人数': 90705, '导演': '导演: 谢晋 Jin Xie', '主演': '主演: 吕晓禾 Xiaohe Lü / 唐国强 Guoqiang Tang / 何...', '上映年份': '1984(中国大陆)', '国家': '1985', '类型': '中国大陆'}, {'Unnamed: 0': 249, '电影名称': '大红灯笼高高挂\\xa0/\\xa0Raise The Red Lantern  /  Épouses et concubines', '电影链接': 'https://movie.douban.com/subject/1293323/', '电影评分': 8.8, '评分人数': 280051, '导演': '导演: 张艺谋 Yimou Zhang', '主演': '主演: 巩俐 Li Gong / 马精武 Jingwu Ma / 何赛...', '上映年份': '1991', '国家': '中国大陆 中国香港 中国台湾', '类型': '剧情'}]\n",
      "file exists\n",
      "肖申克的救赎 / The Shawshank Redemption / 月黑高飞(港)  /  刺激1995(台) is done!\n",
      "file exists\n",
      "霸王别姬 / 再见，我的妾  /  Farewell My Concubine is done!\n",
      "file exists\n",
      "阿甘正传 / Forrest Gump / 福雷斯特·冈普 is done!\n",
      "file exists\n",
      "泰坦尼克号 / Titanic / 铁达尼号(港 / 台) is done!\n",
      "file exists\n",
      "这个杀手不太冷 / Léon / 终极追杀令(台)  /  杀手莱昂 is done!\n",
      "file exists\n",
      "千与千寻 / 千と千尋の神隠し / 神隐少女(台)  /  千与千寻的神隐 is done!\n",
      "file exists\n",
      "美丽人生 / La vita è bella / 一个快乐的传说(港)  /  Life Is Beautiful is done!\n",
      "file exists\n",
      "星际穿越 / Interstellar / 星际启示录(港)  /  星际效应(台) is done!\n",
      "file exists\n",
      "盗梦空间 / Inception / 潜行凶间(港)  /  全面启动(台) is done!\n",
      "file exists\n",
      "辛德勒的名单 / Schindler's List / 舒特拉的名单(港)  /  辛德勒名单 is done!\n",
      "file exists\n",
      "楚门的世界 / The Truman Show / 真人Show(港)  /  真人戏 is done!\n",
      "file exists\n",
      "忠犬八公的故事 / Hachi: A Dog's Tale / 秋田犬八千(港)  /  忠犬小八(台) is done!\n",
      "file exists\n",
      "海上钢琴师 / La leggenda del pianista sull'oceano / 声光伴我飞(港)  /  一九零零的传奇 is done!\n",
      "file exists\n",
      "三傻大闹宝莱坞 / 3 Idiots / 三个傻瓜(台)  /  作死不离3兄弟(港) is done!\n",
      "file exists\n",
      "放牛班的春天 / Les choristes / 歌声伴我心(港)  /  唱诗班男孩 is done!\n",
      "file exists\n",
      "机器人总动员 / WALL·E / 太空奇兵·威E(港)  /  瓦力(台) is done!\n",
      "file exists\n",
      "疯狂动物城 / Zootopia / 优兽大都会(港)  /  动物方城市(台) is done!\n",
      "file exists\n",
      "无间道 / 無間道 / Infernal Affairs  /  Mou gaan dou is done!\n",
      "file exists\n",
      "控方证人 / Witness for the Prosecution / 雄才伟略  /  情妇 is done!\n",
      "file exists\n",
      "大话西游之大圣娶亲 / 西遊記大結局之仙履奇緣 / 西游记完结篇仙履奇缘  /  齐天大圣西游记 is done!\n",
      "file exists\n",
      "熔炉 / 도가니 / 无声呐喊(港)  /  漩涡 is done!\n",
      "file exists\n",
      "教父 / The Godfather / Mario Puzo's The Godfather is done!\n",
      "file exists\n",
      "触不可及 / Intouchables / 闪亮人生(港)  /  逆转人生(台) is done!\n",
      "file exists\n",
      "当幸福来敲门 / The Pursuit of Happyness / 寻找快乐的故事(港)  /  追求快乐 is done!\n",
      "file exists\n",
      "末代皇帝 / The Last Emperor / 末代皇帝溥仪(港)  /  L'ultimo imperatore is done!\n",
      "file exists\n",
      "寻梦环游记 / Coco / 玩转极乐园(港)  /  可可夜总会(台) is done!\n",
      "file exists\n",
      "龙猫 / となりのトトロ / 邻居托托罗  /  邻家的豆豆龙 is done!\n",
      "file exists\n",
      "怦然心动 / Flipped / 萌动青春  /  青春萌动 is done!\n",
      "file exists\n",
      "活着 / 人生  /  Lifetimes is done!\n",
      "file exists\n",
      "哈利·波特与魔法石 / Harry Potter and the Sorcerer's Stone / 哈利波特1：神秘的魔法石(港 / 台)  is done!\n",
      "file exists\n",
      "蝙蝠侠：黑暗骑士 / The Dark Knight / 蝙蝠侠前传2：黑暗骑士  /  黑暗骑士(台) is done!\n",
      "file exists\n",
      "指环王3：王者无敌 / The Lord of the Rings: The Return of the King / 魔戒三部曲：王者再临(台 / 港)  is done!\n",
      "file exists\n",
      "我不是药神 / 中国药神  /  印度药神 is done!\n",
      "file exists\n",
      "乱世佳人 / Gone with the Wind / 飘 is done!\n",
      "file exists\n",
      "飞屋环游记 / Up / 冲天救兵(港)  /  天外奇迹(台) is done!\n",
      "file exists\n",
      "素媛 / 소원 / 许愿  /  希望：为爱重生(台) is done!\n",
      "file exists\n",
      "哈尔的移动城堡 / ハウルの動く城 / 哈尔移动城堡(港)  /  霍尔的移动城堡(台) is done!\n",
      "file exists\n",
      "十二怒汉 / 12 Angry Men / 12怒汉  /  十二怒汉 is done!\n",
      "file exists\n",
      "何以为家 / كفرناحوم / 迦百农  /  星仔打官司(港) is done!\n",
      "file exists\n",
      "摔跤吧！爸爸 / Dangal / 我和我的冠军女儿(台)  /  打死不离3父女(港) is done!\n",
      "file exists\n",
      "让子弹飞 / 让子弹飞一会儿  /  火烧云 is done!\n",
      "file exists\n",
      "猫鼠游戏 / Catch Me If You Can / 逍遥法外  /  捉智双雄(港) is done!\n",
      "file exists\n",
      "天空之城 / 天空の城ラピュタ / 天空之城拉普他  /  空中城堡拉普他 is done!\n",
      "file exists\n",
      "鬼子来了 / Devils on the Doorstep is done!\n",
      "file exists\n",
      "少年派的奇幻漂流 / Life of Pi / 少年Pi的奇幻漂流  /  漂流少年Pi is done!\n",
      "file exists\n",
      "海蒂和爷爷 / Heidi / 飘零燕(港)  /  海蒂 is done!\n",
      "file exists\n",
      "钢琴家 / The Pianist / 钢琴战曲(港)  /  战地琴人(台) is done!\n",
      "file exists\n",
      "大话西游之月光宝盒 / 西遊記第壹佰零壹回之月光寶盒 / 西游记101回月光宝盒  /  齐天大圣东游记 is done!\n",
      "file exists\n",
      "指环王2：双塔奇兵 / The Lord of the Rings: The Two Towers / 魔戒二部曲：双城奇谋  /  指环王II：双塔 is done!\n",
      "file exists\n",
      "闻香识女人 / Scent of a Woman / 女人香  /  女人的芳香 is done!\n",
      "file exists\n",
      "死亡诗社 / Dead Poets Society / 暴雨骄阳(港)  /  春风化雨(台) is done!\n",
      "file exists\n",
      "绿皮书 / Green Book / 绿簿旅友(港)  /  幸福绿皮书(台) is done!\n",
      "file exists\n",
      "罗马假日 / Roman Holiday / 金枝玉叶(港)  /  罗马假期(台) is done!\n",
      "file exists\n",
      "大闹天宫 / 大闹天宫 上下集  /  The Monkey King is done!\n",
      "file exists\n",
      "天堂电影院 / Nuovo Cinema Paradiso / 星光伴我心(港)  /  新天堂乐园(台) is done!\n",
      "file exists\n",
      "指环王1：护戒使者 / The Lord of the Rings: The Fellowship of the Ring / 指环王1：魔戒再现  /  指环王I：护戒使者 is done!\n",
      "file exists\n",
      "黑客帝国 / The Matrix / 22世纪杀人网络(港)  /  廿二世纪杀人网络(港) is done!\n",
      "file exists\n",
      "教父2 / The Godfather: Part II / 教父续集(港)  /  教父II is done!\n",
      "file exists\n",
      "狮子王 / The Lion King / 狮子王3D is done!\n",
      "file exists\n",
      "辩护人 / 변호인 / 逆权大状(港)  /  正义辩护人(台) is done!\n",
      "file exists\n",
      "饮食男女 / 飲食男女 / Eat Drink Man Woman is done!\n",
      "file exists\n",
      "搏击俱乐部 / Fight Club / 搏击会(港)  /  斗阵俱乐部(台) is done!\n",
      "file exists\n",
      "本杰明·巴顿奇事 / The Curious Case of Benjamin Button / 奇幻逆缘(港)  /  班杰明的奇幻旅程(台) is done!\n",
      "file exists\n",
      "美丽心灵 / A Beautiful Mind / 有你终生美丽(港)  /  美丽境界(台) is done!\n",
      "file exists\n",
      "穿条纹睡衣的男孩 / The Boy in the Striped Pajamas / 穿条纹衣服的男孩  /  穿条纹衣的男孩 is done!\n",
      "file exists\n",
      "窃听风暴 / Das Leben der Anderen / 窃听者(港)  /  他人的生活 is done!\n",
      "file exists\n",
      "情书 / Love Letter / When I Close My Eyes  /  Letters of Love is done!\n",
      "file exists\n",
      "两杆大烟枪 / Lock, Stock and Two Smoking Barrels / 够姜四小强(港)  /  两根枪管(台) is done!\n",
      "file exists\n",
      "西西里的美丽传说 / Malèna / 真爱伴我行(台)  /  玛莲娜 is done!\n",
      "file exists\n",
      "看不见的客人 / Contratiempo / 死无对证(港)  /  布局(台) is done!\n",
      "file exists\n",
      "音乐之声 / The Sound of Music / 仙乐飘飘处处闻(港)  /  真善美(台) is done!\n",
      "file exists\n",
      "阿凡达 / Avatar /  is done!\n",
      "file exists\n",
      "拯救大兵瑞恩 / Saving Private Ryan / 雷霆救兵(港)  /  抢救雷恩大兵(台) is done!\n"
     ]
    },
    {
     "name": "stderr",
     "output_type": "stream",
     "text": [
      "c:\\Users\\shaoh\\anaconda3\\Lib\\site-packages\\urllib3\\connectionpool.py:1061: InsecureRequestWarning: Unverified HTTPS request is being made to host '127.0.0.1'. Adding certificate verification is strongly advised. See: https://urllib3.readthedocs.io/en/1.26.x/advanced-usage.html#ssl-warnings\n",
      "  warnings.warn(\n",
      "c:\\Users\\shaoh\\anaconda3\\Lib\\site-packages\\urllib3\\connectionpool.py:1061: InsecureRequestWarning: Unverified HTTPS request is being made to host '127.0.0.1'. Adding certificate verification is strongly advised. See: https://urllib3.readthedocs.io/en/1.26.x/advanced-usage.html#ssl-warnings\n",
      "  warnings.warn(\n"
     ]
    },
    {
     "name": "stdout",
     "output_type": "stream",
     "text": [
      "Page 1 is done!\n"
     ]
    },
    {
     "name": "stderr",
     "output_type": "stream",
     "text": [
      "c:\\Users\\shaoh\\anaconda3\\Lib\\site-packages\\urllib3\\connectionpool.py:1061: InsecureRequestWarning: Unverified HTTPS request is being made to host '127.0.0.1'. Adding certificate verification is strongly advised. See: https://urllib3.readthedocs.io/en/1.26.x/advanced-usage.html#ssl-warnings\n",
      "  warnings.warn(\n",
      "c:\\Users\\shaoh\\anaconda3\\Lib\\site-packages\\urllib3\\connectionpool.py:1061: InsecureRequestWarning: Unverified HTTPS request is being made to host '127.0.0.1'. Adding certificate verification is strongly advised. See: https://urllib3.readthedocs.io/en/1.26.x/advanced-usage.html#ssl-warnings\n",
      "  warnings.warn(\n"
     ]
    },
    {
     "name": "stdout",
     "output_type": "stream",
     "text": [
      "Page 2 is done!\n"
     ]
    },
    {
     "name": "stderr",
     "output_type": "stream",
     "text": [
      "c:\\Users\\shaoh\\anaconda3\\Lib\\site-packages\\urllib3\\connectionpool.py:1061: InsecureRequestWarning: Unverified HTTPS request is being made to host '127.0.0.1'. Adding certificate verification is strongly advised. See: https://urllib3.readthedocs.io/en/1.26.x/advanced-usage.html#ssl-warnings\n",
      "  warnings.warn(\n",
      "c:\\Users\\shaoh\\anaconda3\\Lib\\site-packages\\urllib3\\connectionpool.py:1061: InsecureRequestWarning: Unverified HTTPS request is being made to host '127.0.0.1'. Adding certificate verification is strongly advised. See: https://urllib3.readthedocs.io/en/1.26.x/advanced-usage.html#ssl-warnings\n",
      "  warnings.warn(\n"
     ]
    },
    {
     "name": "stdout",
     "output_type": "stream",
     "text": [
      "Page 3 is done!\n"
     ]
    },
    {
     "name": "stderr",
     "output_type": "stream",
     "text": [
      "c:\\Users\\shaoh\\anaconda3\\Lib\\site-packages\\urllib3\\connectionpool.py:1061: InsecureRequestWarning: Unverified HTTPS request is being made to host '127.0.0.1'. Adding certificate verification is strongly advised. See: https://urllib3.readthedocs.io/en/1.26.x/advanced-usage.html#ssl-warnings\n",
      "  warnings.warn(\n",
      "c:\\Users\\shaoh\\anaconda3\\Lib\\site-packages\\urllib3\\connectionpool.py:1061: InsecureRequestWarning: Unverified HTTPS request is being made to host '127.0.0.1'. Adding certificate verification is strongly advised. See: https://urllib3.readthedocs.io/en/1.26.x/advanced-usage.html#ssl-warnings\n",
      "  warnings.warn(\n"
     ]
    },
    {
     "name": "stdout",
     "output_type": "stream",
     "text": [
      "Page 4 is done!\n"
     ]
    },
    {
     "name": "stderr",
     "output_type": "stream",
     "text": [
      "c:\\Users\\shaoh\\anaconda3\\Lib\\site-packages\\urllib3\\connectionpool.py:1061: InsecureRequestWarning: Unverified HTTPS request is being made to host '127.0.0.1'. Adding certificate verification is strongly advised. See: https://urllib3.readthedocs.io/en/1.26.x/advanced-usage.html#ssl-warnings\n",
      "  warnings.warn(\n",
      "c:\\Users\\shaoh\\anaconda3\\Lib\\site-packages\\urllib3\\connectionpool.py:1061: InsecureRequestWarning: Unverified HTTPS request is being made to host '127.0.0.1'. Adding certificate verification is strongly advised. See: https://urllib3.readthedocs.io/en/1.26.x/advanced-usage.html#ssl-warnings\n",
      "  warnings.warn(\n"
     ]
    },
    {
     "name": "stdout",
     "output_type": "stream",
     "text": [
      "Page 5 is done!\n"
     ]
    },
    {
     "name": "stderr",
     "output_type": "stream",
     "text": [
      "c:\\Users\\shaoh\\anaconda3\\Lib\\site-packages\\urllib3\\connectionpool.py:1061: InsecureRequestWarning: Unverified HTTPS request is being made to host '127.0.0.1'. Adding certificate verification is strongly advised. See: https://urllib3.readthedocs.io/en/1.26.x/advanced-usage.html#ssl-warnings\n",
      "  warnings.warn(\n",
      "c:\\Users\\shaoh\\anaconda3\\Lib\\site-packages\\urllib3\\connectionpool.py:1061: InsecureRequestWarning: Unverified HTTPS request is being made to host '127.0.0.1'. Adding certificate verification is strongly advised. See: https://urllib3.readthedocs.io/en/1.26.x/advanced-usage.html#ssl-warnings\n",
      "  warnings.warn(\n"
     ]
    },
    {
     "name": "stdout",
     "output_type": "stream",
     "text": [
      "Page 6 is done!\n"
     ]
    },
    {
     "name": "stderr",
     "output_type": "stream",
     "text": [
      "c:\\Users\\shaoh\\anaconda3\\Lib\\site-packages\\urllib3\\connectionpool.py:1061: InsecureRequestWarning: Unverified HTTPS request is being made to host '127.0.0.1'. Adding certificate verification is strongly advised. See: https://urllib3.readthedocs.io/en/1.26.x/advanced-usage.html#ssl-warnings\n",
      "  warnings.warn(\n",
      "c:\\Users\\shaoh\\anaconda3\\Lib\\site-packages\\urllib3\\connectionpool.py:1061: InsecureRequestWarning: Unverified HTTPS request is being made to host '127.0.0.1'. Adding certificate verification is strongly advised. See: https://urllib3.readthedocs.io/en/1.26.x/advanced-usage.html#ssl-warnings\n",
      "  warnings.warn(\n"
     ]
    },
    {
     "name": "stdout",
     "output_type": "stream",
     "text": [
      "Page 7 is done!\n"
     ]
    },
    {
     "name": "stderr",
     "output_type": "stream",
     "text": [
      "c:\\Users\\shaoh\\anaconda3\\Lib\\site-packages\\urllib3\\connectionpool.py:1061: InsecureRequestWarning: Unverified HTTPS request is being made to host '127.0.0.1'. Adding certificate verification is strongly advised. See: https://urllib3.readthedocs.io/en/1.26.x/advanced-usage.html#ssl-warnings\n",
      "  warnings.warn(\n",
      "c:\\Users\\shaoh\\anaconda3\\Lib\\site-packages\\urllib3\\connectionpool.py:1061: InsecureRequestWarning: Unverified HTTPS request is being made to host '127.0.0.1'. Adding certificate verification is strongly advised. See: https://urllib3.readthedocs.io/en/1.26.x/advanced-usage.html#ssl-warnings\n",
      "  warnings.warn(\n"
     ]
    },
    {
     "name": "stdout",
     "output_type": "stream",
     "text": [
      "Page 8 is done!\n"
     ]
    },
    {
     "name": "stderr",
     "output_type": "stream",
     "text": [
      "c:\\Users\\shaoh\\anaconda3\\Lib\\site-packages\\urllib3\\connectionpool.py:1061: InsecureRequestWarning: Unverified HTTPS request is being made to host '127.0.0.1'. Adding certificate verification is strongly advised. See: https://urllib3.readthedocs.io/en/1.26.x/advanced-usage.html#ssl-warnings\n",
      "  warnings.warn(\n",
      "c:\\Users\\shaoh\\anaconda3\\Lib\\site-packages\\urllib3\\connectionpool.py:1061: InsecureRequestWarning: Unverified HTTPS request is being made to host '127.0.0.1'. Adding certificate verification is strongly advised. See: https://urllib3.readthedocs.io/en/1.26.x/advanced-usage.html#ssl-warnings\n",
      "  warnings.warn(\n"
     ]
    },
    {
     "name": "stdout",
     "output_type": "stream",
     "text": [
      "Page 9 is done!\n"
     ]
    },
    {
     "name": "stderr",
     "output_type": "stream",
     "text": [
      "c:\\Users\\shaoh\\anaconda3\\Lib\\site-packages\\urllib3\\connectionpool.py:1061: InsecureRequestWarning: Unverified HTTPS request is being made to host '127.0.0.1'. Adding certificate verification is strongly advised. See: https://urllib3.readthedocs.io/en/1.26.x/advanced-usage.html#ssl-warnings\n",
      "  warnings.warn(\n",
      "c:\\Users\\shaoh\\anaconda3\\Lib\\site-packages\\urllib3\\connectionpool.py:1061: InsecureRequestWarning: Unverified HTTPS request is being made to host '127.0.0.1'. Adding certificate verification is strongly advised. See: https://urllib3.readthedocs.io/en/1.26.x/advanced-usage.html#ssl-warnings\n",
      "  warnings.warn(\n"
     ]
    },
    {
     "name": "stdout",
     "output_type": "stream",
     "text": [
      "Page 10 is done!\n"
     ]
    },
    {
     "name": "stderr",
     "output_type": "stream",
     "text": [
      "c:\\Users\\shaoh\\anaconda3\\Lib\\site-packages\\urllib3\\connectionpool.py:1061: InsecureRequestWarning: Unverified HTTPS request is being made to host '127.0.0.1'. Adding certificate verification is strongly advised. See: https://urllib3.readthedocs.io/en/1.26.x/advanced-usage.html#ssl-warnings\n",
      "  warnings.warn(\n",
      "c:\\Users\\shaoh\\anaconda3\\Lib\\site-packages\\urllib3\\connectionpool.py:1061: InsecureRequestWarning: Unverified HTTPS request is being made to host '127.0.0.1'. Adding certificate verification is strongly advised. See: https://urllib3.readthedocs.io/en/1.26.x/advanced-usage.html#ssl-warnings\n",
      "  warnings.warn(\n"
     ]
    },
    {
     "name": "stdout",
     "output_type": "stream",
     "text": [
      "Page 11 is done!\n"
     ]
    },
    {
     "name": "stderr",
     "output_type": "stream",
     "text": [
      "c:\\Users\\shaoh\\anaconda3\\Lib\\site-packages\\urllib3\\connectionpool.py:1061: InsecureRequestWarning: Unverified HTTPS request is being made to host '127.0.0.1'. Adding certificate verification is strongly advised. See: https://urllib3.readthedocs.io/en/1.26.x/advanced-usage.html#ssl-warnings\n",
      "  warnings.warn(\n",
      "c:\\Users\\shaoh\\anaconda3\\Lib\\site-packages\\urllib3\\connectionpool.py:1061: InsecureRequestWarning: Unverified HTTPS request is being made to host '127.0.0.1'. Adding certificate verification is strongly advised. See: https://urllib3.readthedocs.io/en/1.26.x/advanced-usage.html#ssl-warnings\n",
      "  warnings.warn(\n"
     ]
    },
    {
     "name": "stdout",
     "output_type": "stream",
     "text": [
      "Page 12 is done!\n"
     ]
    },
    {
     "name": "stderr",
     "output_type": "stream",
     "text": [
      "c:\\Users\\shaoh\\anaconda3\\Lib\\site-packages\\urllib3\\connectionpool.py:1061: InsecureRequestWarning: Unverified HTTPS request is being made to host '127.0.0.1'. Adding certificate verification is strongly advised. See: https://urllib3.readthedocs.io/en/1.26.x/advanced-usage.html#ssl-warnings\n",
      "  warnings.warn(\n",
      "c:\\Users\\shaoh\\anaconda3\\Lib\\site-packages\\urllib3\\connectionpool.py:1061: InsecureRequestWarning: Unverified HTTPS request is being made to host '127.0.0.1'. Adding certificate verification is strongly advised. See: https://urllib3.readthedocs.io/en/1.26.x/advanced-usage.html#ssl-warnings\n",
      "  warnings.warn(\n"
     ]
    },
    {
     "name": "stdout",
     "output_type": "stream",
     "text": [
      "Page 13 is done!\n"
     ]
    },
    {
     "name": "stderr",
     "output_type": "stream",
     "text": [
      "c:\\Users\\shaoh\\anaconda3\\Lib\\site-packages\\urllib3\\connectionpool.py:1061: InsecureRequestWarning: Unverified HTTPS request is being made to host '127.0.0.1'. Adding certificate verification is strongly advised. See: https://urllib3.readthedocs.io/en/1.26.x/advanced-usage.html#ssl-warnings\n",
      "  warnings.warn(\n",
      "c:\\Users\\shaoh\\anaconda3\\Lib\\site-packages\\urllib3\\connectionpool.py:1061: InsecureRequestWarning: Unverified HTTPS request is being made to host '127.0.0.1'. Adding certificate verification is strongly advised. See: https://urllib3.readthedocs.io/en/1.26.x/advanced-usage.html#ssl-warnings\n",
      "  warnings.warn(\n"
     ]
    },
    {
     "name": "stdout",
     "output_type": "stream",
     "text": [
      "Page 14 is done!\n"
     ]
    },
    {
     "name": "stderr",
     "output_type": "stream",
     "text": [
      "c:\\Users\\shaoh\\anaconda3\\Lib\\site-packages\\urllib3\\connectionpool.py:1061: InsecureRequestWarning: Unverified HTTPS request is being made to host '127.0.0.1'. Adding certificate verification is strongly advised. See: https://urllib3.readthedocs.io/en/1.26.x/advanced-usage.html#ssl-warnings\n",
      "  warnings.warn(\n",
      "c:\\Users\\shaoh\\anaconda3\\Lib\\site-packages\\urllib3\\connectionpool.py:1061: InsecureRequestWarning: Unverified HTTPS request is being made to host '127.0.0.1'. Adding certificate verification is strongly advised. See: https://urllib3.readthedocs.io/en/1.26.x/advanced-usage.html#ssl-warnings\n",
      "  warnings.warn(\n"
     ]
    },
    {
     "name": "stdout",
     "output_type": "stream",
     "text": [
      "Page 15 is done!\n"
     ]
    },
    {
     "name": "stderr",
     "output_type": "stream",
     "text": [
      "c:\\Users\\shaoh\\anaconda3\\Lib\\site-packages\\urllib3\\connectionpool.py:1061: InsecureRequestWarning: Unverified HTTPS request is being made to host '127.0.0.1'. Adding certificate verification is strongly advised. See: https://urllib3.readthedocs.io/en/1.26.x/advanced-usage.html#ssl-warnings\n",
      "  warnings.warn(\n",
      "c:\\Users\\shaoh\\anaconda3\\Lib\\site-packages\\urllib3\\connectionpool.py:1061: InsecureRequestWarning: Unverified HTTPS request is being made to host '127.0.0.1'. Adding certificate verification is strongly advised. See: https://urllib3.readthedocs.io/en/1.26.x/advanced-usage.html#ssl-warnings\n",
      "  warnings.warn(\n"
     ]
    },
    {
     "name": "stdout",
     "output_type": "stream",
     "text": [
      "Page 16 is done!\n"
     ]
    },
    {
     "name": "stderr",
     "output_type": "stream",
     "text": [
      "c:\\Users\\shaoh\\anaconda3\\Lib\\site-packages\\urllib3\\connectionpool.py:1061: InsecureRequestWarning: Unverified HTTPS request is being made to host '127.0.0.1'. Adding certificate verification is strongly advised. See: https://urllib3.readthedocs.io/en/1.26.x/advanced-usage.html#ssl-warnings\n",
      "  warnings.warn(\n",
      "c:\\Users\\shaoh\\anaconda3\\Lib\\site-packages\\urllib3\\connectionpool.py:1061: InsecureRequestWarning: Unverified HTTPS request is being made to host '127.0.0.1'. Adding certificate verification is strongly advised. See: https://urllib3.readthedocs.io/en/1.26.x/advanced-usage.html#ssl-warnings\n",
      "  warnings.warn(\n"
     ]
    },
    {
     "name": "stdout",
     "output_type": "stream",
     "text": [
      "Page 17 is done!\n"
     ]
    },
    {
     "name": "stderr",
     "output_type": "stream",
     "text": [
      "c:\\Users\\shaoh\\anaconda3\\Lib\\site-packages\\urllib3\\connectionpool.py:1061: InsecureRequestWarning: Unverified HTTPS request is being made to host '127.0.0.1'. Adding certificate verification is strongly advised. See: https://urllib3.readthedocs.io/en/1.26.x/advanced-usage.html#ssl-warnings\n",
      "  warnings.warn(\n",
      "c:\\Users\\shaoh\\anaconda3\\Lib\\site-packages\\urllib3\\connectionpool.py:1061: InsecureRequestWarning: Unverified HTTPS request is being made to host '127.0.0.1'. Adding certificate verification is strongly advised. See: https://urllib3.readthedocs.io/en/1.26.x/advanced-usage.html#ssl-warnings\n",
      "  warnings.warn(\n"
     ]
    },
    {
     "name": "stdout",
     "output_type": "stream",
     "text": [
      "Page 18 is done!\n"
     ]
    },
    {
     "name": "stderr",
     "output_type": "stream",
     "text": [
      "c:\\Users\\shaoh\\anaconda3\\Lib\\site-packages\\urllib3\\connectionpool.py:1061: InsecureRequestWarning: Unverified HTTPS request is being made to host '127.0.0.1'. Adding certificate verification is strongly advised. See: https://urllib3.readthedocs.io/en/1.26.x/advanced-usage.html#ssl-warnings\n",
      "  warnings.warn(\n",
      "c:\\Users\\shaoh\\anaconda3\\Lib\\site-packages\\urllib3\\connectionpool.py:1061: InsecureRequestWarning: Unverified HTTPS request is being made to host '127.0.0.1'. Adding certificate verification is strongly advised. See: https://urllib3.readthedocs.io/en/1.26.x/advanced-usage.html#ssl-warnings\n",
      "  warnings.warn(\n"
     ]
    },
    {
     "name": "stdout",
     "output_type": "stream",
     "text": [
      "Page 19 is done!\n"
     ]
    },
    {
     "name": "stderr",
     "output_type": "stream",
     "text": [
      "c:\\Users\\shaoh\\anaconda3\\Lib\\site-packages\\urllib3\\connectionpool.py:1061: InsecureRequestWarning: Unverified HTTPS request is being made to host '127.0.0.1'. Adding certificate verification is strongly advised. See: https://urllib3.readthedocs.io/en/1.26.x/advanced-usage.html#ssl-warnings\n",
      "  warnings.warn(\n",
      "c:\\Users\\shaoh\\anaconda3\\Lib\\site-packages\\urllib3\\connectionpool.py:1061: InsecureRequestWarning: Unverified HTTPS request is being made to host '127.0.0.1'. Adding certificate verification is strongly advised. See: https://urllib3.readthedocs.io/en/1.26.x/advanced-usage.html#ssl-warnings\n",
      "  warnings.warn(\n"
     ]
    },
    {
     "name": "stdout",
     "output_type": "stream",
     "text": [
      "Page 20 is done!\n"
     ]
    },
    {
     "name": "stderr",
     "output_type": "stream",
     "text": [
      "c:\\Users\\shaoh\\anaconda3\\Lib\\site-packages\\urllib3\\connectionpool.py:1061: InsecureRequestWarning: Unverified HTTPS request is being made to host '127.0.0.1'. Adding certificate verification is strongly advised. See: https://urllib3.readthedocs.io/en/1.26.x/advanced-usage.html#ssl-warnings\n",
      "  warnings.warn(\n",
      "c:\\Users\\shaoh\\anaconda3\\Lib\\site-packages\\urllib3\\connectionpool.py:1061: InsecureRequestWarning: Unverified HTTPS request is being made to host '127.0.0.1'. Adding certificate verification is strongly advised. See: https://urllib3.readthedocs.io/en/1.26.x/advanced-usage.html#ssl-warnings\n",
      "  warnings.warn(\n"
     ]
    },
    {
     "name": "stdout",
     "output_type": "stream",
     "text": [
      "Page 21 is done!\n"
     ]
    },
    {
     "name": "stderr",
     "output_type": "stream",
     "text": [
      "c:\\Users\\shaoh\\anaconda3\\Lib\\site-packages\\urllib3\\connectionpool.py:1061: InsecureRequestWarning: Unverified HTTPS request is being made to host '127.0.0.1'. Adding certificate verification is strongly advised. See: https://urllib3.readthedocs.io/en/1.26.x/advanced-usage.html#ssl-warnings\n",
      "  warnings.warn(\n",
      "c:\\Users\\shaoh\\anaconda3\\Lib\\site-packages\\urllib3\\connectionpool.py:1061: InsecureRequestWarning: Unverified HTTPS request is being made to host '127.0.0.1'. Adding certificate verification is strongly advised. See: https://urllib3.readthedocs.io/en/1.26.x/advanced-usage.html#ssl-warnings\n",
      "  warnings.warn(\n"
     ]
    },
    {
     "name": "stdout",
     "output_type": "stream",
     "text": [
      "Page 22 is done!\n"
     ]
    },
    {
     "name": "stderr",
     "output_type": "stream",
     "text": [
      "c:\\Users\\shaoh\\anaconda3\\Lib\\site-packages\\urllib3\\connectionpool.py:1061: InsecureRequestWarning: Unverified HTTPS request is being made to host '127.0.0.1'. Adding certificate verification is strongly advised. See: https://urllib3.readthedocs.io/en/1.26.x/advanced-usage.html#ssl-warnings\n",
      "  warnings.warn(\n",
      "c:\\Users\\shaoh\\anaconda3\\Lib\\site-packages\\urllib3\\connectionpool.py:1061: InsecureRequestWarning: Unverified HTTPS request is being made to host '127.0.0.1'. Adding certificate verification is strongly advised. See: https://urllib3.readthedocs.io/en/1.26.x/advanced-usage.html#ssl-warnings\n",
      "  warnings.warn(\n"
     ]
    },
    {
     "name": "stdout",
     "output_type": "stream",
     "text": [
      "Page 23 is done!\n"
     ]
    },
    {
     "name": "stderr",
     "output_type": "stream",
     "text": [
      "c:\\Users\\shaoh\\anaconda3\\Lib\\site-packages\\urllib3\\connectionpool.py:1061: InsecureRequestWarning: Unverified HTTPS request is being made to host '127.0.0.1'. Adding certificate verification is strongly advised. See: https://urllib3.readthedocs.io/en/1.26.x/advanced-usage.html#ssl-warnings\n",
      "  warnings.warn(\n",
      "c:\\Users\\shaoh\\anaconda3\\Lib\\site-packages\\urllib3\\connectionpool.py:1061: InsecureRequestWarning: Unverified HTTPS request is being made to host '127.0.0.1'. Adding certificate verification is strongly advised. See: https://urllib3.readthedocs.io/en/1.26.x/advanced-usage.html#ssl-warnings\n",
      "  warnings.warn(\n"
     ]
    },
    {
     "name": "stdout",
     "output_type": "stream",
     "text": [
      "Page 24 is done!\n"
     ]
    },
    {
     "name": "stderr",
     "output_type": "stream",
     "text": [
      "c:\\Users\\shaoh\\anaconda3\\Lib\\site-packages\\urllib3\\connectionpool.py:1061: InsecureRequestWarning: Unverified HTTPS request is being made to host '127.0.0.1'. Adding certificate verification is strongly advised. See: https://urllib3.readthedocs.io/en/1.26.x/advanced-usage.html#ssl-warnings\n",
      "  warnings.warn(\n",
      "c:\\Users\\shaoh\\anaconda3\\Lib\\site-packages\\urllib3\\connectionpool.py:1061: InsecureRequestWarning: Unverified HTTPS request is being made to host '127.0.0.1'. Adding certificate verification is strongly advised. See: https://urllib3.readthedocs.io/en/1.26.x/advanced-usage.html#ssl-warnings\n",
      "  warnings.warn(\n"
     ]
    },
    {
     "name": "stdout",
     "output_type": "stream",
     "text": [
      "Page 25 is done!\n"
     ]
    },
    {
     "name": "stderr",
     "output_type": "stream",
     "text": [
      "c:\\Users\\shaoh\\anaconda3\\Lib\\site-packages\\urllib3\\connectionpool.py:1061: InsecureRequestWarning: Unverified HTTPS request is being made to host '127.0.0.1'. Adding certificate verification is strongly advised. See: https://urllib3.readthedocs.io/en/1.26.x/advanced-usage.html#ssl-warnings\n",
      "  warnings.warn(\n",
      "c:\\Users\\shaoh\\anaconda3\\Lib\\site-packages\\urllib3\\connectionpool.py:1061: InsecureRequestWarning: Unverified HTTPS request is being made to host '127.0.0.1'. Adding certificate verification is strongly advised. See: https://urllib3.readthedocs.io/en/1.26.x/advanced-usage.html#ssl-warnings\n",
      "  warnings.warn(\n"
     ]
    },
    {
     "name": "stdout",
     "output_type": "stream",
     "text": [
      "Page 26 is done!\n"
     ]
    },
    {
     "name": "stderr",
     "output_type": "stream",
     "text": [
      "c:\\Users\\shaoh\\anaconda3\\Lib\\site-packages\\urllib3\\connectionpool.py:1061: InsecureRequestWarning: Unverified HTTPS request is being made to host '127.0.0.1'. Adding certificate verification is strongly advised. See: https://urllib3.readthedocs.io/en/1.26.x/advanced-usage.html#ssl-warnings\n",
      "  warnings.warn(\n",
      "c:\\Users\\shaoh\\anaconda3\\Lib\\site-packages\\urllib3\\connectionpool.py:1061: InsecureRequestWarning: Unverified HTTPS request is being made to host '127.0.0.1'. Adding certificate verification is strongly advised. See: https://urllib3.readthedocs.io/en/1.26.x/advanced-usage.html#ssl-warnings\n",
      "  warnings.warn(\n"
     ]
    },
    {
     "name": "stdout",
     "output_type": "stream",
     "text": [
      "Page 27 is done!\n"
     ]
    },
    {
     "name": "stderr",
     "output_type": "stream",
     "text": [
      "c:\\Users\\shaoh\\anaconda3\\Lib\\site-packages\\urllib3\\connectionpool.py:1061: InsecureRequestWarning: Unverified HTTPS request is being made to host '127.0.0.1'. Adding certificate verification is strongly advised. See: https://urllib3.readthedocs.io/en/1.26.x/advanced-usage.html#ssl-warnings\n",
      "  warnings.warn(\n",
      "c:\\Users\\shaoh\\anaconda3\\Lib\\site-packages\\urllib3\\connectionpool.py:1061: InsecureRequestWarning: Unverified HTTPS request is being made to host '127.0.0.1'. Adding certificate verification is strongly advised. See: https://urllib3.readthedocs.io/en/1.26.x/advanced-usage.html#ssl-warnings\n",
      "  warnings.warn(\n"
     ]
    },
    {
     "name": "stdout",
     "output_type": "stream",
     "text": [
      "Page 28 is done!\n"
     ]
    },
    {
     "name": "stderr",
     "output_type": "stream",
     "text": [
      "c:\\Users\\shaoh\\anaconda3\\Lib\\site-packages\\urllib3\\connectionpool.py:1061: InsecureRequestWarning: Unverified HTTPS request is being made to host '127.0.0.1'. Adding certificate verification is strongly advised. See: https://urllib3.readthedocs.io/en/1.26.x/advanced-usage.html#ssl-warnings\n",
      "  warnings.warn(\n",
      "c:\\Users\\shaoh\\anaconda3\\Lib\\site-packages\\urllib3\\connectionpool.py:1061: InsecureRequestWarning: Unverified HTTPS request is being made to host '127.0.0.1'. Adding certificate verification is strongly advised. See: https://urllib3.readthedocs.io/en/1.26.x/advanced-usage.html#ssl-warnings\n",
      "  warnings.warn(\n"
     ]
    },
    {
     "name": "stdout",
     "output_type": "stream",
     "text": [
      "Page 29 is done!\n"
     ]
    },
    {
     "name": "stderr",
     "output_type": "stream",
     "text": [
      "c:\\Users\\shaoh\\anaconda3\\Lib\\site-packages\\urllib3\\connectionpool.py:1061: InsecureRequestWarning: Unverified HTTPS request is being made to host '127.0.0.1'. Adding certificate verification is strongly advised. See: https://urllib3.readthedocs.io/en/1.26.x/advanced-usage.html#ssl-warnings\n",
      "  warnings.warn(\n"
     ]
    },
    {
     "name": "stdout",
     "output_type": "stream",
     "text": [
      "Page 30 is done!\n",
      "No data!\n",
      "blocked!\n"
     ]
    },
    {
     "name": "stderr",
     "output_type": "stream",
     "text": [
      "c:\\Users\\shaoh\\anaconda3\\Lib\\site-packages\\urllib3\\connectionpool.py:1061: InsecureRequestWarning: Unverified HTTPS request is being made to host '127.0.0.1'. Adding certificate verification is strongly advised. See: https://urllib3.readthedocs.io/en/1.26.x/advanced-usage.html#ssl-warnings\n",
      "  warnings.warn(\n"
     ]
    }
   ],
   "source": [
    "# read movie list\n",
    "movie_list = pd.read_csv('../analysis/MovieDouban250.csv')\n",
    "# each line as a movie, convert to list of dict\n",
    "movie_list = movie_list.to_dict('records')\n",
    "print(movie_list)\n",
    "\n",
    "# get short for each movie\n",
    "for movie in movie_list:\n",
    "    movie_url = movie['电影链接']\n",
    "    max_page = 30\n",
    "    data_path = './data/'\n",
    "    file_name = movie['电影名称'].replace(' ', '').split('/')[0].replace('\\xa0', '')\n",
    "    ret = get_short(movie_url, max_page, data_path, file_name)\n",
    "    if ret == 1:\n",
    "        print(\"blocked!\")\n",
    "        break\n",
    "    print(movie['电影名称'] + ' is done!')\n",
    "\n"
   ]
  }
 ],
 "metadata": {
  "kernelspec": {
   "display_name": "base",
   "language": "python",
   "name": "python3"
  },
  "language_info": {
   "codemirror_mode": {
    "name": "ipython",
    "version": 3
   },
   "file_extension": ".py",
   "mimetype": "text/x-python",
   "name": "python",
   "nbconvert_exporter": "python",
   "pygments_lexer": "ipython3",
   "version": "3.11.5"
  }
 },
 "nbformat": 4,
 "nbformat_minor": 2
}
