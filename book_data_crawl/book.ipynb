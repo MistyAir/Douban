{
 "cells": [
  {
   "cell_type": "code",
   "execution_count": 82,
   "metadata": {},
   "outputs": [],
   "source": [
    "import requests\n",
    "from bs4 import BeautifulSoup\n",
    "import pandas as pd\n",
    "import os\n",
    "import random\n",
    "from time import sleep"
   ]
  },
  {
   "cell_type": "code",
   "execution_count": 2,
   "metadata": {},
   "outputs": [],
   "source": [
    "h1 = {\n",
    "'Cookie': 'bid=pWHRXljqlnw; _pk_id.100001.4cf6=1889b80fc0472f29.1700409010.; __utmc=30149280; __utmz=30149280.1700409010.1.1.utmcsr=google|utmccn=(organic)|utmcmd=organic|utmctr=(not%20provided); __utmc=223695111; __utmz=223695111.1700409010.1.1.utmcsr=google|utmccn=(organic)|utmcmd=organic|utmctr=(not%20provided); _ga=GA1.1.5521471.1700409010; ll=\"118282\"; __utma=30149280.5521471.1700409010.1700409010.1700411523.2; __utma=223695111.1586942768.1700409010.1700409010.1700411523.2; _vwo_uuid_v2=D6D254F941FF811FF3C5BC45942B6A3E4|40c2965b4880f3c13ff94c0a7cdc0e98; _ga_RXNMP372GL=GS1.1.1700413503.2.0.1700413503.60.0.0; _pk_ref.100001.4cf6=%5B%22%22%2C%22%22%2C1700552142%2C%22https%3A%2F%2Fwww.google.com%2F%22%5D; _pk_ses.100001.4cf6=1; ap_v=0,6.0; dbcl2=\"276019366:j+LEQsNs20s\"; ck=_dp9; frodotk_db=\"98c409fbb250fd78ca4c1df316f2f868\"; push_noty_num=0; push_doumail_num=0',\n",
    "'Accept': 'text/html,application/xhtml+xml,application/xml;q=0.9,*/*;q=0.8',\n",
    "'Accept-Encoding': 'gzip, deflate',\n",
    "'Host': 'book.douban.com',\n",
    "'User-Agent': 'Mozilla/5.0 (Macintosh; Intel Mac OS X 10_15_7) AppleWebKit/605.1.15 (KHTML, like Gecko) Version/15.4 Safari/605.1.15',\n",
    "'Accept-Language': 'zh-CN,zh-Hans;q=0.9',\n",
    "'Connection': 'keep-alive'\n",
    "}"
   ]
  },
  {
   "cell_type": "code",
   "execution_count": 64,
   "metadata": {},
   "outputs": [],
   "source": [
    "ip_list = []\n",
    "\n",
    "with open('proxy.txt', 'r') as f:\n",
    "    for line in f.readlines():\n",
    "        ip_list.append(line.strip())\n",
    "\n",
    "#获取ip代理\n",
    "def getip():\n",
    "    proxy= ip_list[random.randint(0,len(ip_list)-1)]\n",
    "    proxy = proxy.replace(\"\\n\",\"\")\n",
    "    proxies={\n",
    "        'http':'http://'+str(proxy),\n",
    "        #'https':'https://'+str(proxy),\n",
    "    }\n",
    "    return proxies\n",
    "\n",
    "def trans_star(v_str):\n",
    "    if 'allstar10' in v_str:\n",
    "        return '1'\n",
    "    elif 'allstar20' in v_str:\n",
    "        return '2'\n",
    "    elif 'allstar30' in v_str:\n",
    "        return '3'\n",
    "    elif 'allstar40' in v_str:\n",
    "        return '4'\n",
    "    elif 'allstar50' in v_str:\n",
    "        return '5'\n",
    "    else:\n",
    "        return 'NaN'"
   ]
  },
  {
   "cell_type": "code",
   "execution_count": 79,
   "metadata": {},
   "outputs": [
    {
     "data": {
      "text/plain": [
       "1.6167300143069443"
      ]
     },
     "execution_count": 79,
     "metadata": {},
     "output_type": "execute_result"
    }
   ],
   "source": [
    "3*random()"
   ]
  },
  {
   "cell_type": "code",
   "execution_count": 83,
   "metadata": {},
   "outputs": [],
   "source": [
    "\n",
    "\n",
    "def get_short(book_url, max_page, data_path, file_name):\n",
    "    df = pd.DataFrame()\n",
    "    path =data_path + file_name + '.csv'\n",
    "    if os.path.exists(path):\n",
    "        print(\"file exists\")\n",
    "        return 0\n",
    "    for i in range(0, max_page):\n",
    "        sleep(3*random.random())\n",
    "        url = book_url + 'comments?start=' + str(i*20) + '&limit=20&status=P&sort=new_score'\n",
    "        res = requests.get(url, headers=h1, verify=False, proxies=getip())\n",
    "        soup = BeautifulSoup(res.text, 'html.parser')\n",
    "        user_names = soup.find_all('span', class_='comment-info')\n",
    "        user_names = [i.find('a').text for i in user_names]\n",
    "        stars = soup.find_all('span', class_='comment-info')\n",
    "        \n",
    "        stars = [i.find_all('span')[0]['class'] for i in stars]\n",
    "        # print(stars)\n",
    "        stars = [trans_star(i) for i in stars]\n",
    "        comment_times = soup.find_all('a', class_='comment-time')\n",
    "        \n",
    "        comment_times = [i.text.strip() for i in comment_times]\n",
    "        geo_ips = soup.find_all('span', class_='comment-location')\n",
    "        # replace ''\n",
    "        geo_ips = [i.text for i in geo_ips]\n",
    "        geo_ips = ['unknown' if ip == '' else ip for ip in geo_ips]\n",
    "        \n",
    "        votes = soup.find_all('span', class_='vote-count')\n",
    "        votes = [i.text for i in votes]\n",
    "        shorts = soup.find_all('span', class_='short')\n",
    "        shorts = [i.text for i in shorts]\n",
    "        shorts = [i.replace(',', '，').replace(' ', '').replace('\\n', '').replace('\\r', '') for i in shorts]\n",
    "\n",
    "        pd_data = {'user_name': user_names, 'star': stars, 'comment_time': comment_times, 'geo_ip': geo_ips, 'vote': votes, 'short': shorts}\n",
    "        \n",
    "        pd_data = pd.DataFrame(pd_data)\n",
    "        # display(pd_data) # for testing\n",
    "        df = pd.concat([df, pd_data], axis=0)\n",
    "        print('Page ' + str(i+1) + ' is done!')\n",
    "\n",
    "    if len(df) < 10:\n",
    "        print('No data!')\n",
    "        return 1\n",
    "\n",
    "    df.to_csv(path, index=False)\n",
    "    return 0"
   ]
  },
  {
   "cell_type": "code",
   "execution_count": 71,
   "metadata": {},
   "outputs": [
    {
     "name": "stdout",
     "output_type": "stream",
     "text": [
      "Page 1 is done!\n",
      "Page 2 is done!\n",
      "Page 3 is done!\n",
      "Page 4 is done!\n",
      "Page 5 is done!\n",
      "Page 6 is done!\n",
      "Page 7 is done!\n",
      "Page 8 is done!\n",
      "Page 9 is done!\n",
      "Page 10 is done!\n",
      "Page 11 is done!\n",
      "Page 12 is done!\n",
      "Page 13 is done!\n",
      "Page 14 is done!\n",
      "Page 15 is done!\n",
      "Page 16 is done!\n",
      "Page 17 is done!\n",
      "Page 18 is done!\n",
      "Page 19 is done!\n",
      "Page 20 is done!\n",
      "Page 21 is done!\n",
      "Page 22 is done!\n",
      "Page 23 is done!\n",
      "Page 24 is done!\n",
      "Page 25 is done!\n",
      "Page 26 is done!\n",
      "Page 27 is done!\n",
      "Page 28 is done!\n",
      "Page 29 is done!\n",
      "Page 30 is done!\n"
     ]
    },
    {
     "data": {
      "text/plain": [
       "0"
      ]
     },
     "execution_count": 71,
     "metadata": {},
     "output_type": "execute_result"
    }
   ],
   "source": [
    "# test getshort()\n",
    "\n",
    "\n",
    "# get_short(\"https://book.douban.com/subject/1007305/\", 30, './data/', \"红楼梦\")\n",
    "# get_short(\"https://book.douban.com/subject/4913064/\", 30, './data/', \"活着\")\n",
    "# get_short(\"https://book.douban.com/subject/6518605/\", 30, './data/', \"三体全集\")\n"
   ]
  },
  {
   "cell_type": "code",
   "execution_count": 18,
   "metadata": {},
   "outputs": [
    {
     "data": {
      "text/html": [
       "<div>\n",
       "<style scoped>\n",
       "    .dataframe tbody tr th:only-of-type {\n",
       "        vertical-align: middle;\n",
       "    }\n",
       "\n",
       "    .dataframe tbody tr th {\n",
       "        vertical-align: top;\n",
       "    }\n",
       "\n",
       "    .dataframe thead th {\n",
       "        text-align: right;\n",
       "    }\n",
       "</style>\n",
       "<table border=\"1\" class=\"dataframe\">\n",
       "  <thead>\n",
       "    <tr style=\"text-align: right;\">\n",
       "      <th></th>\n",
       "      <th>Unnamed: 0</th>\n",
       "      <th>书名</th>\n",
       "      <th>豆瓣链接</th>\n",
       "      <th>作者</th>\n",
       "      <th>译者</th>\n",
       "      <th>出版社</th>\n",
       "      <th>出版日期</th>\n",
       "      <th>价格</th>\n",
       "      <th>评分</th>\n",
       "      <th>评分人数</th>\n",
       "      <th>一句话评价</th>\n",
       "    </tr>\n",
       "  </thead>\n",
       "  <tbody>\n",
       "    <tr>\n",
       "      <th>0</th>\n",
       "      <td>0</td>\n",
       "      <td>红楼梦</td>\n",
       "      <td>https://book.douban.com/subject/1007305/</td>\n",
       "      <td>[清] 曹雪芹 著</td>\n",
       "      <td>NaN</td>\n",
       "      <td>人民文学出版社</td>\n",
       "      <td>1996-12</td>\n",
       "      <td>59.70元</td>\n",
       "      <td>9.6</td>\n",
       "      <td>413446</td>\n",
       "      <td>都云作者痴，谁解其中味？</td>\n",
       "    </tr>\n",
       "    <tr>\n",
       "      <th>1</th>\n",
       "      <td>1</td>\n",
       "      <td>活着</td>\n",
       "      <td>https://book.douban.com/subject/4913064/</td>\n",
       "      <td>余华</td>\n",
       "      <td>NaN</td>\n",
       "      <td>作家出版社</td>\n",
       "      <td>2012-8-1</td>\n",
       "      <td>20.00元</td>\n",
       "      <td>9.4</td>\n",
       "      <td>805477</td>\n",
       "      <td>生的苦难与伟大</td>\n",
       "    </tr>\n",
       "    <tr>\n",
       "      <th>2</th>\n",
       "      <td>2</td>\n",
       "      <td>1984</td>\n",
       "      <td>https://book.douban.com/subject/4820710/</td>\n",
       "      <td>[英] 乔治·奥威尔</td>\n",
       "      <td>刘绍铭</td>\n",
       "      <td>北京十月文艺出版社</td>\n",
       "      <td>2010-4-1</td>\n",
       "      <td>28.00</td>\n",
       "      <td>9.4</td>\n",
       "      <td>275446</td>\n",
       "      <td>栗树荫下，我出卖你，你出卖我</td>\n",
       "    </tr>\n",
       "  </tbody>\n",
       "</table>\n",
       "</div>"
      ],
      "text/plain": [
       "   Unnamed: 0    书名                                      豆瓣链接           作者  \\\n",
       "0           0   红楼梦  https://book.douban.com/subject/1007305/   [清] 曹雪芹 著    \n",
       "1           1    活着  https://book.douban.com/subject/4913064/          余华    \n",
       "2           2  1984  https://book.douban.com/subject/4820710/  [英] 乔治·奥威尔    \n",
       "\n",
       "      译者          出版社        出版日期       价格   评分    评分人数           一句话评价  \n",
       "0    NaN     人民文学出版社     1996-12    59.70元  9.6  413446    都云作者痴，谁解其中味？  \n",
       "1    NaN       作家出版社    2012-8-1    20.00元  9.4  805477         生的苦难与伟大  \n",
       "2   刘绍铭    北京十月文艺出版社    2010-4-1     28.00  9.4  275446  栗树荫下，我出卖你，你出卖我  "
      ]
     },
     "metadata": {},
     "output_type": "display_data"
    }
   ],
   "source": [
    "from IPython.display import display\n",
    "\n",
    "# read book list\n",
    "book_list = pd.read_csv('../analysis/BookDouban250.csv')\n",
    "\n",
    "display(book_list.head(3))\n",
    "\n",
    "# each line as a book, convert to list of dict\n",
    "book_list = book_list.to_dict('records')"
   ]
  },
  {
   "cell_type": "code",
   "execution_count": 19,
   "metadata": {},
   "outputs": [],
   "source": [
    "# disable warning\n",
    "from requests.packages.urllib3.exceptions import InsecureRequestWarning\n",
    "requests.packages.urllib3.disable_warnings(InsecureRequestWarning)"
   ]
  },
  {
   "cell_type": "code",
   "execution_count": 56,
   "metadata": {},
   "outputs": [],
   "source": [
    "from tqdm.notebook import tqdm"
   ]
  },
  {
   "cell_type": "code",
   "execution_count": 70,
   "metadata": {},
   "outputs": [
    {
     "data": {
      "text/plain": [
       "{'Unnamed: 0': 3,\n",
       " '书名': '三体全集',\n",
       " '豆瓣链接': 'https://book.douban.com/subject/6518605/',\n",
       " '作者': '刘慈欣 ',\n",
       " '译者': nan,\n",
       " '出版社': ' 重庆出版社 ',\n",
       " '出版日期': ' 2012-1 ',\n",
       " '价格': ' 168.00元',\n",
       " '评分': 9.5,\n",
       " '评分人数': 177655,\n",
       " '一句话评价': '地球往事三部曲'}"
      ]
     },
     "execution_count": 70,
     "metadata": {},
     "output_type": "execute_result"
    }
   ],
   "source": [
    "book_list[3]"
   ]
  },
  {
   "cell_type": "code",
   "execution_count": 85,
   "metadata": {},
   "outputs": [
    {
     "data": {
      "application/vnd.jupyter.widget-view+json": {
       "model_id": "54686da15966432c8d049edbc1383f13",
       "version_major": 2,
       "version_minor": 0
      },
      "text/plain": [
       "  0%|          | 0/250 [00:00<?, ?it/s]"
      ]
     },
     "metadata": {},
     "output_type": "display_data"
    },
    {
     "name": "stdout",
     "output_type": "stream",
     "text": [
      "https://book.douban.com/subject/1007305/ 红楼梦\n",
      "file exists\n",
      "红楼梦 is done!\n",
      "https://book.douban.com/subject/4913064/ 活着\n",
      "file exists\n",
      "活着 is done!\n",
      "https://book.douban.com/subject/4820710/ 1984\n",
      "https://book.douban.com/subject/6518605/ 三体全集\n",
      "file exists\n",
      "三体全集 is done!\n",
      "https://book.douban.com/subject/24531956/ 哈利·波特\n",
      "file exists\n",
      "哈利·波特 is done!\n",
      "https://book.douban.com/subject/6082808/ 百年孤独\n",
      "file exists\n",
      "百年孤独 is done!\n",
      "https://book.douban.com/subject/1068920/ 飘\n",
      "file exists\n",
      "飘 is done!\n",
      "https://book.douban.com/subject/27614904/ 房思琪的初恋乐园\n",
      "file exists\n",
      "房思琪的初恋乐园 is done!\n",
      "https://book.douban.com/subject/2035179/ 动物农场\n",
      "file exists\n",
      "动物农场 is done!\n",
      "https://book.douban.com/subject/1019568/ 三国演义（全二册）\n",
      "file exists\n",
      "三国演义（全二册） is done!\n",
      "https://book.douban.com/subject/1040211/ 福尔摩斯探案全集（上中下）\n",
      "file exists\n",
      "福尔摩斯探案全集（上中下） is done!\n",
      "https://book.douban.com/subject/10554308/ 白夜行\n",
      "file exists\n",
      "白夜行 is done!\n",
      "https://book.douban.com/subject/1084336/ 小王子\n",
      "file exists\n",
      "小王子 is done!\n",
      "https://book.douban.com/subject/1060068/ 撒哈拉的故事\n",
      "file exists\n",
      "撒哈拉的故事 is done!\n",
      "https://book.douban.com/subject/1046209/ 安徒生童话故事集\n",
      "file exists\n",
      "安徒生童话故事集 is done!\n",
      "https://book.douban.com/subject/1255625/ 天龙八部\n",
      "file exists\n",
      "天龙八部 is done!\n",
      "https://book.douban.com/subject/1449351/ 呐喊\n",
      "file exists\n",
      "呐喊 is done!\n",
      "https://book.douban.com/subject/26980487/ 悉达多\n",
      "file exists\n",
      "悉达多 is done!\n",
      "https://book.douban.com/subject/6781808/ 杀死一只知更鸟\n",
      "file exists\n",
      "杀死一只知更鸟 is done!\n",
      "https://book.douban.com/subject/20424526/ 邓小平时代\n",
      "file exists\n",
      "邓小平时代 is done!\n",
      "https://book.douban.com/subject/3674537/ 明朝那些事儿（1-9）\n",
      "file exists\n",
      "明朝那些事儿（1-9） is done!\n",
      "https://book.douban.com/subject/30172069/ 失踪的孩子\n",
      "Page 1 is done!\n",
      "Page 2 is done!\n",
      "Page 3 is done!\n",
      "Page 4 is done!\n",
      "Page 5 is done!\n",
      "Page 6 is done!\n",
      "Page 7 is done!\n",
      "Page 8 is done!\n",
      "Page 9 is done!\n",
      "Page 10 is done!\n",
      "Page 11 is done!\n",
      "Page 12 is done!\n",
      "Page 13 is done!\n",
      "Page 14 is done!\n",
      "Page 15 is done!\n"
     ]
    },
    {
     "ename": "TooManyRedirects",
     "evalue": "Exceeded 30 redirects.",
     "output_type": "error",
     "traceback": [
      "\u001b[0;31m---------------------------------------------------------------------------\u001b[0m",
      "\u001b[0;31mTooManyRedirects\u001b[0m                          Traceback (most recent call last)",
      "\u001b[1;32m/Users/chan/Library/Mobile Documents/com~apple~CloudDocs/CityU/CS5481 Data Engineering/Group Project/Douban/book_data_crawl/book.ipynb Cell 11\u001b[0m line \u001b[0;36m<cell line: 2>\u001b[0;34m()\u001b[0m\n\u001b[1;32m      <a href='vscode-notebook-cell:/Users/chan/Library/Mobile%20Documents/com~apple~CloudDocs/CityU/CS5481%20Data%20Engineering/Group%20Project/Douban/book_data_crawl/book.ipynb#W5sZmlsZQ%3D%3D?line=7'>8</a>\u001b[0m \u001b[39mif\u001b[39;00m book[\u001b[39m'\u001b[39m\u001b[39m书名\u001b[39m\u001b[39m'\u001b[39m] \u001b[39m==\u001b[39m \u001b[39m'\u001b[39m\u001b[39m1984\u001b[39m\u001b[39m'\u001b[39m:\n\u001b[1;32m      <a href='vscode-notebook-cell:/Users/chan/Library/Mobile%20Documents/com~apple~CloudDocs/CityU/CS5481%20Data%20Engineering/Group%20Project/Douban/book_data_crawl/book.ipynb#W5sZmlsZQ%3D%3D?line=8'>9</a>\u001b[0m     \u001b[39mcontinue\u001b[39;00m\n\u001b[0;32m---> <a href='vscode-notebook-cell:/Users/chan/Library/Mobile%20Documents/com~apple~CloudDocs/CityU/CS5481%20Data%20Engineering/Group%20Project/Douban/book_data_crawl/book.ipynb#W5sZmlsZQ%3D%3D?line=9'>10</a>\u001b[0m ret \u001b[39m=\u001b[39m get_short(book_url, max_page, data_path, file_name)\n\u001b[1;32m     <a href='vscode-notebook-cell:/Users/chan/Library/Mobile%20Documents/com~apple~CloudDocs/CityU/CS5481%20Data%20Engineering/Group%20Project/Douban/book_data_crawl/book.ipynb#W5sZmlsZQ%3D%3D?line=11'>12</a>\u001b[0m \u001b[39mif\u001b[39;00m ret \u001b[39m==\u001b[39m \u001b[39m1\u001b[39m:\n\u001b[1;32m     <a href='vscode-notebook-cell:/Users/chan/Library/Mobile%20Documents/com~apple~CloudDocs/CityU/CS5481%20Data%20Engineering/Group%20Project/Douban/book_data_crawl/book.ipynb#W5sZmlsZQ%3D%3D?line=12'>13</a>\u001b[0m     \u001b[39mprint\u001b[39m(\u001b[39m\"\u001b[39m\u001b[39mblocked!\u001b[39m\u001b[39m\"\u001b[39m)\n",
      "\u001b[1;32m/Users/chan/Library/Mobile Documents/com~apple~CloudDocs/CityU/CS5481 Data Engineering/Group Project/Douban/book_data_crawl/book.ipynb Cell 11\u001b[0m line \u001b[0;36mget_short\u001b[0;34m(book_url, max_page, data_path, file_name)\u001b[0m\n\u001b[1;32m      <a href='vscode-notebook-cell:/Users/chan/Library/Mobile%20Documents/com~apple~CloudDocs/CityU/CS5481%20Data%20Engineering/Group%20Project/Douban/book_data_crawl/book.ipynb#W5sZmlsZQ%3D%3D?line=7'>8</a>\u001b[0m sleep(\u001b[39m3\u001b[39m\u001b[39m*\u001b[39mrandom\u001b[39m.\u001b[39mrandom())\n\u001b[1;32m      <a href='vscode-notebook-cell:/Users/chan/Library/Mobile%20Documents/com~apple~CloudDocs/CityU/CS5481%20Data%20Engineering/Group%20Project/Douban/book_data_crawl/book.ipynb#W5sZmlsZQ%3D%3D?line=8'>9</a>\u001b[0m url \u001b[39m=\u001b[39m book_url \u001b[39m+\u001b[39m \u001b[39m'\u001b[39m\u001b[39mcomments?start=\u001b[39m\u001b[39m'\u001b[39m \u001b[39m+\u001b[39m \u001b[39mstr\u001b[39m(i\u001b[39m*\u001b[39m\u001b[39m20\u001b[39m) \u001b[39m+\u001b[39m \u001b[39m'\u001b[39m\u001b[39m&limit=20&status=P&sort=new_score\u001b[39m\u001b[39m'\u001b[39m\n\u001b[0;32m---> <a href='vscode-notebook-cell:/Users/chan/Library/Mobile%20Documents/com~apple~CloudDocs/CityU/CS5481%20Data%20Engineering/Group%20Project/Douban/book_data_crawl/book.ipynb#W5sZmlsZQ%3D%3D?line=9'>10</a>\u001b[0m res \u001b[39m=\u001b[39m requests\u001b[39m.\u001b[39;49mget(url, headers\u001b[39m=\u001b[39;49mh1, verify\u001b[39m=\u001b[39;49m\u001b[39mFalse\u001b[39;49;00m, proxies\u001b[39m=\u001b[39;49mgetip())\n\u001b[1;32m     <a href='vscode-notebook-cell:/Users/chan/Library/Mobile%20Documents/com~apple~CloudDocs/CityU/CS5481%20Data%20Engineering/Group%20Project/Douban/book_data_crawl/book.ipynb#W5sZmlsZQ%3D%3D?line=10'>11</a>\u001b[0m soup \u001b[39m=\u001b[39m BeautifulSoup(res\u001b[39m.\u001b[39mtext, \u001b[39m'\u001b[39m\u001b[39mhtml.parser\u001b[39m\u001b[39m'\u001b[39m)\n\u001b[1;32m     <a href='vscode-notebook-cell:/Users/chan/Library/Mobile%20Documents/com~apple~CloudDocs/CityU/CS5481%20Data%20Engineering/Group%20Project/Douban/book_data_crawl/book.ipynb#W5sZmlsZQ%3D%3D?line=11'>12</a>\u001b[0m user_names \u001b[39m=\u001b[39m soup\u001b[39m.\u001b[39mfind_all(\u001b[39m'\u001b[39m\u001b[39mspan\u001b[39m\u001b[39m'\u001b[39m, class_\u001b[39m=\u001b[39m\u001b[39m'\u001b[39m\u001b[39mcomment-info\u001b[39m\u001b[39m'\u001b[39m)\n",
      "File \u001b[0;32m~/miniforge3/envs/py3.9env/lib/python3.9/site-packages/requests/api.py:73\u001b[0m, in \u001b[0;36mget\u001b[0;34m(url, params, **kwargs)\u001b[0m\n\u001b[1;32m     62\u001b[0m \u001b[39mdef\u001b[39;00m \u001b[39mget\u001b[39m(url, params\u001b[39m=\u001b[39m\u001b[39mNone\u001b[39;00m, \u001b[39m*\u001b[39m\u001b[39m*\u001b[39mkwargs):\n\u001b[1;32m     63\u001b[0m     \u001b[39mr\u001b[39m\u001b[39m\"\"\"Sends a GET request.\u001b[39;00m\n\u001b[1;32m     64\u001b[0m \n\u001b[1;32m     65\u001b[0m \u001b[39m    :param url: URL for the new :class:`Request` object.\u001b[39;00m\n\u001b[0;32m   (...)\u001b[0m\n\u001b[1;32m     70\u001b[0m \u001b[39m    :rtype: requests.Response\u001b[39;00m\n\u001b[1;32m     71\u001b[0m \u001b[39m    \"\"\"\u001b[39;00m\n\u001b[0;32m---> 73\u001b[0m     \u001b[39mreturn\u001b[39;00m request(\u001b[39m\"\u001b[39;49m\u001b[39mget\u001b[39;49m\u001b[39m\"\u001b[39;49m, url, params\u001b[39m=\u001b[39;49mparams, \u001b[39m*\u001b[39;49m\u001b[39m*\u001b[39;49mkwargs)\n",
      "File \u001b[0;32m~/miniforge3/envs/py3.9env/lib/python3.9/site-packages/requests/api.py:59\u001b[0m, in \u001b[0;36mrequest\u001b[0;34m(method, url, **kwargs)\u001b[0m\n\u001b[1;32m     55\u001b[0m \u001b[39m# By using the 'with' statement we are sure the session is closed, thus we\u001b[39;00m\n\u001b[1;32m     56\u001b[0m \u001b[39m# avoid leaving sockets open which can trigger a ResourceWarning in some\u001b[39;00m\n\u001b[1;32m     57\u001b[0m \u001b[39m# cases, and look like a memory leak in others.\u001b[39;00m\n\u001b[1;32m     58\u001b[0m \u001b[39mwith\u001b[39;00m sessions\u001b[39m.\u001b[39mSession() \u001b[39mas\u001b[39;00m session:\n\u001b[0;32m---> 59\u001b[0m     \u001b[39mreturn\u001b[39;00m session\u001b[39m.\u001b[39;49mrequest(method\u001b[39m=\u001b[39;49mmethod, url\u001b[39m=\u001b[39;49murl, \u001b[39m*\u001b[39;49m\u001b[39m*\u001b[39;49mkwargs)\n",
      "File \u001b[0;32m~/miniforge3/envs/py3.9env/lib/python3.9/site-packages/requests/sessions.py:587\u001b[0m, in \u001b[0;36mSession.request\u001b[0;34m(self, method, url, params, data, headers, cookies, files, auth, timeout, allow_redirects, proxies, hooks, stream, verify, cert, json)\u001b[0m\n\u001b[1;32m    582\u001b[0m send_kwargs \u001b[39m=\u001b[39m {\n\u001b[1;32m    583\u001b[0m     \u001b[39m\"\u001b[39m\u001b[39mtimeout\u001b[39m\u001b[39m\"\u001b[39m: timeout,\n\u001b[1;32m    584\u001b[0m     \u001b[39m\"\u001b[39m\u001b[39mallow_redirects\u001b[39m\u001b[39m\"\u001b[39m: allow_redirects,\n\u001b[1;32m    585\u001b[0m }\n\u001b[1;32m    586\u001b[0m send_kwargs\u001b[39m.\u001b[39mupdate(settings)\n\u001b[0;32m--> 587\u001b[0m resp \u001b[39m=\u001b[39m \u001b[39mself\u001b[39;49m\u001b[39m.\u001b[39;49msend(prep, \u001b[39m*\u001b[39;49m\u001b[39m*\u001b[39;49msend_kwargs)\n\u001b[1;32m    589\u001b[0m \u001b[39mreturn\u001b[39;00m resp\n",
      "File \u001b[0;32m~/miniforge3/envs/py3.9env/lib/python3.9/site-packages/requests/sessions.py:723\u001b[0m, in \u001b[0;36mSession.send\u001b[0;34m(self, request, **kwargs)\u001b[0m\n\u001b[1;32m    720\u001b[0m \u001b[39mif\u001b[39;00m allow_redirects:\n\u001b[1;32m    721\u001b[0m     \u001b[39m# Redirect resolving generator.\u001b[39;00m\n\u001b[1;32m    722\u001b[0m     gen \u001b[39m=\u001b[39m \u001b[39mself\u001b[39m\u001b[39m.\u001b[39mresolve_redirects(r, request, \u001b[39m*\u001b[39m\u001b[39m*\u001b[39mkwargs)\n\u001b[0;32m--> 723\u001b[0m     history \u001b[39m=\u001b[39m [resp \u001b[39mfor\u001b[39;00m resp \u001b[39min\u001b[39;00m gen]\n\u001b[1;32m    724\u001b[0m \u001b[39melse\u001b[39;00m:\n\u001b[1;32m    725\u001b[0m     history \u001b[39m=\u001b[39m []\n",
      "File \u001b[0;32m~/miniforge3/envs/py3.9env/lib/python3.9/site-packages/requests/sessions.py:723\u001b[0m, in \u001b[0;36m<listcomp>\u001b[0;34m(.0)\u001b[0m\n\u001b[1;32m    720\u001b[0m \u001b[39mif\u001b[39;00m allow_redirects:\n\u001b[1;32m    721\u001b[0m     \u001b[39m# Redirect resolving generator.\u001b[39;00m\n\u001b[1;32m    722\u001b[0m     gen \u001b[39m=\u001b[39m \u001b[39mself\u001b[39m\u001b[39m.\u001b[39mresolve_redirects(r, request, \u001b[39m*\u001b[39m\u001b[39m*\u001b[39mkwargs)\n\u001b[0;32m--> 723\u001b[0m     history \u001b[39m=\u001b[39m [resp \u001b[39mfor\u001b[39;00m resp \u001b[39min\u001b[39;00m gen]\n\u001b[1;32m    724\u001b[0m \u001b[39melse\u001b[39;00m:\n\u001b[1;32m    725\u001b[0m     history \u001b[39m=\u001b[39m []\n",
      "File \u001b[0;32m~/miniforge3/envs/py3.9env/lib/python3.9/site-packages/requests/sessions.py:191\u001b[0m, in \u001b[0;36mSessionRedirectMixin.resolve_redirects\u001b[0;34m(self, resp, req, stream, timeout, verify, cert, proxies, yield_requests, **adapter_kwargs)\u001b[0m\n\u001b[1;32m    188\u001b[0m     resp\u001b[39m.\u001b[39mraw\u001b[39m.\u001b[39mread(decode_content\u001b[39m=\u001b[39m\u001b[39mFalse\u001b[39;00m)\n\u001b[1;32m    190\u001b[0m \u001b[39mif\u001b[39;00m \u001b[39mlen\u001b[39m(resp\u001b[39m.\u001b[39mhistory) \u001b[39m>\u001b[39m\u001b[39m=\u001b[39m \u001b[39mself\u001b[39m\u001b[39m.\u001b[39mmax_redirects:\n\u001b[0;32m--> 191\u001b[0m     \u001b[39mraise\u001b[39;00m TooManyRedirects(\n\u001b[1;32m    192\u001b[0m         \u001b[39mf\u001b[39m\u001b[39m\"\u001b[39m\u001b[39mExceeded \u001b[39m\u001b[39m{\u001b[39;00m\u001b[39mself\u001b[39m\u001b[39m.\u001b[39mmax_redirects\u001b[39m}\u001b[39;00m\u001b[39m redirects.\u001b[39m\u001b[39m\"\u001b[39m, response\u001b[39m=\u001b[39mresp\n\u001b[1;32m    193\u001b[0m     )\n\u001b[1;32m    195\u001b[0m \u001b[39m# Release the connection back into the pool.\u001b[39;00m\n\u001b[1;32m    196\u001b[0m resp\u001b[39m.\u001b[39mclose()\n",
      "\u001b[0;31mTooManyRedirects\u001b[0m: Exceeded 30 redirects."
     ]
    }
   ],
   "source": [
    "\n",
    "# get short for each book\n",
    "for book in tqdm(book_list):\n",
    "    book_url = book['豆瓣链接']# + \"?start=0&limit=20&status=P&sort=new_score\"\n",
    "    max_page = 30\n",
    "    data_path = './data/'\n",
    "    file_name = book['书名'].replace(' ', '').split('/')[0].replace('\\xa0', '')\n",
    "    print(book_url, file_name)\n",
    "    if book['书名'] == '1984':\n",
    "        continue\n",
    "    ret = get_short(book_url, max_page, data_path, file_name)\n",
    "    \n",
    "    if ret == 1:\n",
    "        print(\"blocked!\")\n",
    "        break\n",
    "    \n",
    "    print(book['书名'] + ' is done!')\n"
   ]
  },
  {
   "cell_type": "code",
   "execution_count": null,
   "metadata": {},
   "outputs": [],
   "source": []
  }
 ],
 "metadata": {
  "kernelspec": {
   "display_name": "py3.9env",
   "language": "python",
   "name": "python3"
  },
  "language_info": {
   "codemirror_mode": {
    "name": "ipython",
    "version": 3
   },
   "file_extension": ".py",
   "mimetype": "text/x-python",
   "name": "python",
   "nbconvert_exporter": "python",
   "pygments_lexer": "ipython3",
   "version": "3.9.10"
  }
 },
 "nbformat": 4,
 "nbformat_minor": 2
}
