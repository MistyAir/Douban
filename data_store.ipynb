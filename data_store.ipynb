{
 "cells": [
  {
   "cell_type": "code",
   "execution_count": 3,
   "metadata": {},
   "outputs": [],
   "source": [
    "# connect to mysql\n",
    "import pymysql\n",
    "import pandas as pd\n",
    "import numpy as np\n",
    "\n",
    "connection = pymysql.connect(host='gz.hsh.moe', user='hsh', password='Qwe159357123')\n"
   ]
  },
  {
   "cell_type": "code",
   "execution_count": 5,
   "metadata": {},
   "outputs": [
    {
     "name": "stdout",
     "output_type": "stream",
     "text": [
      "database douban exists\n"
     ]
    }
   ],
   "source": [
    "# check if the database exists\n",
    "\n",
    "db_name = 'douban'\n",
    "cursor = connection.cursor()\n",
    "cursor.execute('show databases')\n",
    "db_list = cursor.fetchall()\n",
    "db_list = [x[0] for x in db_list]\n",
    "if db_name not in db_list:\n",
    "    print('database %s does not exist' % db_name)\n",
    "    cursor.execute('create database %s' % db_name)\n",
    "    connection.commit()\n",
    "else:\n",
    "    print('database %s exists' % db_name)\n",
    "\n",
    "    "
   ]
  },
  {
   "cell_type": "code",
   "execution_count": 7,
   "metadata": {},
   "outputs": [
    {
     "name": "stdout",
     "output_type": "stream",
     "text": [
      "table movie exists\n",
      "table book exists\n",
      "table music exists\n"
     ]
    }
   ],
   "source": [
    "# check if the table exists\n",
    "def check_and_create_table(table_name):\n",
    "    cursor.execute('use %s' % db_name)\n",
    "    cursor.execute('show tables')\n",
    "    table_list = cursor.fetchall()\n",
    "    table_list = [x[0] for x in table_list]\n",
    "    if table_name not in table_list:\n",
    "        print('table %s does not exist' % table_name)\n",
    "        cursor.execute('create table %s (id int primary key auto_increment)' % table_name)\n",
    "        connection.commit()\n",
    "        print('table %s created' % table_name)\n",
    "    else:\n",
    "        print('table %s exists' % table_name)\n",
    "\n",
    "check_and_create_table('movie')\n",
    "check_and_create_table('book')\n",
    "check_and_create_table('music')"
   ]
  },
  {
   "cell_type": "code",
   "execution_count": 23,
   "metadata": {},
   "outputs": [
    {
     "name": "stdout",
     "output_type": "stream",
     "text": [
      "table movie has columns\n",
      "columns: id title url rating rating_num director actor year country category table movie is empty\n",
      "data inserted\n"
     ]
    }
   ],
   "source": [
    "# movie\n",
    "\n",
    "# read data from csv\n",
    "movie = pd.read_csv('analysis/MovieDouban250.csv', index_col=0)\n",
    "movie.head()\n",
    "\n",
    "movie_columns = ['title', 'url', 'rating', 'rating_num', 'director', 'actor', 'year', 'country', 'category']\n",
    "# check if the data exists in the table\n",
    "cursor.execute('use %s' % db_name)\n",
    "cursor.execute('select * from movie')\n",
    "\n",
    "# add columns if the table has no columns\n",
    "if len(cursor.description) == 1:\n",
    "    print('table movie has no columns')\n",
    "    for column in movie_columns:\n",
    "        sql = 'alter table movie add %s varchar(255)' % column\n",
    "        cursor.execute(sql)\n",
    "        connection.commit()\n",
    "    print('columns added')\n",
    "else:\n",
    "    print('table movie has columns')\n",
    "    print('columns: ', end='')\n",
    "    for column in cursor.description:\n",
    "        print(column[0], end=' ')\n",
    "\n",
    "# if the table is empty, insert the data\n",
    "\n",
    "if len(cursor.fetchall()) == 0:\n",
    "    print('table movie is empty')\n",
    "    for i in range(len(movie)):\n",
    "        row = movie.iloc[i]\n",
    "        sql = 'insert into movie (title, url, rating, rating_num, director, actor, year, country, category) \\\n",
    "        values (\"%s\", \"%s\", %f, %d, \"%s\", \"%s\", \"%s\", \"%s\", \"%s\")' % \\\n",
    "        (row['电影名称'], row['电影链接'], row['电影评分'], int(row['评分人数']), row['导演'], row['主演'], row['上映年份'], row['国家'], row['类型'])\n",
    "        cursor.execute(sql)\n",
    "        connection.commit()\n",
    "    print('data inserted')\n",
    "else:\n",
    "    print('table movie is not empty')\n"
   ]
  },
  {
   "cell_type": "code",
   "execution_count": 25,
   "metadata": {},
   "outputs": [
    {
     "name": "stdout",
     "output_type": "stream",
     "text": [
      "table book has no columns\n",
      "columns added\n",
      "table book is empty\n",
      "data inserted\n"
     ]
    }
   ],
   "source": [
    "# book\n",
    "\n",
    "# read data from csv\n",
    "book = pd.read_csv('analysis/BookDouban250.csv', index_col=0)\n",
    "book.head()\n",
    "\n",
    "book_columns = ['title', 'url', 'author', 'translator', 'publisher', 'date', 'price', 'rating', 'rating_num', 'comment']\n",
    "# check if the data exists in the table\n",
    "cursor.execute('use %s' % db_name)\n",
    "cursor.execute('select * from book')\n",
    "\n",
    "# add columns if the table has no columns\n",
    "if len(cursor.description) == 1:\n",
    "    print('table book has no columns')\n",
    "    for column in book_columns:\n",
    "        sql = 'alter table book add %s varchar(255)' % column\n",
    "        cursor.execute(sql)\n",
    "        connection.commit()\n",
    "    print('columns added')\n",
    "else:\n",
    "    print('table book has columns')\n",
    "    print('columns: ', end='')\n",
    "    for column in cursor.description:\n",
    "        print(column[0], end=' ')\n",
    "\n",
    "# if the table is empty, insert the data\n",
    "\n",
    "if len(cursor.fetchall()) == 0:\n",
    "    print('table book is empty')\n",
    "    for i in range(len(book)):\n",
    "        row = book.iloc[i]\n",
    "        sql = 'insert into book (title, url, author, translator, publisher, date, price, rating, rating_num, comment) \\\n",
    "        values (\"%s\", \"%s\", \"%s\", \"%s\", \"%s\", \"%s\", \"%s\", %f, %d, \"%s\")' % \\\n",
    "        (row['书名'], row['豆瓣链接'], row['作者'], row['译者'], row['出版社'], row['出版日期'], row['价格'], row['评分'], int(row['评分人数']), row['一句话评价'])\n",
    "        cursor.execute(sql)\n",
    "        connection.commit()\n",
    "    print('data inserted')\n",
    "else:\n",
    "    print('table book is not empty')"
   ]
  },
  {
   "cell_type": "code",
   "execution_count": 29,
   "metadata": {},
   "outputs": [
    {
     "name": "stdout",
     "output_type": "stream",
     "text": [
      "table music has columns\n",
      "columns: id album url rating rating_num singer date type media style table music is empty\n",
      "data inserted\n"
     ]
    }
   ],
   "source": [
    "# music\n",
    "\n",
    "# read data from csv\n",
    "music = pd.read_csv('analysis/musicDouban250.csv', index_col=0)\n",
    "music.head()\n",
    "\n",
    "music_columns = ['album', 'url', 'rating', 'rating_num', 'singer', 'date', 'type', 'media', 'style']\n",
    "# check if the data exists in the table\n",
    "cursor.execute('use %s' % db_name)\n",
    "cursor.execute('select * from music')\n",
    "\n",
    "# add columns if the table has no columns\n",
    "if len(cursor.description) == 1:\n",
    "    print('table music has no columns')\n",
    "    for column in music_columns:\n",
    "        sql = 'alter table music add %s varchar(255)' % column\n",
    "        cursor.execute(sql)\n",
    "        connection.commit()\n",
    "    print('columns added')\n",
    "else:\n",
    "    print('table music has columns')\n",
    "    print('columns: ', end='')\n",
    "    for column in cursor.description:\n",
    "        print(column[0], end=' ')\n",
    "\n",
    "# if the table is empty, insert the data\n",
    "\n",
    "if len(cursor.fetchall()) == 0:\n",
    "    print('table music is empty')\n",
    "    for i in range(len(music)):\n",
    "        row = music.iloc[i]\n",
    "        sql = 'insert into music (album, url, rating, rating_num, singer, date, type, media, style) \\\n",
    "        values (\"%s\", \"%s\", %f, %d, \"%s\", \"%s\", \"%s\", \"%s\", \"%s\")' % \\\n",
    "        (row['专辑名称'], row['专辑链接'], row['专辑评分'], int(row['评分人数']), row['歌手'], row['发行日期'], row['类型'], row['介质'], row['曲风'])\n",
    "        cursor.execute(sql)\n",
    "        connection.commit()\n",
    "    print('data inserted')"
   ]
  }
 ],
 "metadata": {
  "kernelspec": {
   "display_name": "base",
   "language": "python",
   "name": "python3"
  },
  "language_info": {
   "codemirror_mode": {
    "name": "ipython",
    "version": 3
   },
   "file_extension": ".py",
   "mimetype": "text/x-python",
   "name": "python",
   "nbconvert_exporter": "python",
   "pygments_lexer": "ipython3",
   "version": "3.11.5"
  }
 },
 "nbformat": 4,
 "nbformat_minor": 2
}
