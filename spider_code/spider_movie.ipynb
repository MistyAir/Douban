{
 "cells": [
  {
   "cell_type": "code",
   "execution_count": 1,
   "id": "d91536e2",
   "metadata": {},
   "outputs": [],
   "source": [
    "import requests  \n",
    "from bs4 import BeautifulSoup  \n",
    "import pandas as pd  \n",
    "from time import sleep "
   ]
  },
  {
   "cell_type": "code",
   "execution_count": 2,
   "id": "4334a520",
   "metadata": {},
   "outputs": [],
   "source": [
    "movie_name = []  \n",
    "movie_url = []  \n",
    "movie_star = []  \n",
    "movie_star_people = []  \n",
    "movie_director = []  \n",
    "movie_actor = []  \n",
    "movie_year = []  \n",
    "movie_country = []  \n",
    "movie_type = []  "
   ]
  },
  {
   "cell_type": "code",
   "execution_count": 3,
   "id": "b3a5171e",
   "metadata": {},
   "outputs": [],
   "source": [
    "def get_movie_info(url, headers):\n",
    "    res = requests.get(url, headers=headers)\n",
    "    soup = BeautifulSoup(res.text, 'html.parser')\n",
    "    for movie in soup.select('.item'):\n",
    "        name = movie.select('.hd a')[0].text.replace('\\n', '')\n",
    "        movie_name.append(name)\n",
    "        url = movie.select('.hd a')[0]['href']\n",
    "        movie_url.append(url)\n",
    "        star = movie.select('.rating_num')[0].text\n",
    "        movie_star.append(star)\n",
    "        star_people = movie.select('.star span')[3].text\n",
    "        star_people = star_people.strip().replace('人评价', '')\n",
    "        movie_star_people.append(star_people)\n",
    "        movie_infos = movie.select('.bd p')[0].text.strip()\n",
    "        director = movie_infos.split('\\n')[0].split('   ')[0]\n",
    "        movie_director.append(director)\n",
    "        try:  \n",
    "            actor = movie_infos.split('\\n')[0].split('   ')[1]\n",
    "            movie_actor.append(actor)\n",
    "        except:  \n",
    "            movie_actor.append(None)\n",
    "        if name == '大闹天宫 / 大闹天宫 上下集  /  The Monkey King':  # 大闹天宫，特殊处理\n",
    "            year0 = movie_infos.split('\\n')[1].split('/')[0].strip()\n",
    "            year1 = movie_infos.split('\\n')[1].split('/')[1].strip()\n",
    "            year2 = movie_infos.split('\\n')[1].split('/')[2].strip()\n",
    "            year = year0 + '/' + year1 + '/' + year2\n",
    "            movie_year.append(year)\n",
    "            country = movie_infos.split('\\n')[1].split('/')[3].strip()\n",
    "            movie_country.append(country)\n",
    "            type = movie_infos.split('\\n')[1].split('/')[4].strip()\n",
    "            movie_type.append(type)\n",
    "        else:  # 其他电影，正常处理\n",
    "            year = movie_infos.split('\\n')[1].split('/')[0].strip()\n",
    "            movie_year.append(year)\n",
    "            country = movie_infos.split('\\n')[1].split('/')[1].strip()\n",
    "            movie_country.append(country)\n",
    "            type = movie_infos.split('\\n')[1].split('/')[2].strip()\n",
    "            movie_type.append(type)"
   ]
  },
  {
   "cell_type": "code",
   "execution_count": 4,
   "id": "82e27745",
   "metadata": {},
   "outputs": [],
   "source": [
    "def save_to_csv(csv_name):\n",
    "    df = pd.DataFrame() \n",
    "    df['电影名称'] = movie_name\n",
    "    df['电影链接'] = movie_url\n",
    "    df['电影评分'] = movie_star\n",
    "    df['评分人数'] = movie_star_people\n",
    "    df['导演'] = movie_director\n",
    "    df['主演'] = movie_actor\n",
    "    df['上映年份'] = movie_year\n",
    "    df['国家'] = movie_country\n",
    "    df['类型'] = movie_type\n",
    "    df.to_csv(csv_name, encoding='utf_8_sig') "
   ]
  },
  {
   "cell_type": "code",
   "execution_count": 5,
   "id": "1b7ad0eb",
   "metadata": {},
   "outputs": [
    {
     "name": "stdout",
     "output_type": "stream",
     "text": [
      "开始爬取第1页，地址是:https://movie.douban.com/top250?start=0\n",
      "开始爬取第2页，地址是:https://movie.douban.com/top250?start=25\n",
      "开始爬取第3页，地址是:https://movie.douban.com/top250?start=50\n",
      "开始爬取第4页，地址是:https://movie.douban.com/top250?start=75\n",
      "开始爬取第5页，地址是:https://movie.douban.com/top250?start=100\n",
      "开始爬取第6页，地址是:https://movie.douban.com/top250?start=125\n",
      "开始爬取第7页，地址是:https://movie.douban.com/top250?start=150\n",
      "开始爬取第8页，地址是:https://movie.douban.com/top250?start=175\n",
      "开始爬取第9页，地址是:https://movie.douban.com/top250?start=200\n",
      "开始爬取第10页，地址是:https://movie.douban.com/top250?start=225\n"
     ]
    }
   ],
   "source": [
    "headers = {\n",
    "    'User-Agent': 'Mozilla/5.0 (Windows NT 6.1; WOW64) AppleWebKit/537.36 (KHTML, like Gecko) Chrome/68.0.3440.106 Safari/537.36'}\n",
    "for i in range(10):\n",
    "    page_url = 'https://movie.douban.com/top250?start={}'.format(str(i * 25))\n",
    "    print('开始爬取第{}页，地址是:{}'.format(str(i + 1), page_url))\n",
    "    get_movie_info(page_url, headers)\n",
    "    sleep(1) \n",
    "save_to_csv(csv_name=\"MovieDouban250.csv\")"
   ]
  },
  {
   "cell_type": "code",
   "execution_count": null,
   "id": "0c7f9d76",
   "metadata": {},
   "outputs": [],
   "source": []
  }
 ],
 "metadata": {
  "kernelspec": {
   "display_name": "Python 3 (ipykernel)",
   "language": "python",
   "name": "python3"
  },
  "language_info": {
   "codemirror_mode": {
    "name": "ipython",
    "version": 3
   },
   "file_extension": ".py",
   "mimetype": "text/x-python",
   "name": "python",
   "nbconvert_exporter": "python",
   "pygments_lexer": "ipython3",
   "version": "3.9.13"
  }
 },
 "nbformat": 4,
 "nbformat_minor": 5
}
