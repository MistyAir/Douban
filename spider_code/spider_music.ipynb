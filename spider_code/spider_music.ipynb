{
 "cells": [
  {
   "cell_type": "code",
   "execution_count": 1,
   "id": "f1d2b90d",
   "metadata": {},
   "outputs": [],
   "source": [
    "import requests  \n",
    "from bs4 import BeautifulSoup \n",
    "import pandas as pd  \n",
    "from time import sleep  "
   ]
  },
  {
   "cell_type": "code",
   "execution_count": 2,
   "id": "fb205a18",
   "metadata": {},
   "outputs": [],
   "source": [
    "music_name = []  \n",
    "music_url = []  \n",
    "music_star = []  \n",
    "music_star_people = []  \n",
    "music_singer = []  \n",
    "music_pub_date = []  \n",
    "music_type = []  \n",
    "music_media = []  \n",
    "music_style = []  "
   ]
  },
  {
   "cell_type": "code",
   "execution_count": 3,
   "id": "d0b26416",
   "metadata": {},
   "outputs": [],
   "source": [
    "def get_music_info(url, headers):\n",
    "    res = requests.get(url, headers=headers)\n",
    "    soup = BeautifulSoup(res.text, 'html.parser')\n",
    "    for music in soup.select('.item'):\n",
    "        name = music.select('.pl2 a')[0].text.replace('\\n', '').replace('                ', ' ').strip()  \n",
    "        music_name.append(name)\n",
    "        url = music.select('.pl2 a')[0]['href']  \n",
    "        music_url.append(url)\n",
    "        try:\n",
    "            star = music.select('.rating_nums')[0].text  \n",
    "        except:\n",
    "            star = ''\n",
    "        music_star.append(star)\n",
    "        star_people = music.select('.pl')[1].text \n",
    "        star_people = star_people.strip().replace(' ', '').replace('人评价', '').replace('(\\n', '').replace('\\n)',\n",
    "                                                                                                         '')  \n",
    "        music_star_people.append(star_people)\n",
    "        music_infos = music.select('.pl')[0].text.strip()  \n",
    "        if name == '浮躁' or name == '3颗猫饼干 三颗猫饼干 / Three Cat Cookies':\n",
    "            singer = music_infos.split(' / ')[0]\n",
    "            music_singer.append(singer)\n",
    "            pub_date = music_infos.split(' / ')[1]\n",
    "            music_pub_date.append(pub_date)\n",
    "            type = None\n",
    "            music_type.append(type)\n",
    "            media = music_infos.split(' / ')[2]\n",
    "            music_media.append(media)\n",
    "            style = music_infos.split(' / ')[3]\n",
    "            music_style.append(style)\n",
    "        elif name == '陪我歌唱 苏打绿台北小巨蛋演唱会Live Cd:陪我歌唱':\n",
    "            singer = music_infos.split(' / ')[0]\n",
    "            music_singer.append(singer)\n",
    "            pub_date = music_infos.split(' / ')[1]\n",
    "            music_pub_date.append(pub_date)\n",
    "            type = music_infos.split(' / ')[2]\n",
    "            music_type.append(type)\n",
    "            media = music_infos.split(' / ')[3]\n",
    "            music_media.append(media)\n",
    "            style = None\n",
    "            music_style.append(style)\n",
    "        else:\n",
    "            singer = music_infos.split(' / ')[0]\n",
    "            music_singer.append(singer)\n",
    "            pub_date = music_infos.split(' / ')[1]\n",
    "            music_pub_date.append(pub_date)\n",
    "            type = music_infos.split(' / ')[2]\n",
    "            music_type.append(type)\n",
    "            media = music_infos.split(' / ')[3]\n",
    "            music_media.append(media)\n",
    "            style = music_infos.split(' / ')[4]\n",
    "            music_style.append(style)"
   ]
  },
  {
   "cell_type": "code",
   "execution_count": 4,
   "id": "31eb8f17",
   "metadata": {},
   "outputs": [],
   "source": [
    "def save_to_csv(csv_name):\n",
    "    df = pd.DataFrame()  \n",
    "    df['专辑名称'] = music_name\n",
    "    df['专辑链接'] = music_url\n",
    "    df['专辑评分'] = music_star\n",
    "    df['评分人数'] = music_star_people\n",
    "    df['歌手'] = music_singer\n",
    "    df['发行日期'] = music_pub_date\n",
    "    df['类型'] = music_type\n",
    "    df['介质'] = music_media\n",
    "    df['曲风'] = music_style\n",
    "    df.to_csv(csv_name, encoding='utf_8_sig')  "
   ]
  },
  {
   "cell_type": "code",
   "execution_count": 5,
   "id": "165d6f77",
   "metadata": {},
   "outputs": [
    {
     "name": "stdout",
     "output_type": "stream",
     "text": [
      "开始爬取第1页，地址是:https://music.douban.com/top250?start=0\n",
      "开始爬取第2页，地址是:https://music.douban.com/top250?start=25\n",
      "开始爬取第3页，地址是:https://music.douban.com/top250?start=50\n",
      "开始爬取第4页，地址是:https://music.douban.com/top250?start=75\n",
      "开始爬取第5页，地址是:https://music.douban.com/top250?start=100\n",
      "开始爬取第6页，地址是:https://music.douban.com/top250?start=125\n",
      "开始爬取第7页，地址是:https://music.douban.com/top250?start=150\n",
      "开始爬取第8页，地址是:https://music.douban.com/top250?start=175\n",
      "开始爬取第9页，地址是:https://music.douban.com/top250?start=200\n",
      "开始爬取第10页，地址是:https://music.douban.com/top250?start=225\n"
     ]
    }
   ],
   "source": [
    "headers = {\n",
    "    'User-Agent': 'Mozilla/5.0 (Windows NT 6.1; WOW64) AppleWebKit/537.36 (KHTML, like Gecko) Chrome/68.0.3440.106 Safari/537.36'}\n",
    "for i in range(10):  \n",
    "    page_url = 'https://music.douban.com/top250?start={}'.format(str(i * 25))\n",
    "    print('开始爬取第{}页，地址是:{}'.format(str(i + 1), page_url))\n",
    "    get_music_info(page_url, headers)\n",
    "    sleep(1)  \n",
    "save_to_csv(csv_name=\"musicDouban250.csv\")"
   ]
  },
  {
   "cell_type": "code",
   "execution_count": null,
   "id": "f8f651b0",
   "metadata": {},
   "outputs": [],
   "source": []
  }
 ],
 "metadata": {
  "kernelspec": {
   "display_name": "Python 3 (ipykernel)",
   "language": "python",
   "name": "python3"
  },
  "language_info": {
   "codemirror_mode": {
    "name": "ipython",
    "version": 3
   },
   "file_extension": ".py",
   "mimetype": "text/x-python",
   "name": "python",
   "nbconvert_exporter": "python",
   "pygments_lexer": "ipython3",
   "version": "3.9.13"
  }
 },
 "nbformat": 4,
 "nbformat_minor": 5
}
