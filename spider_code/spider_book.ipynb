{
 "cells": [
  {
   "cell_type": "code",
   "execution_count": 8,
   "id": "9e7ccc05",
   "metadata": {},
   "outputs": [],
   "source": [
    "import requests  \n",
    "from bs4 import BeautifulSoup \n",
    "import pandas as pd  \n",
    "from time import sleep  "
   ]
  },
  {
   "cell_type": "code",
   "execution_count": 9,
   "id": "4acdeb2e",
   "metadata": {},
   "outputs": [],
   "source": [
    "book_name = []  \n",
    "book_url = []  \n",
    "book_star = [] \n",
    "book_star_people = []  \n",
    "book_author = []  \n",
    "book_translater = []  \n",
    "book_publisher = []  \n",
    "book_pub_year = []  \n",
    "book_price = []  \n",
    "book_comment = []  "
   ]
  },
  {
   "cell_type": "code",
   "execution_count": 10,
   "id": "f3482156",
   "metadata": {},
   "outputs": [],
   "source": [
    "def get_book_info(url, headers):\n",
    "    res = requests.get(url, headers=headers)\n",
    "    soup = BeautifulSoup(res.text, 'html.parser')\n",
    "    for book in soup.select('.item'):\n",
    "        name = book.select('.pl2 a')[0]['title']  \n",
    "        book_name.append(name)\n",
    "        bkurl = book.select('.pl2 a')[0]['href']  \n",
    "        book_url.append(bkurl)\n",
    "        star = book.select('.rating_nums')[0].text\n",
    "        book_star.append(star)\n",
    "        star_people = book.select('.pl')[1].text  \n",
    "        star_people = star_people.strip().replace(' ', '').replace('人评价', '').replace('(\\n', '').replace('\\n)',\n",
    "                                                                                                         '') \n",
    "        book_star_people.append(star_people)\n",
    "\n",
    "        if book.select('.quote span'):\n",
    "            book_comment.append(book.select('.quote span')[0].text)\n",
    "        else:\n",
    "            book_comment.append(None)\n",
    "\n",
    "        info = book.select('.pl')[0].text.split('/')\n",
    "        if len(info) == 5:  \n",
    "            book_author.append(info[0])\n",
    "            book_translater.append(info[1])\n",
    "            book_publisher.append(info[2])\n",
    "            book_pub_year.append(info[3])\n",
    "            book_price.append(str(info[4]))\n",
    "        elif len(info) == 4:  \n",
    "            book_author.append(info[0])\n",
    "            book_translater.append(None)\n",
    "            book_publisher.append(info[1])\n",
    "            book_pub_year.append(info[2])\n",
    "            book_price.append(str(info[3]))\n",
    "        elif len(info) == 6:  \n",
    "            book_author.append(info[0])\n",
    "            book_translater.append(info[1])\n",
    "            book_publisher.append(info[2])\n",
    "            book_pub_year.append(info[3])\n",
    "            book_price.append(str(info[4]) + '/' + str(info[5]))\n",
    "        elif len(info) == 3:  \n",
    "            book_author.append(None)\n",
    "            book_translater.append(None)\n",
    "            book_publisher.append(info[0])\n",
    "            book_pub_year.append(info[1])\n",
    "            book_price.append(str(info[2]))\n",
    "        else:\n",
    "            pass"
   ]
  },
  {
   "cell_type": "code",
   "execution_count": 11,
   "id": "92296281",
   "metadata": {},
   "outputs": [],
   "source": [
    "def save_to_csv(csv_name):\n",
    "    df = pd.DataFrame()  \n",
    "    df['书名'] = book_name\n",
    "    df['豆瓣链接'] = book_url\n",
    "    df['作者'] = book_author\n",
    "    df['译者'] = book_translater\n",
    "    df['出版社'] = book_publisher\n",
    "    df['出版日期'] = book_pub_year\n",
    "    df['价格'] = book_price\n",
    "    df['评分'] = book_star\n",
    "    df['评分人数'] = book_star_people\n",
    "    df['一句话评价'] = book_comment\n",
    "    df.to_csv(csv_name, encoding='utf_8_sig')  "
   ]
  },
  {
   "cell_type": "code",
   "execution_count": 12,
   "id": "d1ac4f67",
   "metadata": {},
   "outputs": [
    {
     "name": "stdout",
     "output_type": "stream",
     "text": [
      "开始爬取第1页，地址是:https://book.douban.com/top250?start=0\n",
      "开始爬取第2页，地址是:https://book.douban.com/top250?start=25\n",
      "开始爬取第3页，地址是:https://book.douban.com/top250?start=50\n",
      "开始爬取第4页，地址是:https://book.douban.com/top250?start=75\n",
      "开始爬取第5页，地址是:https://book.douban.com/top250?start=100\n",
      "开始爬取第6页，地址是:https://book.douban.com/top250?start=125\n",
      "开始爬取第7页，地址是:https://book.douban.com/top250?start=150\n",
      "开始爬取第8页，地址是:https://book.douban.com/top250?start=175\n",
      "开始爬取第9页，地址是:https://book.douban.com/top250?start=200\n",
      "开始爬取第10页，地址是:https://book.douban.com/top250?start=225\n"
     ]
    }
   ],
   "source": [
    "headers = {\n",
    "    'User-Agent': 'Mozilla/5.0 (Windows NT 6.1; WOW64) AppleWebKit/537.36 (KHTML, like Gecko) Chrome/68.0.3440.106 Safari/537.36'}\n",
    "for i in range(10):  \n",
    "    page_url = 'https://book.douban.com/top250?start={}'.format(str(i * 25))\n",
    "    print('开始爬取第{}页，地址是:{}'.format(str(i + 1), page_url))\n",
    "    get_book_info(page_url, headers)\n",
    "    sleep(1)  \n",
    "save_to_csv(csv_name=\"BookDouban250.csv\")"
   ]
  },
  {
   "cell_type": "code",
   "execution_count": null,
   "id": "74e8dd78",
   "metadata": {},
   "outputs": [],
   "source": []
  }
 ],
 "metadata": {
  "kernelspec": {
   "display_name": "Python 3 (ipykernel)",
   "language": "python",
   "name": "python3"
  },
  "language_info": {
   "codemirror_mode": {
    "name": "ipython",
    "version": 3
   },
   "file_extension": ".py",
   "mimetype": "text/x-python",
   "name": "python",
   "nbconvert_exporter": "python",
   "pygments_lexer": "ipython3",
   "version": "3.9.13"
  }
 },
 "nbformat": 4,
 "nbformat_minor": 5
}
